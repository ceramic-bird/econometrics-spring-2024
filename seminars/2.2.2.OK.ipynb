{
 "cells": [
  {
   "cell_type": "code",
   "execution_count": 1,
   "id": "7b61fff6-224b-4826-914b-bd901027b149",
   "metadata": {
    "execution": {
     "iopub.execute_input": "2024-02-17T08:53:09.303855Z",
     "iopub.status.busy": "2024-02-17T08:53:09.303855Z",
     "iopub.status.idle": "2024-02-17T08:53:10.945212Z",
     "shell.execute_reply": "2024-02-17T08:53:10.944881Z",
     "shell.execute_reply.started": "2024-02-17T08:53:09.303855Z"
    },
    "tags": []
   },
   "outputs": [],
   "source": [
    "import numpy as np\n",
    "import pandas as pd\n",
    "import statsmodels.formula.api as smf\n",
    "import seaborn as sns\n",
    "import plotly.express as px"
   ]
  },
  {
   "cell_type": "code",
   "execution_count": 2,
   "id": "19e9c9a9-dd5a-4229-ac8b-852d26c0f63b",
   "metadata": {
    "execution": {
     "iopub.execute_input": "2024-02-17T08:53:17.223740Z",
     "iopub.status.busy": "2024-02-17T08:53:17.222740Z",
     "iopub.status.idle": "2024-02-17T08:53:17.233153Z",
     "shell.execute_reply": "2024-02-17T08:53:17.233153Z",
     "shell.execute_reply.started": "2024-02-17T08:53:17.223740Z"
    },
    "tags": []
   },
   "outputs": [
    {
     "data": {
      "text/plain": [
       "(569, 4)"
      ]
     },
     "execution_count": 2,
     "metadata": {},
     "output_type": "execute_result"
    }
   ],
   "source": [
    "# импорт данных из файла как DataFrame\n",
    "df = pd.read_csv('Labour.csv')\n",
    "# размер датафрейма\n",
    "df.shape"
   ]
  },
  {
   "cell_type": "code",
   "execution_count": 3,
   "id": "906cfd5c-2566-4bf5-b7ef-f273c929d4a9",
   "metadata": {
    "execution": {
     "iopub.execute_input": "2024-02-17T08:53:23.044794Z",
     "iopub.status.busy": "2024-02-17T08:53:23.044794Z",
     "iopub.status.idle": "2024-02-17T08:53:23.061851Z",
     "shell.execute_reply": "2024-02-17T08:53:23.060850Z",
     "shell.execute_reply.started": "2024-02-17T08:53:23.044794Z"
    },
    "tags": []
   },
   "outputs": [
    {
     "data": {
      "text/html": [
       "<div>\n",
       "<style scoped>\n",
       "    .dataframe tbody tr th:only-of-type {\n",
       "        vertical-align: middle;\n",
       "    }\n",
       "\n",
       "    .dataframe tbody tr th {\n",
       "        vertical-align: top;\n",
       "    }\n",
       "\n",
       "    .dataframe thead th {\n",
       "        text-align: right;\n",
       "    }\n",
       "</style>\n",
       "<table border=\"1\" class=\"dataframe\">\n",
       "  <thead>\n",
       "    <tr style=\"text-align: right;\">\n",
       "      <th></th>\n",
       "      <th>capital</th>\n",
       "      <th>labour</th>\n",
       "      <th>output</th>\n",
       "      <th>wage</th>\n",
       "    </tr>\n",
       "  </thead>\n",
       "  <tbody>\n",
       "    <tr>\n",
       "      <th>0</th>\n",
       "      <td>2.606563</td>\n",
       "      <td>184</td>\n",
       "      <td>9.250759</td>\n",
       "      <td>43.080307</td>\n",
       "    </tr>\n",
       "    <tr>\n",
       "      <th>1</th>\n",
       "      <td>1.323237</td>\n",
       "      <td>91</td>\n",
       "      <td>3.664310</td>\n",
       "      <td>27.780016</td>\n",
       "    </tr>\n",
       "    <tr>\n",
       "      <th>2</th>\n",
       "      <td>22.093692</td>\n",
       "      <td>426</td>\n",
       "      <td>28.781516</td>\n",
       "      <td>44.467748</td>\n",
       "    </tr>\n",
       "    <tr>\n",
       "      <th>3</th>\n",
       "      <td>10.737851</td>\n",
       "      <td>72</td>\n",
       "      <td>4.124642</td>\n",
       "      <td>39.734710</td>\n",
       "    </tr>\n",
       "    <tr>\n",
       "      <th>4</th>\n",
       "      <td>1.161365</td>\n",
       "      <td>46</td>\n",
       "      <td>2.890150</td>\n",
       "      <td>34.650709</td>\n",
       "    </tr>\n",
       "    <tr>\n",
       "      <th>...</th>\n",
       "      <td>...</td>\n",
       "      <td>...</td>\n",
       "      <td>...</td>\n",
       "      <td>...</td>\n",
       "    </tr>\n",
       "    <tr>\n",
       "      <th>564</th>\n",
       "      <td>2.625403</td>\n",
       "      <td>20</td>\n",
       "      <td>1.424376</td>\n",
       "      <td>33.477545</td>\n",
       "    </tr>\n",
       "    <tr>\n",
       "      <th>565</th>\n",
       "      <td>1.276386</td>\n",
       "      <td>61</td>\n",
       "      <td>2.109048</td>\n",
       "      <td>26.300732</td>\n",
       "    </tr>\n",
       "    <tr>\n",
       "      <th>566</th>\n",
       "      <td>1.953869</td>\n",
       "      <td>117</td>\n",
       "      <td>6.241870</td>\n",
       "      <td>41.153979</td>\n",
       "    </tr>\n",
       "    <tr>\n",
       "      <th>567</th>\n",
       "      <td>1.318527</td>\n",
       "      <td>46</td>\n",
       "      <td>7.902237</td>\n",
       "      <td>66.720139</td>\n",
       "    </tr>\n",
       "    <tr>\n",
       "      <th>568</th>\n",
       "      <td>2.832391</td>\n",
       "      <td>161</td>\n",
       "      <td>6.804085</td>\n",
       "      <td>36.618435</td>\n",
       "    </tr>\n",
       "  </tbody>\n",
       "</table>\n",
       "<p>569 rows × 4 columns</p>\n",
       "</div>"
      ],
      "text/plain": [
       "       capital  labour     output       wage\n",
       "0     2.606563     184   9.250759  43.080307\n",
       "1     1.323237      91   3.664310  27.780016\n",
       "2    22.093692     426  28.781516  44.467748\n",
       "3    10.737851      72   4.124642  39.734710\n",
       "4     1.161365      46   2.890150  34.650709\n",
       "..         ...     ...        ...        ...\n",
       "564   2.625403      20   1.424376  33.477545\n",
       "565   1.276386      61   2.109048  26.300732\n",
       "566   1.953869     117   6.241870  41.153979\n",
       "567   1.318527      46   7.902237  66.720139\n",
       "568   2.832391     161   6.804085  36.618435\n",
       "\n",
       "[569 rows x 4 columns]"
      ]
     },
     "execution_count": 3,
     "metadata": {},
     "output_type": "execute_result"
    }
   ],
   "source": [
    "# напечатаем датафрейм\n",
    "df"
   ]
  },
  {
   "cell_type": "code",
   "execution_count": 4,
   "id": "d15da7ca-0a03-43ba-8fb9-8babaf301dbc",
   "metadata": {
    "execution": {
     "iopub.execute_input": "2024-02-17T08:54:16.111794Z",
     "iopub.status.busy": "2024-02-17T08:54:16.110797Z",
     "iopub.status.idle": "2024-02-17T08:54:16.420900Z",
     "shell.execute_reply": "2024-02-17T08:54:16.420900Z",
     "shell.execute_reply.started": "2024-02-17T08:54:16.111794Z"
    },
    "tags": []
   },
   "outputs": [
    {
     "data": {
      "text/plain": [
       "<Axes: xlabel='labour', ylabel='output'>"
      ]
     },
     "execution_count": 4,
     "metadata": {},
     "output_type": "execute_result"
    },
    {
     "data": {
      "image/png": "[encoded data removed]",
      "text/plain": [
       "<Figure size 640x480 with 1 Axes>"
      ]
     },
     "metadata": {},
     "output_type": "display_data"
    }
   ],
   "source": [
    "sns.set_theme(style='darkgrid')\n",
    "sns.regplot(data=df, x='labour', y='output', ci=None, scatter_kws={'s':5}, line_kws={'linestyle':'dashed', 'color':'r', 'linewidth':1})"
   ]
  },
  {
   "cell_type": "code",
   "execution_count": 6,
   "id": "9ff132fd-f27c-48d6-bff4-2fb8caf44c7b",
   "metadata": {
    "execution": {
     "iopub.execute_input": "2024-02-17T08:54:59.061205Z",
     "iopub.status.busy": "2024-02-17T08:54:59.061205Z",
     "iopub.status.idle": "2024-02-17T08:54:59.082235Z",
     "shell.execute_reply": "2024-02-17T08:54:59.082235Z",
     "shell.execute_reply.started": "2024-02-17T08:54:59.061205Z"
    },
    "tags": []
   },
   "outputs": [
    {
     "data": {
      "text/plain": [
       "Intercept   -4.72\n",
       "labour       0.10\n",
       "dtype: float64"
      ]
     },
     "execution_count": 6,
     "metadata": {},
     "output_type": "execute_result"
    }
   ],
   "source": [
    "# спецификация модели через формулу\n",
    "mod = smf.ols(formula='output~1+labour', data=df)\n",
    "# подгонка модели\n",
    "res = mod.fit()\n",
    "# параметры оптимальной прямой\n",
    "res.params.round(2)"
   ]
  },
  {
   "cell_type": "code",
   "execution_count": 7,
   "id": "a25144c4-216f-48f5-8c39-3aefd2082ced",
   "metadata": {
    "execution": {
     "iopub.execute_input": "2024-02-17T08:55:12.391937Z",
     "iopub.status.busy": "2024-02-17T08:55:12.391937Z",
     "iopub.status.idle": "2024-02-17T08:55:12.408775Z",
     "shell.execute_reply": "2024-02-17T08:55:12.407772Z",
     "shell.execute_reply.started": "2024-02-17T08:55:12.391937Z"
    },
    "tags": []
   },
   "outputs": [
    {
     "data": {
      "text/plain": [
       "labour    0.09\n",
       "dtype: float64"
      ]
     },
     "execution_count": 7,
     "metadata": {},
     "output_type": "execute_result"
    }
   ],
   "source": [
    "# спецификация модели через формулу\n",
    "mod = smf.ols(formula='output~0+labour', data=df)\n",
    "# подгонка модели\n",
    "res = mod.fit()\n",
    "# параметры оптимальной прямой\n",
    "res.params.round(2)"
   ]
  },
  {
   "cell_type": "code",
   "execution_count": null,
   "id": "62333f59-af6a-471f-9619-200d8159a563",
   "metadata": {},
   "outputs": [],
   "source": []
  }
 ],
 "metadata": {
  "kernelspec": {
   "display_name": "Python [conda env:courses]",
   "language": "python",
   "name": "conda-env-courses-py"
  },
  "language_info": {
   "codemirror_mode": {
    "name": "ipython",
    "version": 3
   },
   "file_extension": ".py",
   "mimetype": "text/x-python",
   "name": "python",
   "nbconvert_exporter": "python",
   "pygments_lexer": "ipython3",
   "version": "3.11.7"
  }
 },
 "nbformat": 4,
 "nbformat_minor": 5
}
