{
 "cells": [
  {
   "cell_type": "markdown",
   "id": "a4128c2c-c6b4-4470-93aa-035f48dea309",
   "metadata": {},
   "source": [
    "## #1"
   ]
  },
  {
   "cell_type": "code",
   "execution_count": 1,
   "id": "21e5cc67-5936-4fc3-8bde-b5f19db48b9b",
   "metadata": {
    "execution": {
     "iopub.execute_input": "2024-05-04T10:43:41.327591Z",
     "iopub.status.busy": "2024-05-04T10:43:41.327591Z",
     "iopub.status.idle": "2024-05-04T10:43:42.710421Z",
     "shell.execute_reply": "2024-05-04T10:43:42.708868Z",
     "shell.execute_reply.started": "2024-05-04T10:43:41.327591Z"
    },
    "tags": []
   },
   "outputs": [],
   "source": [
    "import pandas as pd\n",
    "import numpy as np\n",
    "\n",
    "import statsmodels.formula.api as smf\n",
    "\n",
    "from statsmodels.graphics.api import plot_corr # визуализация корреляционной матрицы\n",
    "from statsmodels.iolib.summary2 import summary_params # вывод результатов тестирования\n",
    "from statsmodels.stats.outliers_influence import variance_inflation_factor as VIF # VIF\n",
    "\n",
    "# настройки визуализации\n",
    "import matplotlib.pyplot as plt\n",
    "\n",
    "# Не показывать Warning\n",
    "import warnings\n",
    "warnings.simplefilter(action='ignore', category=Warning)"
   ]
  },
  {
   "cell_type": "code",
   "execution_count": 2,
   "id": "ac69e035-416f-484b-861e-dc2cb0a21548",
   "metadata": {
    "execution": {
     "iopub.execute_input": "2024-05-04T10:44:01.015000Z",
     "iopub.status.busy": "2024-05-04T10:44:01.015000Z",
     "iopub.status.idle": "2024-05-04T10:44:01.026436Z",
     "shell.execute_reply": "2024-05-04T10:44:01.026436Z",
     "shell.execute_reply.started": "2024-05-04T10:44:01.015000Z"
    },
    "tags": []
   },
   "outputs": [],
   "source": [
    "# загрузим данные\n",
    "df = pd.read_csv('sleep75.csv')"
   ]
  },
  {
   "cell_type": "code",
   "execution_count": 9,
   "id": "45c40562-e8da-4d4f-8e1d-f185f56be688",
   "metadata": {
    "execution": {
     "iopub.execute_input": "2024-05-04T10:49:54.775298Z",
     "iopub.status.busy": "2024-05-04T10:49:54.774299Z",
     "iopub.status.idle": "2024-05-04T10:49:54.819547Z",
     "shell.execute_reply": "2024-05-04T10:49:54.819547Z",
     "shell.execute_reply.started": "2024-05-04T10:49:54.775298Z"
    },
    "tags": []
   },
   "outputs": [],
   "source": [
    "# спецификация модели через формулу\n",
    "mod = smf.ols(formula='sleep~1+I(totwrk/100)+I(totwrk ** 2/10000)+age+smsa+male', data=df)\n",
    "# подгонка модели с неробастной оценкой ковариационной матрицы\n",
    "res = mod.fit()"
   ]
  },
  {
   "cell_type": "code",
   "execution_count": 12,
   "id": "0ae8d0ff-c1e0-47c6-8cab-941cf776e0a1",
   "metadata": {
    "execution": {
     "iopub.execute_input": "2024-05-04T10:52:11.644579Z",
     "iopub.status.busy": "2024-05-04T10:52:11.644579Z",
     "iopub.status.idle": "2024-05-04T10:52:11.662125Z",
     "shell.execute_reply": "2024-05-04T10:52:11.661122Z",
     "shell.execute_reply.started": "2024-05-04T10:52:11.644579Z"
    },
    "tags": []
   },
   "outputs": [
    {
     "data": {
      "text/html": [
       "<div>\n",
       "<style scoped>\n",
       "    .dataframe tbody tr th:only-of-type {\n",
       "        vertical-align: middle;\n",
       "    }\n",
       "\n",
       "    .dataframe tbody tr th {\n",
       "        vertical-align: top;\n",
       "    }\n",
       "\n",
       "    .dataframe thead th {\n",
       "        text-align: right;\n",
       "    }\n",
       "</style>\n",
       "<table border=\"1\" class=\"dataframe\">\n",
       "  <thead>\n",
       "    <tr style=\"text-align: right;\">\n",
       "      <th></th>\n",
       "      <th>Intercept</th>\n",
       "      <th>I(totwrk / 100)</th>\n",
       "      <th>I(totwrk ** 2 / 10000)</th>\n",
       "      <th>age</th>\n",
       "      <th>smsa</th>\n",
       "      <th>male</th>\n",
       "    </tr>\n",
       "  </thead>\n",
       "  <tbody>\n",
       "    <tr>\n",
       "      <th>0</th>\n",
       "      <td>1.0</td>\n",
       "      <td>34.38</td>\n",
       "      <td>1181.9844</td>\n",
       "      <td>32.0</td>\n",
       "      <td>0.0</td>\n",
       "      <td>1.0</td>\n",
       "    </tr>\n",
       "    <tr>\n",
       "      <th>1</th>\n",
       "      <td>1.0</td>\n",
       "      <td>50.20</td>\n",
       "      <td>2520.0400</td>\n",
       "      <td>31.0</td>\n",
       "      <td>0.0</td>\n",
       "      <td>1.0</td>\n",
       "    </tr>\n",
       "    <tr>\n",
       "      <th>2</th>\n",
       "      <td>1.0</td>\n",
       "      <td>28.15</td>\n",
       "      <td>792.4225</td>\n",
       "      <td>44.0</td>\n",
       "      <td>1.0</td>\n",
       "      <td>1.0</td>\n",
       "    </tr>\n",
       "    <tr>\n",
       "      <th>3</th>\n",
       "      <td>1.0</td>\n",
       "      <td>37.86</td>\n",
       "      <td>1433.3796</td>\n",
       "      <td>30.0</td>\n",
       "      <td>0.0</td>\n",
       "      <td>0.0</td>\n",
       "    </tr>\n",
       "    <tr>\n",
       "      <th>4</th>\n",
       "      <td>1.0</td>\n",
       "      <td>25.80</td>\n",
       "      <td>665.6400</td>\n",
       "      <td>64.0</td>\n",
       "      <td>0.0</td>\n",
       "      <td>1.0</td>\n",
       "    </tr>\n",
       "    <tr>\n",
       "      <th>...</th>\n",
       "      <td>...</td>\n",
       "      <td>...</td>\n",
       "      <td>...</td>\n",
       "      <td>...</td>\n",
       "      <td>...</td>\n",
       "      <td>...</td>\n",
       "    </tr>\n",
       "    <tr>\n",
       "      <th>701</th>\n",
       "      <td>1.0</td>\n",
       "      <td>20.26</td>\n",
       "      <td>410.4676</td>\n",
       "      <td>45.0</td>\n",
       "      <td>1.0</td>\n",
       "      <td>0.0</td>\n",
       "    </tr>\n",
       "    <tr>\n",
       "      <th>702</th>\n",
       "      <td>1.0</td>\n",
       "      <td>6.75</td>\n",
       "      <td>45.5625</td>\n",
       "      <td>34.0</td>\n",
       "      <td>0.0</td>\n",
       "      <td>1.0</td>\n",
       "    </tr>\n",
       "    <tr>\n",
       "      <th>703</th>\n",
       "      <td>1.0</td>\n",
       "      <td>18.51</td>\n",
       "      <td>342.6201</td>\n",
       "      <td>37.0</td>\n",
       "      <td>0.0</td>\n",
       "      <td>0.0</td>\n",
       "    </tr>\n",
       "    <tr>\n",
       "      <th>704</th>\n",
       "      <td>1.0</td>\n",
       "      <td>19.61</td>\n",
       "      <td>384.5521</td>\n",
       "      <td>54.0</td>\n",
       "      <td>0.0</td>\n",
       "      <td>0.0</td>\n",
       "    </tr>\n",
       "    <tr>\n",
       "      <th>705</th>\n",
       "      <td>1.0</td>\n",
       "      <td>23.63</td>\n",
       "      <td>558.3769</td>\n",
       "      <td>30.0</td>\n",
       "      <td>0.0</td>\n",
       "      <td>0.0</td>\n",
       "    </tr>\n",
       "  </tbody>\n",
       "</table>\n",
       "<p>706 rows × 6 columns</p>\n",
       "</div>"
      ],
      "text/plain": [
       "     Intercept  I(totwrk / 100)  I(totwrk ** 2 / 10000)   age  smsa  male\n",
       "0          1.0            34.38               1181.9844  32.0   0.0   1.0\n",
       "1          1.0            50.20               2520.0400  31.0   0.0   1.0\n",
       "2          1.0            28.15                792.4225  44.0   1.0   1.0\n",
       "3          1.0            37.86               1433.3796  30.0   0.0   0.0\n",
       "4          1.0            25.80                665.6400  64.0   0.0   1.0\n",
       "..         ...              ...                     ...   ...   ...   ...\n",
       "701        1.0            20.26                410.4676  45.0   1.0   0.0\n",
       "702        1.0             6.75                 45.5625  34.0   0.0   1.0\n",
       "703        1.0            18.51                342.6201  37.0   0.0   0.0\n",
       "704        1.0            19.61                384.5521  54.0   0.0   0.0\n",
       "705        1.0            23.63                558.3769  30.0   0.0   0.0\n",
       "\n",
       "[706 rows x 6 columns]"
      ]
     },
     "execution_count": 12,
     "metadata": {},
     "output_type": "execute_result"
    }
   ],
   "source": [
    "# Матрица регрессионного дизайна X (первый столбец состоит только из единиц)\n",
    "# mod.exog\n",
    "# Для наглядности представим в виде pandsa DataFrame\n",
    "X = pd.DataFrame(mod.exog, columns=mod.exog_names)\n",
    "X"
   ]
  },
  {
   "cell_type": "code",
   "execution_count": 13,
   "id": "7eb9ff29-720f-47eb-8983-86ba12d8d1ca",
   "metadata": {
    "execution": {
     "iopub.execute_input": "2024-05-04T10:52:14.745366Z",
     "iopub.status.busy": "2024-05-04T10:52:14.744368Z",
     "iopub.status.idle": "2024-05-04T10:52:14.762071Z",
     "shell.execute_reply": "2024-05-04T10:52:14.761069Z",
     "shell.execute_reply.started": "2024-05-04T10:52:14.745366Z"
    },
    "tags": []
   },
   "outputs": [
    {
     "data": {
      "text/html": [
       "<div>\n",
       "<style scoped>\n",
       "    .dataframe tbody tr th:only-of-type {\n",
       "        vertical-align: middle;\n",
       "    }\n",
       "\n",
       "    .dataframe tbody tr th {\n",
       "        vertical-align: top;\n",
       "    }\n",
       "\n",
       "    .dataframe thead th {\n",
       "        text-align: right;\n",
       "    }\n",
       "</style>\n",
       "<table border=\"1\" class=\"dataframe\">\n",
       "  <thead>\n",
       "    <tr style=\"text-align: right;\">\n",
       "      <th></th>\n",
       "      <th>I(totwrk / 100)</th>\n",
       "      <th>I(totwrk ** 2 / 10000)</th>\n",
       "      <th>age</th>\n",
       "      <th>smsa</th>\n",
       "      <th>male</th>\n",
       "    </tr>\n",
       "  </thead>\n",
       "  <tbody>\n",
       "    <tr>\n",
       "      <th>I(totwrk / 100)</th>\n",
       "      <td>1.000</td>\n",
       "      <td>0.937</td>\n",
       "      <td>-0.050</td>\n",
       "      <td>-0.038</td>\n",
       "      <td>0.376</td>\n",
       "    </tr>\n",
       "    <tr>\n",
       "      <th>I(totwrk ** 2 / 10000)</th>\n",
       "      <td>0.937</td>\n",
       "      <td>1.000</td>\n",
       "      <td>-0.046</td>\n",
       "      <td>-0.051</td>\n",
       "      <td>0.351</td>\n",
       "    </tr>\n",
       "    <tr>\n",
       "      <th>age</th>\n",
       "      <td>-0.050</td>\n",
       "      <td>-0.046</td>\n",
       "      <td>1.000</td>\n",
       "      <td>0.025</td>\n",
       "      <td>0.032</td>\n",
       "    </tr>\n",
       "    <tr>\n",
       "      <th>smsa</th>\n",
       "      <td>-0.038</td>\n",
       "      <td>-0.051</td>\n",
       "      <td>0.025</td>\n",
       "      <td>1.000</td>\n",
       "      <td>0.007</td>\n",
       "    </tr>\n",
       "    <tr>\n",
       "      <th>male</th>\n",
       "      <td>0.376</td>\n",
       "      <td>0.351</td>\n",
       "      <td>0.032</td>\n",
       "      <td>0.007</td>\n",
       "      <td>1.000</td>\n",
       "    </tr>\n",
       "  </tbody>\n",
       "</table>\n",
       "</div>"
      ],
      "text/plain": [
       "                        I(totwrk / 100)  I(totwrk ** 2 / 10000)    age   smsa  \\\n",
       "I(totwrk / 100)                   1.000                   0.937 -0.050 -0.038   \n",
       "I(totwrk ** 2 / 10000)            0.937                   1.000 -0.046 -0.051   \n",
       "age                              -0.050                  -0.046  1.000  0.025   \n",
       "smsa                             -0.038                  -0.051  0.025  1.000   \n",
       "male                              0.376                   0.351  0.032  0.007   \n",
       "\n",
       "                         male  \n",
       "I(totwrk / 100)         0.376  \n",
       "I(totwrk ** 2 / 10000)  0.351  \n",
       "age                     0.032  \n",
       "smsa                    0.007  \n",
       "male                    1.000  "
      ]
     },
     "execution_count": 13,
     "metadata": {},
     "output_type": "execute_result"
    }
   ],
   "source": [
    "# Корреляционная матрица для регрессоров\n",
    "# Отметим, что нужно исключить первый столбец из единиц\n",
    "corr_matrix = X.drop(columns='Intercept').corr()\n",
    "corr_matrix.round(3)"
   ]
  },
  {
   "cell_type": "code",
   "execution_count": 14,
   "id": "aa484cdc-a0d0-4fd5-8006-3063035e6822",
   "metadata": {
    "execution": {
     "iopub.execute_input": "2024-05-04T10:52:29.336355Z",
     "iopub.status.busy": "2024-05-04T10:52:29.336355Z",
     "iopub.status.idle": "2024-05-04T10:52:29.640539Z",
     "shell.execute_reply": "2024-05-04T10:52:29.639537Z",
     "shell.execute_reply.started": "2024-05-04T10:52:29.336355Z"
    },
    "tags": []
   },
   "outputs": [
    {
     "data": {
      "image/png": "[encoded data removed]",
      "text/plain": [
       "<Figure size 640x480 with 2 Axes>"
      ]
     },
     "metadata": {},
     "output_type": "display_data"
    }
   ],
   "source": [
    "# Визуализация корреляций\n",
    "plot_corr(corr_matrix, xnames=mod.exog_names[1:], normcolor=True)\n",
    "plt.show()"
   ]
  },
  {
   "cell_type": "code",
   "execution_count": 15,
   "id": "3abb388c-57dd-4e16-a58e-0494051e1f53",
   "metadata": {
    "execution": {
     "iopub.execute_input": "2024-05-04T10:57:11.824977Z",
     "iopub.status.busy": "2024-05-04T10:57:11.823980Z",
     "iopub.status.idle": "2024-05-04T10:57:12.264664Z",
     "shell.execute_reply": "2024-05-04T10:57:12.264664Z",
     "shell.execute_reply.started": "2024-05-04T10:57:11.824977Z"
    },
    "tags": []
   },
   "outputs": [
    {
     "data": {
      "text/plain": [
       "<Axes: >"
      ]
     },
     "execution_count": 15,
     "metadata": {},
     "output_type": "execute_result"
    },
    {
     "data": {
      "image/png": "[encoded data removed]",
      "text/plain": [
       "<Figure size 640x480 with 2 Axes>"
      ]
     },
     "metadata": {},
     "output_type": "display_data"
    }
   ],
   "source": [
    "import seaborn as sns\n",
    "\n",
    "sns.heatmap(corr_matrix, vmax=1, vmin=-1, annot=True)"
   ]
  },
  {
   "cell_type": "code",
   "execution_count": 16,
   "id": "4f8c4827-aa72-4be5-8932-27a76e6939f1",
   "metadata": {
    "execution": {
     "iopub.execute_input": "2024-05-04T10:58:35.241658Z",
     "iopub.status.busy": "2024-05-04T10:58:35.241658Z",
     "iopub.status.idle": "2024-05-04T10:58:35.248458Z",
     "shell.execute_reply": "2024-05-04T10:58:35.247455Z",
     "shell.execute_reply.started": "2024-05-04T10:58:35.241658Z"
    },
    "tags": []
   },
   "outputs": [
    {
     "data": {
      "text/plain": [
       "['Intercept',\n",
       " 'I(totwrk / 100)',\n",
       " 'I(totwrk ** 2 / 10000)',\n",
       " 'age',\n",
       " 'smsa',\n",
       " 'male']"
      ]
     },
     "execution_count": 16,
     "metadata": {},
     "output_type": "execute_result"
    }
   ],
   "source": [
    "# имена экзогенных переменных\n",
    "mod.exog_names"
   ]
  },
  {
   "cell_type": "code",
   "execution_count": 17,
   "id": "7ed51315-5b1a-42c0-bff8-9ad26f60a6f1",
   "metadata": {
    "execution": {
     "iopub.execute_input": "2024-05-04T10:58:58.879336Z",
     "iopub.status.busy": "2024-05-04T10:58:58.879336Z",
     "iopub.status.idle": "2024-05-04T10:58:58.889710Z",
     "shell.execute_reply": "2024-05-04T10:58:58.889710Z",
     "shell.execute_reply.started": "2024-05-04T10:58:58.879336Z"
    },
    "tags": []
   },
   "outputs": [
    {
     "data": {
      "text/plain": [
       "(8.370495031825964, 8.19929005215102, 1.005968235588707, 1.004459169895266)"
      ]
     },
     "execution_count": 17,
     "metadata": {},
     "output_type": "execute_result"
    }
   ],
   "source": [
    "VIF(exog=X, exog_idx=1), VIF(exog=X, exog_idx=2), VIF(exog=X, exog_idx=3), VIF(exog=X, exog_idx=4)"
   ]
  },
  {
   "cell_type": "code",
   "execution_count": 18,
   "id": "d48d9852-6016-4dac-aa0c-6847f2db5a2c",
   "metadata": {
    "execution": {
     "iopub.execute_input": "2024-05-04T10:59:23.622330Z",
     "iopub.status.busy": "2024-05-04T10:59:23.622330Z",
     "iopub.status.idle": "2024-05-04T10:59:23.635742Z",
     "shell.execute_reply": "2024-05-04T10:59:23.634738Z",
     "shell.execute_reply.started": "2024-05-04T10:59:23.622330Z"
    },
    "tags": []
   },
   "outputs": [
    {
     "name": "stdout",
     "output_type": "stream",
     "text": [
      "VIF(I(totwrk / 100))=8.37\n",
      "VIF(I(totwrk ** 2 / 10000))=8.199\n",
      "VIF(age)=1.006\n",
      "VIF(smsa)=1.004\n",
      "VIF(male)=1.169\n"
     ]
    }
   ],
   "source": [
    "# Напечатаем все VIF\n",
    "for i in np.arange(1, len(mod.exog_names)):\n",
    "\tprint(f'VIF({mod.exog_names[i]})={round(VIF(exog=X, exog_idx=i),3)}')"
   ]
  },
  {
   "cell_type": "code",
   "execution_count": 19,
   "id": "944b05ad-5a9d-4d9e-bc64-f0c0c6e1826e",
   "metadata": {
    "execution": {
     "iopub.execute_input": "2024-05-04T11:02:57.416157Z",
     "iopub.status.busy": "2024-05-04T11:02:57.415161Z",
     "iopub.status.idle": "2024-05-04T11:02:57.435166Z",
     "shell.execute_reply": "2024-05-04T11:02:57.434163Z",
     "shell.execute_reply.started": "2024-05-04T11:02:57.416157Z"
    },
    "tags": []
   },
   "outputs": [
    {
     "data": {
      "text/html": [
       "<div>\n",
       "<style scoped>\n",
       "    .dataframe tbody tr th:only-of-type {\n",
       "        vertical-align: middle;\n",
       "    }\n",
       "\n",
       "    .dataframe tbody tr th {\n",
       "        vertical-align: top;\n",
       "    }\n",
       "\n",
       "    .dataframe thead th {\n",
       "        text-align: right;\n",
       "    }\n",
       "</style>\n",
       "<table border=\"1\" class=\"dataframe\">\n",
       "  <thead>\n",
       "    <tr style=\"text-align: right;\">\n",
       "      <th></th>\n",
       "      <th>Coef.</th>\n",
       "      <th>Std.Err.</th>\n",
       "      <th>t</th>\n",
       "      <th>P&gt;|t|</th>\n",
       "      <th>[0.025</th>\n",
       "      <th>0.975]</th>\n",
       "    </tr>\n",
       "  </thead>\n",
       "  <tbody>\n",
       "    <tr>\n",
       "      <th>Intercept</th>\n",
       "      <td>3428.8048</td>\n",
       "      <td>76.6550</td>\n",
       "      <td>44.7303</td>\n",
       "      <td>0.0000</td>\n",
       "      <td>3278.3035</td>\n",
       "      <td>3579.3062</td>\n",
       "    </tr>\n",
       "    <tr>\n",
       "      <th>I(totwrk / 100)</th>\n",
       "      <td>-8.1953</td>\n",
       "      <td>4.7894</td>\n",
       "      <td>-1.7111</td>\n",
       "      <td>0.0875</td>\n",
       "      <td>-17.5987</td>\n",
       "      <td>1.2081</td>\n",
       "    </tr>\n",
       "    <tr>\n",
       "      <th>I(totwrk ** 2 / 10000)</th>\n",
       "      <td>-0.2142</td>\n",
       "      <td>0.1110</td>\n",
       "      <td>-1.9302</td>\n",
       "      <td>0.0540</td>\n",
       "      <td>-0.4320</td>\n",
       "      <td>0.0037</td>\n",
       "    </tr>\n",
       "    <tr>\n",
       "      <th>age</th>\n",
       "      <td>2.8167</td>\n",
       "      <td>1.3869</td>\n",
       "      <td>2.0309</td>\n",
       "      <td>0.0426</td>\n",
       "      <td>0.0937</td>\n",
       "      <td>5.5397</td>\n",
       "    </tr>\n",
       "    <tr>\n",
       "      <th>smsa</th>\n",
       "      <td>-78.0495</td>\n",
       "      <td>32.0724</td>\n",
       "      <td>-2.4335</td>\n",
       "      <td>0.0152</td>\n",
       "      <td>-141.0190</td>\n",
       "      <td>-15.0799</td>\n",
       "    </tr>\n",
       "    <tr>\n",
       "      <th>male</th>\n",
       "      <td>86.6388</td>\n",
       "      <td>34.2000</td>\n",
       "      <td>2.5333</td>\n",
       "      <td>0.0115</td>\n",
       "      <td>19.4920</td>\n",
       "      <td>153.7855</td>\n",
       "    </tr>\n",
       "  </tbody>\n",
       "</table>\n",
       "</div>"
      ],
      "text/plain": [
       "                            Coef.  Std.Err.        t   P>|t|     [0.025  \\\n",
       "Intercept               3428.8048   76.6550  44.7303  0.0000  3278.3035   \n",
       "I(totwrk / 100)           -8.1953    4.7894  -1.7111  0.0875   -17.5987   \n",
       "I(totwrk ** 2 / 10000)    -0.2142    0.1110  -1.9302  0.0540    -0.4320   \n",
       "age                        2.8167    1.3869   2.0309  0.0426     0.0937   \n",
       "smsa                     -78.0495   32.0724  -2.4335  0.0152  -141.0190   \n",
       "male                      86.6388   34.2000   2.5333  0.0115    19.4920   \n",
       "\n",
       "                           0.975]  \n",
       "Intercept               3579.3062  \n",
       "I(totwrk / 100)            1.2081  \n",
       "I(totwrk ** 2 / 10000)     0.0037  \n",
       "age                        5.5397  \n",
       "smsa                     -15.0799  \n",
       "male                     153.7855  "
      ]
     },
     "execution_count": 19,
     "metadata": {},
     "output_type": "execute_result"
    }
   ],
   "source": [
    "# проверим значимость коэффициентов используя P-value\n",
    "summary_params(res).round(4)"
   ]
  },
  {
   "cell_type": "markdown",
   "id": "e806741d-e090-4555-9dbc-5c5a86394f28",
   "metadata": {},
   "source": [
    "Значимы коэффициенты age, smsa, male"
   ]
  },
  {
   "cell_type": "code",
   "execution_count": null,
   "id": "c298f2c0-44cf-49bd-87a2-7c19f8063345",
   "metadata": {},
   "outputs": [],
   "source": []
  }
 ],
 "metadata": {
  "kernelspec": {
   "display_name": "Python [conda env:courses]",
   "language": "python",
   "name": "conda-env-courses-py"
  },
  "language_info": {
   "codemirror_mode": {
    "name": "ipython",
    "version": 3
   },
   "file_extension": ".py",
   "mimetype": "text/x-python",
   "name": "python",
   "nbconvert_exporter": "python",
   "pygments_lexer": "ipython3",
   "version": "3.11.7"
  }
 },
 "nbformat": 4,
 "nbformat_minor": 5
}
