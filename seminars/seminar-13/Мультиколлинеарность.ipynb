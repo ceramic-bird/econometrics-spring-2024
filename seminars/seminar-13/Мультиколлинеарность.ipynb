{
 "cells": [
  {
   "cell_type": "markdown",
   "metadata": {},
   "source": [
    "# Мультиколлинеарность"
   ]
  },
  {
   "cell_type": "code",
   "execution_count": 1,
   "metadata": {
    "execution": {
     "iopub.execute_input": "2024-05-04T10:38:33.398412Z",
     "iopub.status.busy": "2024-05-04T10:38:33.397414Z",
     "iopub.status.idle": "2024-05-04T10:38:34.788847Z",
     "shell.execute_reply": "2024-05-04T10:38:34.788847Z",
     "shell.execute_reply.started": "2024-05-04T10:38:33.397414Z"
    }
   },
   "outputs": [],
   "source": [
    "import pandas as pd\n",
    "import numpy as np\n",
    "\n",
    "import statsmodels.formula.api as smf\n",
    "\n",
    "from statsmodels.graphics.api import plot_corr # визуализация корреляционной матрицы\n",
    "from statsmodels.iolib.summary2 import summary_params # вывод результатов тестирования\n",
    "from statsmodels.stats.outliers_influence import variance_inflation_factor as VIF # VIF\n",
    "\n",
    "# настройки визуализации\n",
    "import matplotlib.pyplot as plt\n",
    "\n",
    "# Не показывать Warning\n",
    "import warnings\n",
    "warnings.simplefilter(action='ignore', category=Warning)"
   ]
  },
  {
   "cell_type": "markdown",
   "metadata": {},
   "source": [
    "<div style=\"background-color:Bisque; color:DarkBlue; padding:30px;\">\n",
    "\n",
    "<i><b><span style=\"color: purple\">Мультиколлинеарность</span> </b><br>\n",
    "\n",
    "Матрицы регрессионного дизайна\n",
    "\n",
    "$$\n",
    "\\begin{aligned}\n",
    "\t\\underset{n\\times1}{y}&=\\begin{pmatrix} y_1 \\\\ \\vdots \\\\ y_k\\end{pmatrix} &\n",
    "\t\\underset{n\\times(k+1)}{X}&=\\begin{pmatrix} \n",
    "\t\t1 & x_{11} & \\cdots & x_{1k} \\\\\n",
    "\t\t1 & x_{21} & \\cdots & x_{2k} \\\\\n",
    "\t\t\\vdots & \\vdots & \\ddots & \\vdots \\\\\n",
    "\t\t1 & x_{n1} & \\cdots & x_{nk}\\end{pmatrix}\n",
    "\\end{aligned}\n",
    "$$\n",
    "\n",
    "__\"Чистая\" мультиколлинеарность:__ $\\det(X^\\top X)=0$. В этом случаем регрессия не подгоняется OLS-методом \n",
    "\n",
    "__Мультиколлинеарность:__ $\\det(X^\\top X)\\approx0$. Это приводит к \"большим\" стандартным ошибкам коэффициента и, как следствие, к \"маленьким\" t-статистикам и к незначимости коэффициента\n",
    "\n",
    "__Причина мультиколлинеарности__: высокая слепень зависимости между регрессорами. В частности, сильная корреляция между регрессорами\n",
    "\n",
    "__Идентификация мультиколлинеарности:__\n",
    "* корреляционная матрица для регрессоров\n",
    "* variance inflation factor $VIF=\\frac{1}{1-R^2_J}$\n",
    "\n",
    "**<span style=\"color:purple\">Вывод:</span>** незначимость коэффициента при регрессора может быть вызвана сильной корреляцией этой переменной с остальными\n",
    "\n",
    "__Два практических кейса:__\n",
    "* квадрат регрессора\n",
    "* структурные сдвиги\n",
    "\n",
    "\n",
    "</div>"
   ]
  },
  {
   "cell_type": "markdown",
   "metadata": {},
   "source": [
    "Для датасета `sleep75` рассмотрим регрессию `sleep~1+totwrk+age+I(age**2)+smsa+male+south+marr+union`\n",
    "\n",
    "Подгоним модель и посмотрим значимость коэффициентов"
   ]
  },
  {
   "cell_type": "code",
   "execution_count": 2,
   "metadata": {
    "execution": {
     "iopub.execute_input": "2024-05-04T10:38:34.788847Z",
     "iopub.status.busy": "2024-05-04T10:38:34.788847Z",
     "iopub.status.idle": "2024-05-04T10:38:34.811609Z",
     "shell.execute_reply": "2024-05-04T10:38:34.811609Z",
     "shell.execute_reply.started": "2024-05-04T10:38:34.788847Z"
    }
   },
   "outputs": [],
   "source": [
    "# загрузим данные\n",
    "df = pd.read_csv('sleep75.csv')"
   ]
  },
  {
   "cell_type": "code",
   "execution_count": 3,
   "metadata": {
    "execution": {
     "iopub.execute_input": "2024-05-04T10:38:34.814606Z",
     "iopub.status.busy": "2024-05-04T10:38:34.813609Z",
     "iopub.status.idle": "2024-05-04T10:38:34.905725Z",
     "shell.execute_reply": "2024-05-04T10:38:34.905725Z",
     "shell.execute_reply.started": "2024-05-04T10:38:34.814606Z"
    }
   },
   "outputs": [],
   "source": [
    "# спецификация модели через формулу\n",
    "mod = smf.ols(formula='sleep~1+totwrk+age+I(age**2)+smsa+male+south+marr+union', data=df)\n",
    "# подгонка модели с неробастной оценкой ковариационной матрицы\n",
    "res = mod.fit()"
   ]
  },
  {
   "cell_type": "markdown",
   "metadata": {},
   "source": [
    "## Результаты неробастных t-тестов"
   ]
  },
  {
   "cell_type": "code",
   "execution_count": 4,
   "metadata": {
    "execution": {
     "iopub.execute_input": "2024-05-04T10:38:34.905725Z",
     "iopub.status.busy": "2024-05-04T10:38:34.905725Z",
     "iopub.status.idle": "2024-05-04T10:38:35.001932Z",
     "shell.execute_reply": "2024-05-04T10:38:35.001932Z",
     "shell.execute_reply.started": "2024-05-04T10:38:34.905725Z"
    }
   },
   "outputs": [
    {
     "data": {
      "text/html": [
       "<div>\n",
       "<style scoped>\n",
       "    .dataframe tbody tr th:only-of-type {\n",
       "        vertical-align: middle;\n",
       "    }\n",
       "\n",
       "    .dataframe tbody tr th {\n",
       "        vertical-align: top;\n",
       "    }\n",
       "\n",
       "    .dataframe thead th {\n",
       "        text-align: right;\n",
       "    }\n",
       "</style>\n",
       "<table border=\"1\" class=\"dataframe\">\n",
       "  <thead>\n",
       "    <tr style=\"text-align: right;\">\n",
       "      <th></th>\n",
       "      <th>Coef.</th>\n",
       "      <th>Std.Err.</th>\n",
       "      <th>t</th>\n",
       "      <th>P&gt;|t|</th>\n",
       "      <th>[0.025</th>\n",
       "      <th>0.975]</th>\n",
       "    </tr>\n",
       "  </thead>\n",
       "  <tbody>\n",
       "    <tr>\n",
       "      <th>Intercept</th>\n",
       "      <td>3622.9849</td>\n",
       "      <td>219.6456</td>\n",
       "      <td>16.4947</td>\n",
       "      <td>0.0000</td>\n",
       "      <td>3191.7386</td>\n",
       "      <td>4054.2312</td>\n",
       "    </tr>\n",
       "    <tr>\n",
       "      <th>totwrk</th>\n",
       "      <td>-0.1665</td>\n",
       "      <td>0.0182</td>\n",
       "      <td>-9.1276</td>\n",
       "      <td>0.0000</td>\n",
       "      <td>-0.2023</td>\n",
       "      <td>-0.1307</td>\n",
       "    </tr>\n",
       "    <tr>\n",
       "      <th>age</th>\n",
       "      <td>-7.0388</td>\n",
       "      <td>11.2319</td>\n",
       "      <td>-0.6267</td>\n",
       "      <td>0.5311</td>\n",
       "      <td>-29.0913</td>\n",
       "      <td>15.0137</td>\n",
       "    </tr>\n",
       "    <tr>\n",
       "      <th>I(age ** 2)</th>\n",
       "      <td>0.1190</td>\n",
       "      <td>0.1343</td>\n",
       "      <td>0.8864</td>\n",
       "      <td>0.3757</td>\n",
       "      <td>-0.1446</td>\n",
       "      <td>0.3826</td>\n",
       "    </tr>\n",
       "    <tr>\n",
       "      <th>smsa</th>\n",
       "      <td>-53.5584</td>\n",
       "      <td>33.1633</td>\n",
       "      <td>-1.6150</td>\n",
       "      <td>0.1068</td>\n",
       "      <td>-118.6704</td>\n",
       "      <td>11.5536</td>\n",
       "    </tr>\n",
       "    <tr>\n",
       "      <th>male</th>\n",
       "      <td>85.1892</td>\n",
       "      <td>34.9242</td>\n",
       "      <td>2.4393</td>\n",
       "      <td>0.0150</td>\n",
       "      <td>16.6199</td>\n",
       "      <td>153.7585</td>\n",
       "    </tr>\n",
       "    <tr>\n",
       "      <th>south</th>\n",
       "      <td>99.8639</td>\n",
       "      <td>41.8899</td>\n",
       "      <td>2.3840</td>\n",
       "      <td>0.0174</td>\n",
       "      <td>17.6184</td>\n",
       "      <td>182.1095</td>\n",
       "    </tr>\n",
       "    <tr>\n",
       "      <th>marr</th>\n",
       "      <td>32.9936</td>\n",
       "      <td>42.0512</td>\n",
       "      <td>0.7846</td>\n",
       "      <td>0.4330</td>\n",
       "      <td>-49.5687</td>\n",
       "      <td>115.5558</td>\n",
       "    </tr>\n",
       "    <tr>\n",
       "      <th>union</th>\n",
       "      <td>14.0891</td>\n",
       "      <td>38.1471</td>\n",
       "      <td>0.3693</td>\n",
       "      <td>0.7120</td>\n",
       "      <td>-60.8079</td>\n",
       "      <td>88.9862</td>\n",
       "    </tr>\n",
       "  </tbody>\n",
       "</table>\n",
       "</div>"
      ],
      "text/plain": [
       "                 Coef.  Std.Err.        t   P>|t|     [0.025     0.975]\n",
       "Intercept    3622.9849  219.6456  16.4947  0.0000  3191.7386  4054.2312\n",
       "totwrk         -0.1665    0.0182  -9.1276  0.0000    -0.2023    -0.1307\n",
       "age            -7.0388   11.2319  -0.6267  0.5311   -29.0913    15.0137\n",
       "I(age ** 2)     0.1190    0.1343   0.8864  0.3757    -0.1446     0.3826\n",
       "smsa          -53.5584   33.1633  -1.6150  0.1068  -118.6704    11.5536\n",
       "male           85.1892   34.9242   2.4393  0.0150    16.6199   153.7585\n",
       "south          99.8639   41.8899   2.3840  0.0174    17.6184   182.1095\n",
       "marr           32.9936   42.0512   0.7846  0.4330   -49.5687   115.5558\n",
       "union          14.0891   38.1471   0.3693  0.7120   -60.8079    88.9862"
      ]
     },
     "execution_count": 4,
     "metadata": {},
     "output_type": "execute_result"
    }
   ],
   "source": [
    "# проверим значимость коэффициентов используя P-value\n",
    "summary_params(res).round(4)"
   ]
  },
  {
   "cell_type": "markdown",
   "metadata": {},
   "source": [
    "## Корреляция регрессоров"
   ]
  },
  {
   "cell_type": "code",
   "execution_count": 5,
   "metadata": {
    "execution": {
     "iopub.execute_input": "2024-05-04T10:38:35.004540Z",
     "iopub.status.busy": "2024-05-04T10:38:35.001932Z",
     "iopub.status.idle": "2024-05-04T10:38:35.114271Z",
     "shell.execute_reply": "2024-05-04T10:38:35.113269Z",
     "shell.execute_reply.started": "2024-05-04T10:38:35.004540Z"
    }
   },
   "outputs": [
    {
     "data": {
      "text/html": [
       "<div>\n",
       "<style scoped>\n",
       "    .dataframe tbody tr th:only-of-type {\n",
       "        vertical-align: middle;\n",
       "    }\n",
       "\n",
       "    .dataframe tbody tr th {\n",
       "        vertical-align: top;\n",
       "    }\n",
       "\n",
       "    .dataframe thead th {\n",
       "        text-align: right;\n",
       "    }\n",
       "</style>\n",
       "<table border=\"1\" class=\"dataframe\">\n",
       "  <thead>\n",
       "    <tr style=\"text-align: right;\">\n",
       "      <th></th>\n",
       "      <th>Intercept</th>\n",
       "      <th>totwrk</th>\n",
       "      <th>age</th>\n",
       "      <th>I(age ** 2)</th>\n",
       "      <th>smsa</th>\n",
       "      <th>male</th>\n",
       "      <th>south</th>\n",
       "      <th>marr</th>\n",
       "      <th>union</th>\n",
       "    </tr>\n",
       "  </thead>\n",
       "  <tbody>\n",
       "    <tr>\n",
       "      <th>0</th>\n",
       "      <td>1.0</td>\n",
       "      <td>3438.0</td>\n",
       "      <td>32.0</td>\n",
       "      <td>1024.0</td>\n",
       "      <td>0.0</td>\n",
       "      <td>1.0</td>\n",
       "      <td>0.0</td>\n",
       "      <td>1.0</td>\n",
       "      <td>0.0</td>\n",
       "    </tr>\n",
       "    <tr>\n",
       "      <th>1</th>\n",
       "      <td>1.0</td>\n",
       "      <td>5020.0</td>\n",
       "      <td>31.0</td>\n",
       "      <td>961.0</td>\n",
       "      <td>0.0</td>\n",
       "      <td>1.0</td>\n",
       "      <td>1.0</td>\n",
       "      <td>0.0</td>\n",
       "      <td>0.0</td>\n",
       "    </tr>\n",
       "    <tr>\n",
       "      <th>2</th>\n",
       "      <td>1.0</td>\n",
       "      <td>2815.0</td>\n",
       "      <td>44.0</td>\n",
       "      <td>1936.0</td>\n",
       "      <td>1.0</td>\n",
       "      <td>1.0</td>\n",
       "      <td>0.0</td>\n",
       "      <td>1.0</td>\n",
       "      <td>0.0</td>\n",
       "    </tr>\n",
       "    <tr>\n",
       "      <th>3</th>\n",
       "      <td>1.0</td>\n",
       "      <td>3786.0</td>\n",
       "      <td>30.0</td>\n",
       "      <td>900.0</td>\n",
       "      <td>0.0</td>\n",
       "      <td>0.0</td>\n",
       "      <td>0.0</td>\n",
       "      <td>1.0</td>\n",
       "      <td>0.0</td>\n",
       "    </tr>\n",
       "    <tr>\n",
       "      <th>4</th>\n",
       "      <td>1.0</td>\n",
       "      <td>2580.0</td>\n",
       "      <td>64.0</td>\n",
       "      <td>4096.0</td>\n",
       "      <td>0.0</td>\n",
       "      <td>1.0</td>\n",
       "      <td>0.0</td>\n",
       "      <td>1.0</td>\n",
       "      <td>0.0</td>\n",
       "    </tr>\n",
       "    <tr>\n",
       "      <th>...</th>\n",
       "      <td>...</td>\n",
       "      <td>...</td>\n",
       "      <td>...</td>\n",
       "      <td>...</td>\n",
       "      <td>...</td>\n",
       "      <td>...</td>\n",
       "      <td>...</td>\n",
       "      <td>...</td>\n",
       "      <td>...</td>\n",
       "    </tr>\n",
       "    <tr>\n",
       "      <th>701</th>\n",
       "      <td>1.0</td>\n",
       "      <td>2026.0</td>\n",
       "      <td>45.0</td>\n",
       "      <td>2025.0</td>\n",
       "      <td>1.0</td>\n",
       "      <td>0.0</td>\n",
       "      <td>0.0</td>\n",
       "      <td>1.0</td>\n",
       "      <td>0.0</td>\n",
       "    </tr>\n",
       "    <tr>\n",
       "      <th>702</th>\n",
       "      <td>1.0</td>\n",
       "      <td>675.0</td>\n",
       "      <td>34.0</td>\n",
       "      <td>1156.0</td>\n",
       "      <td>0.0</td>\n",
       "      <td>1.0</td>\n",
       "      <td>0.0</td>\n",
       "      <td>1.0</td>\n",
       "      <td>1.0</td>\n",
       "    </tr>\n",
       "    <tr>\n",
       "      <th>703</th>\n",
       "      <td>1.0</td>\n",
       "      <td>1851.0</td>\n",
       "      <td>37.0</td>\n",
       "      <td>1369.0</td>\n",
       "      <td>0.0</td>\n",
       "      <td>0.0</td>\n",
       "      <td>0.0</td>\n",
       "      <td>1.0</td>\n",
       "      <td>0.0</td>\n",
       "    </tr>\n",
       "    <tr>\n",
       "      <th>704</th>\n",
       "      <td>1.0</td>\n",
       "      <td>1961.0</td>\n",
       "      <td>54.0</td>\n",
       "      <td>2916.0</td>\n",
       "      <td>0.0</td>\n",
       "      <td>0.0</td>\n",
       "      <td>1.0</td>\n",
       "      <td>1.0</td>\n",
       "      <td>1.0</td>\n",
       "    </tr>\n",
       "    <tr>\n",
       "      <th>705</th>\n",
       "      <td>1.0</td>\n",
       "      <td>2363.0</td>\n",
       "      <td>30.0</td>\n",
       "      <td>900.0</td>\n",
       "      <td>0.0</td>\n",
       "      <td>0.0</td>\n",
       "      <td>1.0</td>\n",
       "      <td>1.0</td>\n",
       "      <td>0.0</td>\n",
       "    </tr>\n",
       "  </tbody>\n",
       "</table>\n",
       "<p>706 rows × 9 columns</p>\n",
       "</div>"
      ],
      "text/plain": [
       "     Intercept  totwrk   age  I(age ** 2)  smsa  male  south  marr  union\n",
       "0          1.0  3438.0  32.0       1024.0   0.0   1.0    0.0   1.0    0.0\n",
       "1          1.0  5020.0  31.0        961.0   0.0   1.0    1.0   0.0    0.0\n",
       "2          1.0  2815.0  44.0       1936.0   1.0   1.0    0.0   1.0    0.0\n",
       "3          1.0  3786.0  30.0        900.0   0.0   0.0    0.0   1.0    0.0\n",
       "4          1.0  2580.0  64.0       4096.0   0.0   1.0    0.0   1.0    0.0\n",
       "..         ...     ...   ...          ...   ...   ...    ...   ...    ...\n",
       "701        1.0  2026.0  45.0       2025.0   1.0   0.0    0.0   1.0    0.0\n",
       "702        1.0   675.0  34.0       1156.0   0.0   1.0    0.0   1.0    1.0\n",
       "703        1.0  1851.0  37.0       1369.0   0.0   0.0    0.0   1.0    0.0\n",
       "704        1.0  1961.0  54.0       2916.0   0.0   0.0    1.0   1.0    1.0\n",
       "705        1.0  2363.0  30.0        900.0   0.0   0.0    1.0   1.0    0.0\n",
       "\n",
       "[706 rows x 9 columns]"
      ]
     },
     "execution_count": 5,
     "metadata": {},
     "output_type": "execute_result"
    }
   ],
   "source": [
    "# Матрица регрессионного дизайна X (первый столбе состои только из единиц)\n",
    "# mod.exog\n",
    "# Для наглядности представим в виде pandsa DataFrame\n",
    "X = pd.DataFrame(mod.exog, columns=mod.exog_names)\n",
    "X"
   ]
  },
  {
   "cell_type": "code",
   "execution_count": 6,
   "metadata": {
    "execution": {
     "iopub.execute_input": "2024-05-04T10:38:35.115269Z",
     "iopub.status.busy": "2024-05-04T10:38:35.115269Z",
     "iopub.status.idle": "2024-05-04T10:38:35.230801Z",
     "shell.execute_reply": "2024-05-04T10:38:35.230801Z",
     "shell.execute_reply.started": "2024-05-04T10:38:35.115269Z"
    }
   },
   "outputs": [
    {
     "data": {
      "text/html": [
       "<div>\n",
       "<style scoped>\n",
       "    .dataframe tbody tr th:only-of-type {\n",
       "        vertical-align: middle;\n",
       "    }\n",
       "\n",
       "    .dataframe tbody tr th {\n",
       "        vertical-align: top;\n",
       "    }\n",
       "\n",
       "    .dataframe thead th {\n",
       "        text-align: right;\n",
       "    }\n",
       "</style>\n",
       "<table border=\"1\" class=\"dataframe\">\n",
       "  <thead>\n",
       "    <tr style=\"text-align: right;\">\n",
       "      <th></th>\n",
       "      <th>totwrk</th>\n",
       "      <th>age</th>\n",
       "      <th>I(age ** 2)</th>\n",
       "      <th>smsa</th>\n",
       "      <th>male</th>\n",
       "      <th>south</th>\n",
       "      <th>marr</th>\n",
       "      <th>union</th>\n",
       "    </tr>\n",
       "  </thead>\n",
       "  <tbody>\n",
       "    <tr>\n",
       "      <th>totwrk</th>\n",
       "      <td>1.000</td>\n",
       "      <td>-0.050</td>\n",
       "      <td>-0.067</td>\n",
       "      <td>-0.038</td>\n",
       "      <td>0.376</td>\n",
       "      <td>0.051</td>\n",
       "      <td>-0.025</td>\n",
       "      <td>0.002</td>\n",
       "    </tr>\n",
       "    <tr>\n",
       "      <th>age</th>\n",
       "      <td>-0.050</td>\n",
       "      <td>1.000</td>\n",
       "      <td>0.992</td>\n",
       "      <td>0.025</td>\n",
       "      <td>0.032</td>\n",
       "      <td>-0.018</td>\n",
       "      <td>0.018</td>\n",
       "      <td>-0.037</td>\n",
       "    </tr>\n",
       "    <tr>\n",
       "      <th>I(age ** 2)</th>\n",
       "      <td>-0.067</td>\n",
       "      <td>0.992</td>\n",
       "      <td>1.000</td>\n",
       "      <td>0.024</td>\n",
       "      <td>0.026</td>\n",
       "      <td>-0.012</td>\n",
       "      <td>0.008</td>\n",
       "      <td>-0.042</td>\n",
       "    </tr>\n",
       "    <tr>\n",
       "      <th>smsa</th>\n",
       "      <td>-0.038</td>\n",
       "      <td>0.025</td>\n",
       "      <td>0.024</td>\n",
       "      <td>1.000</td>\n",
       "      <td>0.007</td>\n",
       "      <td>-0.238</td>\n",
       "      <td>-0.081</td>\n",
       "      <td>-0.039</td>\n",
       "    </tr>\n",
       "    <tr>\n",
       "      <th>male</th>\n",
       "      <td>0.376</td>\n",
       "      <td>0.032</td>\n",
       "      <td>0.026</td>\n",
       "      <td>0.007</td>\n",
       "      <td>1.000</td>\n",
       "      <td>-0.034</td>\n",
       "      <td>0.167</td>\n",
       "      <td>0.040</td>\n",
       "    </tr>\n",
       "    <tr>\n",
       "      <th>south</th>\n",
       "      <td>0.051</td>\n",
       "      <td>-0.018</td>\n",
       "      <td>-0.012</td>\n",
       "      <td>-0.238</td>\n",
       "      <td>-0.034</td>\n",
       "      <td>1.000</td>\n",
       "      <td>-0.036</td>\n",
       "      <td>-0.047</td>\n",
       "    </tr>\n",
       "    <tr>\n",
       "      <th>marr</th>\n",
       "      <td>-0.025</td>\n",
       "      <td>0.018</td>\n",
       "      <td>0.008</td>\n",
       "      <td>-0.081</td>\n",
       "      <td>0.167</td>\n",
       "      <td>-0.036</td>\n",
       "      <td>1.000</td>\n",
       "      <td>-0.005</td>\n",
       "    </tr>\n",
       "    <tr>\n",
       "      <th>union</th>\n",
       "      <td>0.002</td>\n",
       "      <td>-0.037</td>\n",
       "      <td>-0.042</td>\n",
       "      <td>-0.039</td>\n",
       "      <td>0.040</td>\n",
       "      <td>-0.047</td>\n",
       "      <td>-0.005</td>\n",
       "      <td>1.000</td>\n",
       "    </tr>\n",
       "  </tbody>\n",
       "</table>\n",
       "</div>"
      ],
      "text/plain": [
       "             totwrk    age  I(age ** 2)   smsa   male  south   marr  union\n",
       "totwrk        1.000 -0.050       -0.067 -0.038  0.376  0.051 -0.025  0.002\n",
       "age          -0.050  1.000        0.992  0.025  0.032 -0.018  0.018 -0.037\n",
       "I(age ** 2)  -0.067  0.992        1.000  0.024  0.026 -0.012  0.008 -0.042\n",
       "smsa         -0.038  0.025        0.024  1.000  0.007 -0.238 -0.081 -0.039\n",
       "male          0.376  0.032        0.026  0.007  1.000 -0.034  0.167  0.040\n",
       "south         0.051 -0.018       -0.012 -0.238 -0.034  1.000 -0.036 -0.047\n",
       "marr         -0.025  0.018        0.008 -0.081  0.167 -0.036  1.000 -0.005\n",
       "union         0.002 -0.037       -0.042 -0.039  0.040 -0.047 -0.005  1.000"
      ]
     },
     "execution_count": 6,
     "metadata": {},
     "output_type": "execute_result"
    }
   ],
   "source": [
    "# Корреляционная матрицы для регрессоров\n",
    "# Отметим, что нужно исключить первый столбец из единиц\n",
    "corr_matrix = X.drop(columns='Intercept').corr()\n",
    "corr_matrix.round(3)"
   ]
  },
  {
   "cell_type": "code",
   "execution_count": 7,
   "metadata": {
    "execution": {
     "iopub.execute_input": "2024-05-04T10:38:35.232800Z",
     "iopub.status.busy": "2024-05-04T10:38:35.232800Z",
     "iopub.status.idle": "2024-05-04T10:38:35.639057Z",
     "shell.execute_reply": "2024-05-04T10:38:35.639057Z",
     "shell.execute_reply.started": "2024-05-04T10:38:35.232800Z"
    }
   },
   "outputs": [
    {
     "data": {
      "image/png": "[encoded data removed]",
      "text/plain": [
       "<Figure size 640x480 with 2 Axes>"
      ]
     },
     "metadata": {},
     "output_type": "display_data"
    }
   ],
   "source": [
    "# Визуализация корреляций\n",
    "plot_corr(corr_matrix, xnames=mod.exog_names[1:], normcolor=True)\n",
    "plt.show()"
   ]
  },
  {
   "cell_type": "markdown",
   "metadata": {},
   "source": [
    "## VIF"
   ]
  },
  {
   "cell_type": "code",
   "execution_count": 8,
   "metadata": {
    "execution": {
     "iopub.execute_input": "2024-05-04T10:38:35.639057Z",
     "iopub.status.busy": "2024-05-04T10:38:35.639057Z",
     "iopub.status.idle": "2024-05-04T10:38:35.648184Z",
     "shell.execute_reply": "2024-05-04T10:38:35.648184Z",
     "shell.execute_reply.started": "2024-05-04T10:38:35.639057Z"
    }
   },
   "outputs": [
    {
     "data": {
      "text/plain": [
       "['Intercept',\n",
       " 'totwrk',\n",
       " 'age',\n",
       " 'I(age ** 2)',\n",
       " 'smsa',\n",
       " 'male',\n",
       " 'south',\n",
       " 'marr',\n",
       " 'union']"
      ]
     },
     "execution_count": 8,
     "metadata": {},
     "output_type": "execute_result"
    }
   ],
   "source": [
    "# имена экзогенных переменных\n",
    "mod.exog_names"
   ]
  },
  {
   "cell_type": "code",
   "execution_count": 9,
   "metadata": {
    "execution": {
     "iopub.execute_input": "2024-05-04T10:38:35.651180Z",
     "iopub.status.busy": "2024-05-04T10:38:35.650183Z",
     "iopub.status.idle": "2024-05-04T10:38:35.853208Z",
     "shell.execute_reply": "2024-05-04T10:38:35.852206Z",
     "shell.execute_reply.started": "2024-05-04T10:38:35.651180Z"
    }
   },
   "outputs": [
    {
     "data": {
      "text/plain": [
       "(1.2146479641237495, 66.00983765136014, 66.1675469441062, 1.0745034548007828)"
      ]
     },
     "execution_count": 9,
     "metadata": {},
     "output_type": "execute_result"
    }
   ],
   "source": [
    "VIF(exog=X, exog_idx=1), VIF(exog=X, exog_idx=2), VIF(exog=X, exog_idx=3), VIF(exog=X, exog_idx=4)"
   ]
  },
  {
   "cell_type": "code",
   "execution_count": 10,
   "metadata": {
    "execution": {
     "iopub.execute_input": "2024-05-04T10:38:35.860772Z",
     "iopub.status.busy": "2024-05-04T10:38:35.860772Z",
     "iopub.status.idle": "2024-05-04T10:38:36.008127Z",
     "shell.execute_reply": "2024-05-04T10:38:36.008127Z",
     "shell.execute_reply.started": "2024-05-04T10:38:35.860772Z"
    }
   },
   "outputs": [
    {
     "name": "stdout",
     "output_type": "stream",
     "text": [
      "VIF(totwrk)=1.215\n",
      "VIF(age)=66.01\n",
      "VIF(I(age ** 2))=66.168\n",
      "VIF(smsa)=1.075\n",
      "VIF(male)=1.22\n",
      "VIF(south)=1.074\n",
      "VIF(marr)=1.056\n",
      "VIF(union)=1.011\n"
     ]
    }
   ],
   "source": [
    "# Напечатаем все VIF\n",
    "for i in np.arange(1, len(mod.exog_names)):\n",
    "\tprint(f'VIF({mod.exog_names[i]})={round(VIF(exog=X, exog_idx=i),3)}')"
   ]
  },
  {
   "cell_type": "markdown",
   "metadata": {},
   "source": [
    "## Другие способы визуализации корреляционной матрицы\n",
    "\n",
    "С использованием методы [`heatmap`](https://seaborn.pydata.org/generated/seaborn.heatmap.html#seaborn.heatmap) из библиотеки [`seaborn`](https://seaborn.pydata.org/)"
   ]
  },
  {
   "cell_type": "code",
   "execution_count": 11,
   "metadata": {
    "execution": {
     "iopub.execute_input": "2024-05-04T10:38:36.010890Z",
     "iopub.status.busy": "2024-05-04T10:38:36.009892Z",
     "iopub.status.idle": "2024-05-04T10:38:37.442204Z",
     "shell.execute_reply": "2024-05-04T10:38:37.442204Z",
     "shell.execute_reply.started": "2024-05-04T10:38:36.010890Z"
    }
   },
   "outputs": [
    {
     "data": {
      "text/plain": [
       "<Axes: >"
      ]
     },
     "execution_count": 11,
     "metadata": {},
     "output_type": "execute_result"
    },
    {
     "data": {
      "image/png": "[encoded data removed]",
      "text/plain": [
       "<Figure size 640x480 with 2 Axes>"
      ]
     },
     "metadata": {},
     "output_type": "display_data"
    }
   ],
   "source": [
    "import seaborn as sns\n",
    "\n",
    "sns.heatmap(corr_matrix, vmax=1, vmin=-1, annot=True)"
   ]
  },
  {
   "cell_type": "markdown",
   "metadata": {},
   "source": [
    "средствами `pandas`"
   ]
  },
  {
   "cell_type": "code",
   "execution_count": 12,
   "metadata": {
    "execution": {
     "iopub.execute_input": "2024-05-04T10:38:37.445198Z",
     "iopub.status.busy": "2024-05-04T10:38:37.444202Z",
     "iopub.status.idle": "2024-05-04T10:38:37.543749Z",
     "shell.execute_reply": "2024-05-04T10:38:37.543400Z",
     "shell.execute_reply.started": "2024-05-04T10:38:37.445198Z"
    }
   },
   "outputs": [
    {
     "data": {
      "text/html": [
       "<style type=\"text/css\">\n",
       "#T_acba7_row0_col0, #T_acba7_row1_col1, #T_acba7_row2_col2, #T_acba7_row3_col3, #T_acba7_row4_col4, #T_acba7_row5_col5, #T_acba7_row6_col6, #T_acba7_row7_col7 {\n",
       "  background-color: #b40426;\n",
       "  color: #f1f1f1;\n",
       "}\n",
       "#T_acba7_row0_col1, #T_acba7_row1_col0, #T_acba7_row5_col7, #T_acba7_row7_col5 {\n",
       "  background-color: #d6dce4;\n",
       "  color: #000000;\n",
       "}\n",
       "#T_acba7_row0_col2, #T_acba7_row2_col0 {\n",
       "  background-color: #d4dbe6;\n",
       "  color: #000000;\n",
       "}\n",
       "#T_acba7_row0_col3, #T_acba7_row1_col7, #T_acba7_row3_col0, #T_acba7_row3_col7, #T_acba7_row4_col5, #T_acba7_row5_col4, #T_acba7_row5_col6, #T_acba7_row6_col5, #T_acba7_row7_col1, #T_acba7_row7_col3 {\n",
       "  background-color: #d8dce2;\n",
       "  color: #000000;\n",
       "}\n",
       "#T_acba7_row0_col4, #T_acba7_row4_col0 {\n",
       "  background-color: #f7b093;\n",
       "  color: #000000;\n",
       "}\n",
       "#T_acba7_row0_col5, #T_acba7_row5_col0 {\n",
       "  background-color: #e3d9d3;\n",
       "  color: #000000;\n",
       "}\n",
       "#T_acba7_row0_col6, #T_acba7_row6_col0 {\n",
       "  background-color: #d9dce1;\n",
       "  color: #000000;\n",
       "}\n",
       "#T_acba7_row0_col7, #T_acba7_row3_col4, #T_acba7_row4_col3, #T_acba7_row7_col0 {\n",
       "  background-color: #dddcdc;\n",
       "  color: #000000;\n",
       "}\n",
       "#T_acba7_row1_col2, #T_acba7_row2_col1 {\n",
       "  background-color: #b50927;\n",
       "  color: #f1f1f1;\n",
       "}\n",
       "#T_acba7_row1_col3, #T_acba7_row2_col3, #T_acba7_row2_col4, #T_acba7_row3_col1, #T_acba7_row3_col2, #T_acba7_row4_col2 {\n",
       "  background-color: #e0dbd8;\n",
       "  color: #000000;\n",
       "}\n",
       "#T_acba7_row1_col4, #T_acba7_row4_col1 {\n",
       "  background-color: #e1dad6;\n",
       "  color: #000000;\n",
       "}\n",
       "#T_acba7_row1_col5, #T_acba7_row5_col1 {\n",
       "  background-color: #dadce0;\n",
       "  color: #000000;\n",
       "}\n",
       "#T_acba7_row1_col6, #T_acba7_row6_col1 {\n",
       "  background-color: #dfdbd9;\n",
       "  color: #000000;\n",
       "}\n",
       "#T_acba7_row2_col5, #T_acba7_row5_col2 {\n",
       "  background-color: #dbdcde;\n",
       "  color: #000000;\n",
       "}\n",
       "#T_acba7_row2_col6, #T_acba7_row6_col2 {\n",
       "  background-color: #dedcdb;\n",
       "  color: #000000;\n",
       "}\n",
       "#T_acba7_row2_col7, #T_acba7_row7_col2 {\n",
       "  background-color: #d7dce3;\n",
       "  color: #000000;\n",
       "}\n",
       "#T_acba7_row3_col5, #T_acba7_row5_col3 {\n",
       "  background-color: #bad0f8;\n",
       "  color: #000000;\n",
       "}\n",
       "#T_acba7_row3_col6, #T_acba7_row6_col3 {\n",
       "  background-color: #d2dbe8;\n",
       "  color: #000000;\n",
       "}\n",
       "#T_acba7_row4_col6, #T_acba7_row6_col4 {\n",
       "  background-color: #efcebd;\n",
       "  color: #000000;\n",
       "}\n",
       "#T_acba7_row4_col7, #T_acba7_row7_col4 {\n",
       "  background-color: #e2dad5;\n",
       "  color: #000000;\n",
       "}\n",
       "#T_acba7_row6_col7, #T_acba7_row7_col6 {\n",
       "  background-color: #dcdddd;\n",
       "  color: #000000;\n",
       "}\n",
       "</style>\n",
       "<table id=\"T_acba7\">\n",
       "  <thead>\n",
       "    <tr>\n",
       "      <th class=\"blank level0\" >&nbsp;</th>\n",
       "      <th id=\"T_acba7_level0_col0\" class=\"col_heading level0 col0\" >totwrk</th>\n",
       "      <th id=\"T_acba7_level0_col1\" class=\"col_heading level0 col1\" >age</th>\n",
       "      <th id=\"T_acba7_level0_col2\" class=\"col_heading level0 col2\" >I(age ** 2)</th>\n",
       "      <th id=\"T_acba7_level0_col3\" class=\"col_heading level0 col3\" >smsa</th>\n",
       "      <th id=\"T_acba7_level0_col4\" class=\"col_heading level0 col4\" >male</th>\n",
       "      <th id=\"T_acba7_level0_col5\" class=\"col_heading level0 col5\" >south</th>\n",
       "      <th id=\"T_acba7_level0_col6\" class=\"col_heading level0 col6\" >marr</th>\n",
       "      <th id=\"T_acba7_level0_col7\" class=\"col_heading level0 col7\" >union</th>\n",
       "    </tr>\n",
       "  </thead>\n",
       "  <tbody>\n",
       "    <tr>\n",
       "      <th id=\"T_acba7_level0_row0\" class=\"row_heading level0 row0\" >totwrk</th>\n",
       "      <td id=\"T_acba7_row0_col0\" class=\"data row0 col0\" >1.00</td>\n",
       "      <td id=\"T_acba7_row0_col1\" class=\"data row0 col1\" >-0.05</td>\n",
       "      <td id=\"T_acba7_row0_col2\" class=\"data row0 col2\" >-0.07</td>\n",
       "      <td id=\"T_acba7_row0_col3\" class=\"data row0 col3\" >-0.04</td>\n",
       "      <td id=\"T_acba7_row0_col4\" class=\"data row0 col4\" >0.38</td>\n",
       "      <td id=\"T_acba7_row0_col5\" class=\"data row0 col5\" >0.05</td>\n",
       "      <td id=\"T_acba7_row0_col6\" class=\"data row0 col6\" >-0.03</td>\n",
       "      <td id=\"T_acba7_row0_col7\" class=\"data row0 col7\" >0.00</td>\n",
       "    </tr>\n",
       "    <tr>\n",
       "      <th id=\"T_acba7_level0_row1\" class=\"row_heading level0 row1\" >age</th>\n",
       "      <td id=\"T_acba7_row1_col0\" class=\"data row1 col0\" >-0.05</td>\n",
       "      <td id=\"T_acba7_row1_col1\" class=\"data row1 col1\" >1.00</td>\n",
       "      <td id=\"T_acba7_row1_col2\" class=\"data row1 col2\" >0.99</td>\n",
       "      <td id=\"T_acba7_row1_col3\" class=\"data row1 col3\" >0.02</td>\n",
       "      <td id=\"T_acba7_row1_col4\" class=\"data row1 col4\" >0.03</td>\n",
       "      <td id=\"T_acba7_row1_col5\" class=\"data row1 col5\" >-0.02</td>\n",
       "      <td id=\"T_acba7_row1_col6\" class=\"data row1 col6\" >0.02</td>\n",
       "      <td id=\"T_acba7_row1_col7\" class=\"data row1 col7\" >-0.04</td>\n",
       "    </tr>\n",
       "    <tr>\n",
       "      <th id=\"T_acba7_level0_row2\" class=\"row_heading level0 row2\" >I(age ** 2)</th>\n",
       "      <td id=\"T_acba7_row2_col0\" class=\"data row2 col0\" >-0.07</td>\n",
       "      <td id=\"T_acba7_row2_col1\" class=\"data row2 col1\" >0.99</td>\n",
       "      <td id=\"T_acba7_row2_col2\" class=\"data row2 col2\" >1.00</td>\n",
       "      <td id=\"T_acba7_row2_col3\" class=\"data row2 col3\" >0.02</td>\n",
       "      <td id=\"T_acba7_row2_col4\" class=\"data row2 col4\" >0.03</td>\n",
       "      <td id=\"T_acba7_row2_col5\" class=\"data row2 col5\" >-0.01</td>\n",
       "      <td id=\"T_acba7_row2_col6\" class=\"data row2 col6\" >0.01</td>\n",
       "      <td id=\"T_acba7_row2_col7\" class=\"data row2 col7\" >-0.04</td>\n",
       "    </tr>\n",
       "    <tr>\n",
       "      <th id=\"T_acba7_level0_row3\" class=\"row_heading level0 row3\" >smsa</th>\n",
       "      <td id=\"T_acba7_row3_col0\" class=\"data row3 col0\" >-0.04</td>\n",
       "      <td id=\"T_acba7_row3_col1\" class=\"data row3 col1\" >0.02</td>\n",
       "      <td id=\"T_acba7_row3_col2\" class=\"data row3 col2\" >0.02</td>\n",
       "      <td id=\"T_acba7_row3_col3\" class=\"data row3 col3\" >1.00</td>\n",
       "      <td id=\"T_acba7_row3_col4\" class=\"data row3 col4\" >0.01</td>\n",
       "      <td id=\"T_acba7_row3_col5\" class=\"data row3 col5\" >-0.24</td>\n",
       "      <td id=\"T_acba7_row3_col6\" class=\"data row3 col6\" >-0.08</td>\n",
       "      <td id=\"T_acba7_row3_col7\" class=\"data row3 col7\" >-0.04</td>\n",
       "    </tr>\n",
       "    <tr>\n",
       "      <th id=\"T_acba7_level0_row4\" class=\"row_heading level0 row4\" >male</th>\n",
       "      <td id=\"T_acba7_row4_col0\" class=\"data row4 col0\" >0.38</td>\n",
       "      <td id=\"T_acba7_row4_col1\" class=\"data row4 col1\" >0.03</td>\n",
       "      <td id=\"T_acba7_row4_col2\" class=\"data row4 col2\" >0.03</td>\n",
       "      <td id=\"T_acba7_row4_col3\" class=\"data row4 col3\" >0.01</td>\n",
       "      <td id=\"T_acba7_row4_col4\" class=\"data row4 col4\" >1.00</td>\n",
       "      <td id=\"T_acba7_row4_col5\" class=\"data row4 col5\" >-0.03</td>\n",
       "      <td id=\"T_acba7_row4_col6\" class=\"data row4 col6\" >0.17</td>\n",
       "      <td id=\"T_acba7_row4_col7\" class=\"data row4 col7\" >0.04</td>\n",
       "    </tr>\n",
       "    <tr>\n",
       "      <th id=\"T_acba7_level0_row5\" class=\"row_heading level0 row5\" >south</th>\n",
       "      <td id=\"T_acba7_row5_col0\" class=\"data row5 col0\" >0.05</td>\n",
       "      <td id=\"T_acba7_row5_col1\" class=\"data row5 col1\" >-0.02</td>\n",
       "      <td id=\"T_acba7_row5_col2\" class=\"data row5 col2\" >-0.01</td>\n",
       "      <td id=\"T_acba7_row5_col3\" class=\"data row5 col3\" >-0.24</td>\n",
       "      <td id=\"T_acba7_row5_col4\" class=\"data row5 col4\" >-0.03</td>\n",
       "      <td id=\"T_acba7_row5_col5\" class=\"data row5 col5\" >1.00</td>\n",
       "      <td id=\"T_acba7_row5_col6\" class=\"data row5 col6\" >-0.04</td>\n",
       "      <td id=\"T_acba7_row5_col7\" class=\"data row5 col7\" >-0.05</td>\n",
       "    </tr>\n",
       "    <tr>\n",
       "      <th id=\"T_acba7_level0_row6\" class=\"row_heading level0 row6\" >marr</th>\n",
       "      <td id=\"T_acba7_row6_col0\" class=\"data row6 col0\" >-0.03</td>\n",
       "      <td id=\"T_acba7_row6_col1\" class=\"data row6 col1\" >0.02</td>\n",
       "      <td id=\"T_acba7_row6_col2\" class=\"data row6 col2\" >0.01</td>\n",
       "      <td id=\"T_acba7_row6_col3\" class=\"data row6 col3\" >-0.08</td>\n",
       "      <td id=\"T_acba7_row6_col4\" class=\"data row6 col4\" >0.17</td>\n",
       "      <td id=\"T_acba7_row6_col5\" class=\"data row6 col5\" >-0.04</td>\n",
       "      <td id=\"T_acba7_row6_col6\" class=\"data row6 col6\" >1.00</td>\n",
       "      <td id=\"T_acba7_row6_col7\" class=\"data row6 col7\" >-0.00</td>\n",
       "    </tr>\n",
       "    <tr>\n",
       "      <th id=\"T_acba7_level0_row7\" class=\"row_heading level0 row7\" >union</th>\n",
       "      <td id=\"T_acba7_row7_col0\" class=\"data row7 col0\" >0.00</td>\n",
       "      <td id=\"T_acba7_row7_col1\" class=\"data row7 col1\" >-0.04</td>\n",
       "      <td id=\"T_acba7_row7_col2\" class=\"data row7 col2\" >-0.04</td>\n",
       "      <td id=\"T_acba7_row7_col3\" class=\"data row7 col3\" >-0.04</td>\n",
       "      <td id=\"T_acba7_row7_col4\" class=\"data row7 col4\" >0.04</td>\n",
       "      <td id=\"T_acba7_row7_col5\" class=\"data row7 col5\" >-0.05</td>\n",
       "      <td id=\"T_acba7_row7_col6\" class=\"data row7 col6\" >-0.00</td>\n",
       "      <td id=\"T_acba7_row7_col7\" class=\"data row7 col7\" >1.00</td>\n",
       "    </tr>\n",
       "  </tbody>\n",
       "</table>\n"
      ],
      "text/plain": [
       "<pandas.io.formats.style.Styler at 0x17fa6ac7790>"
      ]
     },
     "execution_count": 12,
     "metadata": {},
     "output_type": "execute_result"
    }
   ],
   "source": [
    "corr_matrix.style.background_gradient(cmap='coolwarm', vmax=1, vmin=-1).format(precision=2)"
   ]
  },
  {
   "cell_type": "markdown",
   "metadata": {},
   "source": [
    "используя `matshow` из `matplotlib`"
   ]
  },
  {
   "cell_type": "code",
   "execution_count": 13,
   "metadata": {
    "execution": {
     "iopub.execute_input": "2024-05-04T10:38:37.546898Z",
     "iopub.status.busy": "2024-05-04T10:38:37.546898Z",
     "iopub.status.idle": "2024-05-04T10:38:37.794092Z",
     "shell.execute_reply": "2024-05-04T10:38:37.794092Z",
     "shell.execute_reply.started": "2024-05-04T10:38:37.546898Z"
    },
    "tags": []
   },
   "outputs": [
    {
     "data": {
      "image/png": "[encoded data removed]",
      "text/plain": [
       "<Figure size 480x480 with 2 Axes>"
      ]
     },
     "metadata": {},
     "output_type": "display_data"
    }
   ],
   "source": [
    "plt.matshow(corr_matrix)\n",
    "plt.colorbar()\n",
    "plt.show()"
   ]
  }
 ],
 "metadata": {
  "kernelspec": {
   "display_name": "Python [conda env:courses]",
   "language": "python",
   "name": "conda-env-courses-py"
  },
  "language_info": {
   "codemirror_mode": {
    "name": "ipython",
    "version": 3
   },
   "file_extension": ".py",
   "mimetype": "text/x-python",
   "name": "python",
   "nbconvert_exporter": "python",
   "pygments_lexer": "ipython3",
   "version": "3.11.7"
  }
 },
 "nbformat": 4,
 "nbformat_minor": 4
}
