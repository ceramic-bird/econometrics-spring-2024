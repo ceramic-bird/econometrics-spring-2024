{
 "cells": [
  {
   "cell_type": "markdown",
   "metadata": {},
   "source": [
    "# Диагностика модели: тесты на серийную корреляцию"
   ]
  },
  {
   "cell_type": "code",
   "execution_count": null,
   "metadata": {},
   "outputs": [],
   "source": [
    "import pandas as pd\n",
    "import numpy as np\n",
    "\n",
    "import statsmodels.formula.api as smf\n",
    "from statsmodels.stats.api import durbin_watson, acorr_breusch_godfrey, cov_hac # DW & LM-тесты\n",
    "from statsmodels.iolib.summary2 import summary_col # вывод подгонки\n",
    "\n",
    "from scipy.stats import chi2, t # chi2&t-распределения и критические значения\n",
    "\n",
    "# Не показывать Warning\n",
    "import warnings\n",
    "warnings.simplefilter(action='ignore', category=Warning)"
   ]
  },
  {
   "cell_type": "code",
   "execution_count": null,
   "metadata": {},
   "outputs": [],
   "source": [
    "# загрузим данные\n",
    "df = pd.read_csv('Filename.csv')"
   ]
  },
  {
   "cell_type": "markdown",
   "metadata": {},
   "source": [
    "Рассмотрим регрессию\n",
    "\n",
    "$$\n",
    "\t\\text{наберите уравнение регрессии}\n",
    "$$"
   ]
  },
  {
   "cell_type": "markdown",
   "metadata": {},
   "source": [
    "## Спецификация и подгонка\n",
    "\n",
    "__Замечание__: сначала подготовим датасет, т.е. выполним необходимые преобразования данных и добавим новые переменные:"
   ]
  },
  {
   "cell_type": "code",
   "execution_count": null,
   "metadata": {},
   "outputs": [],
   "source": [
    "# добавим новые переменные в датасет:\n",
    "\n",
    "df"
   ]
  },
  {
   "cell_type": "code",
   "execution_count": null,
   "metadata": {},
   "outputs": [],
   "source": [
    "# спецификация модели через формулу\n",
    "mod = smf.ols(formula='your specification', data=df)\n",
    "# подгонка модели с ковариационной матрицей по умолчанию (неробастной)\n",
    "res = mod.fit()"
   ]
  },
  {
   "cell_type": "markdown",
   "metadata": {},
   "source": [
    "## DW-тест\n",
    "\n",
    "Тестируем модель на серийную корреляцию 1-го порядка"
   ]
  },
  {
   "cell_type": "code",
   "execution_count": null,
   "metadata": {},
   "outputs": [],
   "source": [
    "# DW-статистика\n",
    "durbin_watson(res.resid)"
   ]
  },
  {
   "cell_type": "markdown",
   "metadata": {},
   "source": [
    "__Правила принятия решения по критерию Дарбина-Уотсона__\n",
    "\n",
    "|Значение $DW$ |Гипотеза $H_0$|Вывод |\n",
    "|:--:|:--:|:--:|\n",
    "|$0 \\leq DW< d_L$|отвергается|есть положительная автокорреляция|\n",
    "|$d_L \\leq DW \\leq d_U$ |?|неопределенность |\n",
    "|$d_U < DW < 4-d_U$ |не отвергается |автокорреляция отсутствует |\n",
    "|$4-d_U \\leq DW \\leq 4-d_L$|?|неопределенность |\n",
    "|$4-d_L < DW \\leq 4$ |отвергается|есть отрицательная автокорреляция|"
   ]
  },
  {
   "cell_type": "markdown",
   "metadata": {},
   "source": [
    "__По таблицам__\n",
    "\n",
    "$d_L = $\n",
    "\n",
    "$d_U = $"
   ]
  },
  {
   "cell_type": "markdown",
   "metadata": {},
   "source": [
    "### Вывод"
   ]
  },
  {
   "cell_type": "markdown",
   "metadata": {},
   "source": [
    "ваш вывод"
   ]
  },
  {
   "cell_type": "markdown",
   "metadata": {},
   "source": [
    "## LM/BG-тест\n",
    "\n",
    "Тестируем модель на серийную корреляцию *-го порядка"
   ]
  },
  {
   "cell_type": "code",
   "execution_count": null,
   "metadata": {},
   "outputs": [],
   "source": [
    "# LM-тест на автокорреляцию *-го порядка\n",
    "acorr_order = \n",
    "lm, lmpval, fval, fpval = acorr_breusch_godfrey(res, nlags=acorr_order)\n",
    "lm, lmpval"
   ]
  },
  {
   "cell_type": "markdown",
   "metadata": {},
   "source": [
    "## Критическое значение $\\chi^2$-распределения"
   ]
  },
  {
   "cell_type": "code",
   "execution_count": null,
   "metadata": {},
   "outputs": [],
   "source": [
    "# Задаём уровень значимости\n",
    "sign_level = \n",
    "# Критическое значение распределения chi2\n",
    "chi2.ppf(q=1-sign_level, df=acorr_order)"
   ]
  },
  {
   "cell_type": "markdown",
   "metadata": {},
   "source": [
    "### Вывод"
   ]
  },
  {
   "cell_type": "markdown",
   "metadata": {},
   "source": [
    "ваш вывод"
   ]
  },
  {
   "cell_type": "markdown",
   "metadata": {},
   "source": [
    "## Спецификация и подгонка"
   ]
  },
  {
   "cell_type": "code",
   "execution_count": null,
   "metadata": {},
   "outputs": [],
   "source": [
    "# спецификация модели через формулу\n",
    "mod = smf.ols(formula='your specification', data=df)\n",
    "# подгонка модели с ковариационной матрицей по умолчанию (неробастной)\n",
    "res_ols = mod.fit()\n",
    "# подгонка модели с робастной HAC-оценкой ковариационной матрицы\n",
    "res_hac = mod.fit(cov_type='HAC', cov_kwds={'maxlags': None, 'use_correction':True})"
   ]
  },
  {
   "cell_type": "markdown",
   "metadata": {},
   "source": [
    "## Критическое значение t-распределения"
   ]
  },
  {
   "cell_type": "code",
   "execution_count": null,
   "metadata": {},
   "outputs": [],
   "source": [
    "# уровнь значимости\n",
    "sign_level = \n",
    "# критическое значение t-распределения\n",
    "t.ppf(q=1-sign_level/2, df=mod.df_resid)"
   ]
  },
  {
   "cell_type": "markdown",
   "metadata": {},
   "source": [
    "## Неробастный t-тест на значимость коэффициентов"
   ]
  },
  {
   "cell_type": "code",
   "execution_count": null,
   "metadata": {},
   "outputs": [],
   "source": [
    "summary_params(res_ols, alpha=).round(3)"
   ]
  },
  {
   "cell_type": "markdown",
   "metadata": {},
   "source": [
    "### Вывод\n",
    "\n",
    "ваш вывод"
   ]
  },
  {
   "cell_type": "markdown",
   "metadata": {},
   "source": [
    "## Робастный t-тест (HAC s.e.) на значимость коэффициентов"
   ]
  },
  {
   "cell_type": "code",
   "execution_count": null,
   "metadata": {},
   "outputs": [],
   "source": [
    "summary_params(res_hac, alpha=).round(3)"
   ]
  },
  {
   "cell_type": "markdown",
   "metadata": {},
   "source": [
    "### Вывод\n",
    "\n",
    "ваш вывод"
   ]
  },
  {
   "cell_type": "markdown",
   "metadata": {},
   "source": [
    "## Результаты двух оцениваний в одной таблице\n",
    "\n",
    "__Обратим внимание на коды значимости (количество звёздочек у коэффициентов)__"
   ]
  },
  {
   "cell_type": "code",
   "execution_count": null,
   "metadata": {},
   "outputs": [],
   "source": [
    "summary_col([res_ols, res_hac], model_names=['OLS-CME', 'HAC-CME'], stars=True)"
   ]
  }
 ],
 "metadata": {
  "kernelspec": {
   "display_name": "Python [conda env:courses]",
   "language": "python",
   "name": "conda-env-courses-py"
  },
  "language_info": {
   "codemirror_mode": {
    "name": "ipython",
    "version": 3
   },
   "file_extension": ".py",
   "mimetype": "text/x-python",
   "name": "python",
   "nbconvert_exporter": "python",
   "pygments_lexer": "ipython3",
   "version": "3.11.7"
  }
 },
 "nbformat": 4,
 "nbformat_minor": 4
}
