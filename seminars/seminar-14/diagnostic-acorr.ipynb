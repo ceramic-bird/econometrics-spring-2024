{
 "cells": [
  {
   "cell_type": "markdown",
   "metadata": {},
   "source": [
    "# Диагностика модели: регрессия с серийной корреляцией"
   ]
  },
  {
   "cell_type": "code",
   "execution_count": null,
   "metadata": {},
   "outputs": [],
   "source": [
    "import pandas as pd\n",
    "import numpy as np\n",
    "\n",
    "import statsmodels.formula.api as smf\n",
    "from statsmodels.stats.api import durbin_watson, acorr_breusch_godfrey, cov_hac # DW & LM-тесты\n",
    "from statsmodels.iolib.summary2 import summary_col # вывод подгонки\n",
    "\n",
    "from scipy.stats import chi2 # chi2-распределение и критические значения\n",
    "\n",
    "# настройки визуализация\n",
    "import matplotlib.pyplot as plt\n",
    "\n",
    "# Не показывать Warning\n",
    "import warnings\n",
    "warnings.simplefilter(action='ignore', category=Warning)"
   ]
  },
  {
   "cell_type": "markdown",
   "metadata": {},
   "source": [
    "<div style=\"background-color:Bisque; color:DarkBlue; padding:30px;\">\n",
    "\n",
    "<i><b><span style=\"color: purple\">Диагностика модели: тесты на серийную корреляцию</span> </b><br>\n",
    "\n",
    "Рассмотрим __линейную регрессию для временных рядов__ с серийной корреляцией для ошибки (внешнего шока)\n",
    "\n",
    "$$\n",
    "\\begin{aligned}\n",
    "\ty_t&=x_t^\\top\\beta+u_t \\\\ u_t&=\\rho_1u_{t-1}+\\cdots+\\rho_pu_{t-p}+v_t\n",
    "\\end{aligned}\n",
    "$$\n",
    "где\n",
    "* $y_t,x_t$ наблюдаемы\n",
    "* $u_t$ - эндогенный внешний шок (__ненаблюдаем!__)\n",
    "* $v_t$ - экзогенный внешний шок (__ненаблюдаем!__)\n",
    "* $p$ - порядок серийной корреляции/автокорреляции\n",
    "\n",
    "**<span style=\"color:purple\">DW-тест:</span>** тестируем автокорреляцию __первого порядка__, т.е. для модели\n",
    "\n",
    "$$\n",
    "\\begin{aligned}\n",
    "\ty_t&=x_t^\\top\\beta+u_t \\\\ u_t&=\\rho u_{t-1}+v_t\n",
    "\\end{aligned}\n",
    "$$\n",
    "тестируем\n",
    "\n",
    "$$\n",
    "\\begin{aligned}\n",
    "\tH_0:\\rho&=0 & &vs & H_1:\\rho&\\ne0\n",
    "\\end{aligned}\n",
    "$$\n",
    "\n",
    "__Тестовая статистика__\n",
    "\n",
    "$$\n",
    "\\begin{aligned}\n",
    "\tDW&=\\frac{\\sum_{t=2}^n(e_t-e_{t-1})^2}{\\sum_{t=1}^n e^2_t} & 0\\leq DW&\\leq4\n",
    "\\end{aligned}\n",
    "$$\n",
    "\n",
    "__Критические значения__: из специальной таблицы находим два критических значения $0<d_\\ell<d_u$ (зависят от $n,k,\\alpha$)\n",
    "\n",
    "__Вывод:__ \n",
    "\n",
    "|Значение $DW$ |Гипотеза $H_0$|Вывод |\n",
    "|:--:|:--:|:--:|\n",
    "|$0 \\leq DW< d_L$|отвергается|есть положительная автокорреляция|\n",
    "|$d_L \\leq DW \\leq d_U$ |?|неопределенность |\n",
    "|$d_U < DW < 4-d_U$ |не отвергается |автокорреляция отсутствует |\n",
    "|$4-d_U \\leq DW \\leq 4-d_L$|?|неопределенность |\n",
    "|$4-d_L < DW \\leq 4$ |отвергается|есть отрицательная автокорреляция|\n",
    "\n",
    "__Вывод (приближённый):__\n",
    "* Не отвергаем гипотезу при $DW\\approx2$ (нет серийной корреляции)\n",
    "* Отвергаем гипотезу если $DW$ \"сильно отличается от 2\" (есть серийная корреляция)\n",
    "\n",
    "__Замечание:__ \n",
    "\n",
    "* используем метод [`statsmodels.stats.stattools.durbin_watson(resids)`](https://www.statsmodels.org/stable/generated/statsmodels.stats.stattools.durbin_watson.html#statsmodels.stats.stattools.durbin_watson)\n",
    "* где `resids` -  остатки модели\n",
    "* критические значения берём из специальной таблицы\n",
    " \n",
    "\n",
    "**<span style=\"color:purple\">LM/BG-тест:</span>** тест на  серийную корреляцию произвольного порядка\n",
    "\n",
    "$$\n",
    "\tH_0:\\rho_1=\\cdots=\\rho_p=0\n",
    "$$\n",
    "\n",
    "Тест основан на вспомогательной (неинтерпретируемой!) регрессии для OLS-остатков\n",
    "\n",
    "$$\n",
    "\\begin{aligned}\n",
    "\te_t\\;&\\text{на}\\; e_{t-1},\\ldots,e_{t-p}, x & &R^2_{aux}\n",
    "\\end{aligned}\n",
    "$$\n",
    "\n",
    "__Два подхода к тестированию__\n",
    "* тестовая статистика $LM=(n-p)R^2_{aux}$, критическое значение $\\chi^2_{cr}=\\chi^2_{df=p}(\\alpha)$ ($p$ - порядок серийной корреляции)\n",
    "* F-тест на совместную значимость $e_{t-1},\\ldots,e_{t-p}$\n",
    "\n",
    "__Вывод:__ Тест указывает на серийную корреляцию (отвергаем $H_0$) при $LM>\\chi^2_{cr}, F>F_{cr},P<\\alpha$. \n",
    "\n",
    "__Замечание:__ \n",
    "\n",
    "* используем метод [`statsmodels.stats.diagnostic.acorr_breusch_godfrey(res, nlags)`](https://www.statsmodels.org/stable/generated/statsmodels.stats.diagnostic.acorr_breusch_godfrey.html#statsmodels.stats.diagnostic.acorr_breusch_godfrey)\n",
    "* где `res` -  подогнанная модель\n",
    "* `nlags` – порядок автокорреляции\n",
    "* методы возвращает четыре числа: $LM$-статистику и её P-значение, $F$-статистику и её P-значение\n",
    "\n",
    "</div>"
   ]
  },
  {
   "cell_type": "markdown",
   "metadata": {},
   "source": [
    "<div style=\"background-color:Bisque; color:DarkBlue; padding:30px;\">\n",
    "\n",
    "<i><b><span style=\"color: purple\">Эконометрика регрессии с серийной корреляцией</span> </b><br>\n",
    "\n",
    "Рассмотрим __линейную регрессию для временных рядов__ с серийной корреляцией для ошибки (внешнего шока)\n",
    "\n",
    "$$\n",
    "\\begin{aligned}\n",
    "\ty_t&=x_t^\\top\\beta+u_t \\\\ u_t&=\\rho_1u_{t-1}+\\cdots+\\rho_pu_{t-p}+v_t\n",
    "\\end{aligned}\n",
    "$$\n",
    "где\n",
    "* $y_t,x_t$ наблюдаемы\n",
    "* $u_t$ - эндогенный внешний шок (__ненаблюдаем!__)\n",
    "* $v_t$ - экзогенный внешний шок (__ненаблюдаем!__)\n",
    "* $p$ - порядок серийной корреляции/автокорреляции\n",
    "\n",
    "__Цель__:\n",
    "* оценить коэффициенты $\\beta$\n",
    "* тестировать гипотезы о коэффициентах (t-/F-тесты)\n",
    "\n",
    "**<span style=\"color:purple\">Подгонка модели:</span>** обычный OLS\n",
    "\n",
    "**<span style=\"color:purple\">Тестирование гипотез:</span>** необходимо использовать робастную оценку ковариационной матрицы коэффициентов.\n",
    "__Для регрессии с серийной корреляцией используем HAC-оценку__ (HAC = Heteroskedasticity Autocorrelation Consistent) или оценку Newey-West.\n",
    "\n",
    "При подгонке модели используем следующие настройки `.fit(cov_type='HAC', cov_kwds={'maxlags': None, 'use_correction':True})`\n",
    "\n",
    "В `cov_kwds` в виде словаря задаём настройки ковариационной матрицы\n",
    "* `'maxlags':None` означает, что число лагов будет выбрано равным $[4\\sqrt[9]{(n/100)^2}]$ (Schwert rule, квадратные скобки означают целую часть числа)\n",
    "* `'use_correction':True` означает, что будет учитываться поправка на малые выборки\n",
    "\n",
    "</div>"
   ]
  },
  {
   "cell_type": "markdown",
   "metadata": {},
   "source": [
    "Для датасета `Mishkin` рассмотрим регрессию\n",
    "\n",
    "$$\n",
    "\t\\Delta(pai3)\\;\\text{на}\\;\\Delta(tb3),\\Delta(\\log(cpi))\n",
    "$$\n",
    "\n",
    "где \n",
    "* $\\Delta x_t = x_t-x_{t-1}$: первая разность или __приращение__ (период к периоду)\n",
    "* $\\Delta \\log(x_t) = \\log x_t-\\log x_{t-1}$: лог-доходность или __процентное приращение__ (период к периоду)"
   ]
  },
  {
   "cell_type": "code",
   "execution_count": null,
   "metadata": {},
   "outputs": [],
   "source": [
    "# загрузим данные\n",
    "df = pd.read_csv('Mishkin.csv')"
   ]
  },
  {
   "cell_type": "code",
   "execution_count": null,
   "metadata": {},
   "outputs": [],
   "source": [
    "# т.к. месячные данные, то зададим периодический временной индекс с 1950-02 по 1990-12\n",
    "# параметр freq задаёт периодичность\n",
    "df.index = pd.period_range(start='1950-02', end='1990-12', freq='M')\n",
    "df"
   ]
  },
  {
   "cell_type": "markdown",
   "metadata": {},
   "source": [
    "## Спецификация и подгонка\n",
    "\n",
    "__Замечание__: сначала подготовим датасет, т.е. выполним необходимые преобразования данных и добавим новые переменные:\n",
    "* дифференцируем `pai3, tb3` (новые переменные `diff_pai3, diff_tb3`)\n",
    "* log-дифференцируем `cpi` (новая переменная `diff_log_cpi`)"
   ]
  },
  {
   "cell_type": "code",
   "execution_count": null,
   "metadata": {},
   "outputs": [],
   "source": [
    "# добавим новые переменные в датасет:\n",
    "df[ ['diff_pai3', 'diff_tb3'] ] = df[ ['pai3', 'tb3'] ].diff()\n",
    "df['diff_log_cpi'] = np.log(df['cpi']).diff()\n",
    "df"
   ]
  },
  {
   "cell_type": "code",
   "execution_count": null,
   "metadata": {},
   "outputs": [],
   "source": [
    "# спецификация модели через формулу\n",
    "mod = smf.ols(formula='diff_pai3~1+diff_tb3+diff_log_cpi', data=df)\n",
    "# подгонка модели с ковариационной матрицей по умолчанию (неробастной)\n",
    "res = mod.fit()"
   ]
  },
  {
   "cell_type": "markdown",
   "metadata": {},
   "source": [
    "## DW-тест\n",
    "\n",
    "Тестируем модель на серийную корреляцию 1-го порядка"
   ]
  },
  {
   "cell_type": "code",
   "execution_count": null,
   "metadata": {},
   "outputs": [],
   "source": [
    "# DW-статистика\n",
    "durbin_watson(res.resid)"
   ]
  },
  {
   "cell_type": "markdown",
   "metadata": {},
   "source": [
    "### Вывод"
   ]
  },
  {
   "cell_type": "markdown",
   "metadata": {},
   "source": [
    "<div style=\"background-color:Bisque; color:DarkBlue; padding:30px;\">\n",
    "\n",
    "Отвергаем гипотезу $H_0$, т.к. $DW$ \"сильно отличается от 2\", <i><b><span style=\"color: purple\">есть серийная корреляция</span></b><br>\n",
    "\n",
    "</div>"
   ]
  },
  {
   "cell_type": "markdown",
   "metadata": {},
   "source": [
    "## LM/BG-тест\n",
    "\n",
    "Тестируем модель на серийную корреляцию 2-го порядка "
   ]
  },
  {
   "cell_type": "code",
   "execution_count": null,
   "metadata": {},
   "outputs": [],
   "source": [
    "# LM-тест на автокорреляцию 2-го порядка\n",
    "acorr_order = 2\n",
    "lm, lmpval, fval, fpval = acorr_breusch_godfrey(res, nlags=acorr_order)\n",
    "lm, lmpval"
   ]
  },
  {
   "cell_type": "markdown",
   "metadata": {},
   "source": [
    "## Критическое значение $\\chi^2$-распределения"
   ]
  },
  {
   "cell_type": "code",
   "execution_count": null,
   "metadata": {},
   "outputs": [],
   "source": [
    "# Задаём уровень значимости\n",
    "sign_level = 0.05\n",
    "# Критическое значение распределения chi2\n",
    "chi2.ppf(q=1-sign_level, df=acorr_order)"
   ]
  },
  {
   "cell_type": "markdown",
   "metadata": {},
   "source": [
    "### Вывод\n",
    "\n",
    "<div style=\"background-color:Bisque; color:DarkBlue; padding:30px;\">\n",
    "\n",
    "Отвергаем $H_0$ (т.к. $LM>\\chi^2_{cr}$), <i><b><span style=\"color: purple\">тест указывает на серийную корреляцию</span></b><br>\n",
    "\n",
    "</div>"
   ]
  },
  {
   "cell_type": "markdown",
   "metadata": {},
   "source": [
    "## Робастный t-тест (HAC s.e.)\n",
    "\n",
    "Используем HAC-оценку ковариационной матрицы"
   ]
  },
  {
   "cell_type": "code",
   "execution_count": null,
   "metadata": {},
   "outputs": [],
   "source": [
    "# спецификация модели через формулу\n",
    "mod = smf.ols(formula='diff_pai3~1+diff_tb3+diff_log_cpi', data=df)\n",
    "# подгонка модели с робастной HAC-оценкой ковариационной матрицы\n",
    "res_hac = mod.fit(cov_type='HAC', cov_kwds={'maxlags': None, 'use_correction':True})"
   ]
  },
  {
   "cell_type": "markdown",
   "metadata": {},
   "source": [
    "### Результаты двух оцениваний в одной таблице\n",
    "\n",
    "__Обратим внимание на коды значимости (количество звёздочек у коэффициентов)__"
   ]
  },
  {
   "cell_type": "code",
   "execution_count": null,
   "metadata": {},
   "outputs": [],
   "source": [
    "summary_col(results=[res, res_hac], model_names=['OLS-CME', 'HAC-CME'], stars=True)"
   ]
  }
 ],
 "metadata": {
  "kernelspec": {
   "display_name": "Python 3 (ipykernel)",
   "language": "python",
   "name": "python3"
  },
  "language_info": {
   "codemirror_mode": {
    "name": "ipython",
    "version": 3
   },
   "file_extension": ".py",
   "mimetype": "text/x-python",
   "name": "python",
   "nbconvert_exporter": "python",
   "pygments_lexer": "ipython3",
   "version": "3.11.5"
  }
 },
 "nbformat": 4,
 "nbformat_minor": 4
}
