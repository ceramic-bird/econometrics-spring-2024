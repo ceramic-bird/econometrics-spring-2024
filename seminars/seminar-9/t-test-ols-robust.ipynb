{
 "cells": [
  {
   "cell_type": "markdown",
   "metadata": {},
   "source": [
    "#  Неробастный и робастный t-тест: значимость коэффициентов"
   ]
  },
  {
   "cell_type": "code",
   "execution_count": 8,
   "metadata": {},
   "outputs": [],
   "source": [
    "import pandas as pd\n",
    "import numpy as np\n",
    "import statsmodels.formula.api as smf\n",
    "from statsmodels.iolib.summary2 import summary_params, summary_col # вывод результатов тестирования\n",
    "from scipy.stats import t # t-распределение и критические значения\n",
    "\n",
    "# Не показывать FutureWarnings\n",
    "import warnings\n",
    "warnings.simplefilter(action='ignore', category=FutureWarning)"
   ]
  },
  {
   "cell_type": "code",
   "execution_count": 9,
   "metadata": {},
   "outputs": [
    {
     "data": {
      "text/html": [
       "<div>\n",
       "<style scoped>\n",
       "    .dataframe tbody tr th:only-of-type {\n",
       "        vertical-align: middle;\n",
       "    }\n",
       "\n",
       "    .dataframe tbody tr th {\n",
       "        vertical-align: top;\n",
       "    }\n",
       "\n",
       "    .dataframe thead th {\n",
       "        text-align: right;\n",
       "    }\n",
       "</style>\n",
       "<table border=\"1\" class=\"dataframe\">\n",
       "  <thead>\n",
       "    <tr style=\"text-align: right;\">\n",
       "      <th></th>\n",
       "      <th>capital</th>\n",
       "      <th>labour</th>\n",
       "      <th>output</th>\n",
       "      <th>wage</th>\n",
       "    </tr>\n",
       "  </thead>\n",
       "  <tbody>\n",
       "    <tr>\n",
       "      <th>0</th>\n",
       "      <td>2.606563</td>\n",
       "      <td>184</td>\n",
       "      <td>9.250759</td>\n",
       "      <td>43.080307</td>\n",
       "    </tr>\n",
       "    <tr>\n",
       "      <th>1</th>\n",
       "      <td>1.323237</td>\n",
       "      <td>91</td>\n",
       "      <td>3.664310</td>\n",
       "      <td>27.780016</td>\n",
       "    </tr>\n",
       "    <tr>\n",
       "      <th>2</th>\n",
       "      <td>22.093692</td>\n",
       "      <td>426</td>\n",
       "      <td>28.781516</td>\n",
       "      <td>44.467748</td>\n",
       "    </tr>\n",
       "    <tr>\n",
       "      <th>3</th>\n",
       "      <td>10.737851</td>\n",
       "      <td>72</td>\n",
       "      <td>4.124642</td>\n",
       "      <td>39.734710</td>\n",
       "    </tr>\n",
       "    <tr>\n",
       "      <th>4</th>\n",
       "      <td>1.161365</td>\n",
       "      <td>46</td>\n",
       "      <td>2.890150</td>\n",
       "      <td>34.650709</td>\n",
       "    </tr>\n",
       "  </tbody>\n",
       "</table>\n",
       "</div>"
      ],
      "text/plain": [
       "     capital  labour     output       wage\n",
       "0   2.606563     184   9.250759  43.080307\n",
       "1   1.323237      91   3.664310  27.780016\n",
       "2  22.093692     426  28.781516  44.467748\n",
       "3  10.737851      72   4.124642  39.734710\n",
       "4   1.161365      46   2.890150  34.650709"
      ]
     },
     "execution_count": 9,
     "metadata": {},
     "output_type": "execute_result"
    }
   ],
   "source": [
    "# импорт данных\n",
    "df = pd.read_csv('Labour.csv')\n",
    "df.head()"
   ]
  },
  {
   "cell_type": "markdown",
   "metadata": {},
   "source": [
    "Рассмотрим регрессию\n",
    "\n",
    "$$\n",
    "\t\\log(output)=\\beta_0+\\beta_1\\log(capital)+\\beta_2\\log(labour)+\\beta_3\\log^2(capital)+\\beta_4\\log^2(labour)+error\n",
    "$$\n",
    "\n",
    "Подгоним модель методом OLS с двумя опциями\n",
    "* с оценкой ковариационной матрицы коэффициентов по умолчанию (неробастной) $Var_{OLS}(\\hat{\\beta})=s^2(X^\\top X)^{-1}$, где $s^2=\\sum e^2_i/(n-k-1)$\n",
    "* с оценкой ковариационной матрицы коэффициентов, робастной к гетероскедастичности (HC3-оценкой)\n",
    "\n",
    "Далее CME = Covariance Matrix Estimator\n",
    "\n",
    "Стандартные ошибки коэффициентов $s.e.(\\beta)$ - корни из диагональных элементов матрицы CME"
   ]
  },
  {
   "cell_type": "code",
   "execution_count": null,
   "metadata": {},
   "outputs": [],
   "source": [
    "# спецификация модели\n",
    "mod = smf.ols(formula='np.log(output)~np.log(capital)+np.log(labour)+I(np.log(capital)**2)+I(np.log(labour)**2)', data=df)\n",
    "# подгонка модели с ковариационной матрицей по умолчанию (неробастной)\n",
    "res_ols = mod.fit()\n",
    "# подгонка модели с робастной HC3 ковариационной матрицей\n",
    "res_hc = mod.fit(cov_type='HC3')"
   ]
  },
  {
   "cell_type": "markdown",
   "metadata": {},
   "source": [
    "## Гипотеза\n",
    "Тестируется гипотеза $H_0:\\beta_{j}=0, \\quad (j=1, \\dots, 4)$\n",
    "\n",
    "Пусть уровень значимости $\\alpha=5\\%=0.05$"
   ]
  },
  {
   "cell_type": "markdown",
   "metadata": {},
   "source": [
    "Критическое значение t-распределения"
   ]
  },
  {
   "cell_type": "code",
   "execution_count": 11,
   "metadata": {},
   "outputs": [
    {
     "data": {
      "text/plain": [
       "1.9641790265687167"
      ]
     },
     "execution_count": 11,
     "metadata": {},
     "output_type": "execute_result"
    }
   ],
   "source": [
    "# уровнь значимости\n",
    "sign_level = 0.05\n",
    "# критическое значение t-распределения\n",
    "t.ppf(q=1-sign_level/2, df=mod.df_resid)"
   ]
  },
  {
   "cell_type": "markdown",
   "metadata": {},
   "source": [
    "## Результаты неробастного t-теста на значимость коэффициентов"
   ]
  },
  {
   "cell_type": "code",
   "execution_count": 12,
   "metadata": {},
   "outputs": [
    {
     "data": {
      "text/html": [
       "<div>\n",
       "<style scoped>\n",
       "    .dataframe tbody tr th:only-of-type {\n",
       "        vertical-align: middle;\n",
       "    }\n",
       "\n",
       "    .dataframe tbody tr th {\n",
       "        vertical-align: top;\n",
       "    }\n",
       "\n",
       "    .dataframe thead th {\n",
       "        text-align: right;\n",
       "    }\n",
       "</style>\n",
       "<table border=\"1\" class=\"dataframe\">\n",
       "  <thead>\n",
       "    <tr style=\"text-align: right;\">\n",
       "      <th></th>\n",
       "      <th>Coef.</th>\n",
       "      <th>Std.Err.</th>\n",
       "      <th>t</th>\n",
       "      <th>P&gt;|t|</th>\n",
       "      <th>[0.025</th>\n",
       "      <th>0.975]</th>\n",
       "    </tr>\n",
       "  </thead>\n",
       "  <tbody>\n",
       "    <tr>\n",
       "      <th>Intercept</th>\n",
       "      <td>-1.304</td>\n",
       "      <td>0.189</td>\n",
       "      <td>-6.914</td>\n",
       "      <td>0.000</td>\n",
       "      <td>-1.674</td>\n",
       "      <td>-0.934</td>\n",
       "    </tr>\n",
       "    <tr>\n",
       "      <th>np.log(capital)</th>\n",
       "      <td>0.183</td>\n",
       "      <td>0.017</td>\n",
       "      <td>11.055</td>\n",
       "      <td>0.000</td>\n",
       "      <td>0.151</td>\n",
       "      <td>0.216</td>\n",
       "    </tr>\n",
       "    <tr>\n",
       "      <th>np.log(labour)</th>\n",
       "      <td>0.515</td>\n",
       "      <td>0.083</td>\n",
       "      <td>6.181</td>\n",
       "      <td>0.000</td>\n",
       "      <td>0.352</td>\n",
       "      <td>0.679</td>\n",
       "    </tr>\n",
       "    <tr>\n",
       "      <th>I(np.log(capital) ** 2)</th>\n",
       "      <td>0.023</td>\n",
       "      <td>0.005</td>\n",
       "      <td>4.518</td>\n",
       "      <td>0.000</td>\n",
       "      <td>0.013</td>\n",
       "      <td>0.033</td>\n",
       "    </tr>\n",
       "    <tr>\n",
       "      <th>I(np.log(labour) ** 2)</th>\n",
       "      <td>0.020</td>\n",
       "      <td>0.010</td>\n",
       "      <td>2.112</td>\n",
       "      <td>0.035</td>\n",
       "      <td>0.001</td>\n",
       "      <td>0.039</td>\n",
       "    </tr>\n",
       "  </tbody>\n",
       "</table>\n",
       "</div>"
      ],
      "text/plain": [
       "                         Coef.  Std.Err.       t  P>|t|  [0.025  0.975]\n",
       "Intercept               -1.304     0.189  -6.914  0.000  -1.674  -0.934\n",
       "np.log(capital)          0.183     0.017  11.055  0.000   0.151   0.216\n",
       "np.log(labour)           0.515     0.083   6.181  0.000   0.352   0.679\n",
       "I(np.log(capital) ** 2)  0.023     0.005   4.518  0.000   0.013   0.033\n",
       "I(np.log(labour) ** 2)   0.020     0.010   2.112  0.035   0.001   0.039"
      ]
     },
     "execution_count": 12,
     "metadata": {},
     "output_type": "execute_result"
    }
   ],
   "source": [
    "summary_params(res_ols, alpha=0.05).round(3)"
   ]
  },
  {
   "cell_type": "markdown",
   "metadata": {},
   "source": [
    "Сравниваем модуль т-статистики (t) с критическим значением\n",
    "P>t <0,05:\n",
    "**ВЫВОД**: На уровне значимости 5% значимы коэффициенты при регрессорах:\n",
    "* $\\log(capital)$\n",
    "* $\\log(labour)$\n",
    "* $log^2(capital)$\n",
    "* $log^2(labour)$"
   ]
  },
  {
   "cell_type": "markdown",
   "metadata": {},
   "source": [
    "## Результаты робастного t-теста на значимость коэффициентов (HC3-оценка ковариационной матрицы)"
   ]
  },
  {
   "cell_type": "code",
   "execution_count": 13,
   "metadata": {},
   "outputs": [
    {
     "data": {
      "text/html": [
       "<div>\n",
       "<style scoped>\n",
       "    .dataframe tbody tr th:only-of-type {\n",
       "        vertical-align: middle;\n",
       "    }\n",
       "\n",
       "    .dataframe tbody tr th {\n",
       "        vertical-align: top;\n",
       "    }\n",
       "\n",
       "    .dataframe thead th {\n",
       "        text-align: right;\n",
       "    }\n",
       "</style>\n",
       "<table border=\"1\" class=\"dataframe\">\n",
       "  <thead>\n",
       "    <tr style=\"text-align: right;\">\n",
       "      <th></th>\n",
       "      <th>Coef.</th>\n",
       "      <th>Std.Err.</th>\n",
       "      <th>t</th>\n",
       "      <th>P&gt;|t|</th>\n",
       "      <th>[0.025</th>\n",
       "      <th>0.975]</th>\n",
       "    </tr>\n",
       "  </thead>\n",
       "  <tbody>\n",
       "    <tr>\n",
       "      <th>Intercept</th>\n",
       "      <td>-1.304</td>\n",
       "      <td>0.493</td>\n",
       "      <td>-2.643</td>\n",
       "      <td>0.008</td>\n",
       "      <td>-2.271</td>\n",
       "      <td>-0.337</td>\n",
       "    </tr>\n",
       "    <tr>\n",
       "      <th>np.log(capital)</th>\n",
       "      <td>0.183</td>\n",
       "      <td>0.029</td>\n",
       "      <td>6.215</td>\n",
       "      <td>0.000</td>\n",
       "      <td>0.125</td>\n",
       "      <td>0.241</td>\n",
       "    </tr>\n",
       "    <tr>\n",
       "      <th>np.log(labour)</th>\n",
       "      <td>0.515</td>\n",
       "      <td>0.206</td>\n",
       "      <td>2.497</td>\n",
       "      <td>0.013</td>\n",
       "      <td>0.111</td>\n",
       "      <td>0.920</td>\n",
       "    </tr>\n",
       "    <tr>\n",
       "      <th>I(np.log(capital) ** 2)</th>\n",
       "      <td>0.023</td>\n",
       "      <td>0.008</td>\n",
       "      <td>2.737</td>\n",
       "      <td>0.006</td>\n",
       "      <td>0.006</td>\n",
       "      <td>0.039</td>\n",
       "    </tr>\n",
       "    <tr>\n",
       "      <th>I(np.log(labour) ** 2)</th>\n",
       "      <td>0.020</td>\n",
       "      <td>0.021</td>\n",
       "      <td>0.965</td>\n",
       "      <td>0.334</td>\n",
       "      <td>-0.021</td>\n",
       "      <td>0.061</td>\n",
       "    </tr>\n",
       "  </tbody>\n",
       "</table>\n",
       "</div>"
      ],
      "text/plain": [
       "                         Coef.  Std.Err.      t  P>|t|  [0.025  0.975]\n",
       "Intercept               -1.304     0.493 -2.643  0.008  -2.271  -0.337\n",
       "np.log(capital)          0.183     0.029  6.215  0.000   0.125   0.241\n",
       "np.log(labour)           0.515     0.206  2.497  0.013   0.111   0.920\n",
       "I(np.log(capital) ** 2)  0.023     0.008  2.737  0.006   0.006   0.039\n",
       "I(np.log(labour) ** 2)   0.020     0.021  0.965  0.334  -0.021   0.061"
      ]
     },
     "execution_count": 13,
     "metadata": {},
     "output_type": "execute_result"
    }
   ],
   "source": [
    "summary_params(res_hc, alpha=0.05).round(3)"
   ]
  },
  {
   "cell_type": "markdown",
   "metadata": {},
   "source": [
    "**ВЫВОД**: На уровне значимости 5% значимы коэффициенты при регрессорах:\n",
    "* $\\log(capital)$\n",
    "* $\\log(labour)$\n",
    "* $log^2(capital)$"
   ]
  },
  {
   "cell_type": "markdown",
   "metadata": {},
   "source": [
    "## Результаты двух оцениваний в одной таблице\n",
    "\n",
    "__Обратим внимание на коды значимости (количество звёздочек у коэффициентов)__"
   ]
  },
  {
   "cell_type": "code",
   "execution_count": 14,
   "metadata": {},
   "outputs": [
    {
     "data": {
      "text/html": [
       "<table class=\"simpletable\">\n",
       "<tr>\n",
       "             <td></td>               <th>OLS-CME</th>    <th>HC3-CME</th> \n",
       "</tr>\n",
       "<tr>\n",
       "  <th>Intercept</th>               <td>-1.3039***</td> <td>-1.3039***</td>\n",
       "</tr>\n",
       "<tr>\n",
       "  <th></th>                         <td>(0.1886)</td>   <td>(0.4933)</td> \n",
       "</tr>\n",
       "<tr>\n",
       "  <th>np.log(capital)</th>          <td>0.1831***</td>  <td>0.1831***</td>\n",
       "</tr>\n",
       "<tr>\n",
       "  <th></th>                         <td>(0.0166)</td>   <td>(0.0295)</td> \n",
       "</tr>\n",
       "<tr>\n",
       "  <th>np.log(labour)</th>           <td>0.5153***</td>  <td>0.5153**</td> \n",
       "</tr>\n",
       "<tr>\n",
       "  <th></th>                         <td>(0.0834)</td>   <td>(0.2064)</td> \n",
       "</tr>\n",
       "<tr>\n",
       "  <th>I(np.log(capital) ** 2)</th>  <td>0.0227***</td>  <td>0.0227***</td>\n",
       "</tr>\n",
       "<tr>\n",
       "  <th></th>                         <td>(0.0050)</td>   <td>(0.0083)</td> \n",
       "</tr>\n",
       "<tr>\n",
       "  <th>I(np.log(labour) ** 2)</th>   <td>0.0203**</td>    <td>0.0203</td>  \n",
       "</tr>\n",
       "<tr>\n",
       "  <th></th>                         <td>(0.0096)</td>   <td>(0.0210)</td> \n",
       "</tr>\n",
       "<tr>\n",
       "  <th>R-squared</th>                 <td>0.8554</td>     <td>0.8554</td>  \n",
       "</tr>\n",
       "<tr>\n",
       "  <th>R-squared Adj.</th>            <td>0.8544</td>     <td>0.8544</td>  \n",
       "</tr>\n",
       "</table><br/>\n",
       "Standard errors in parentheses.<br/>\n",
       "* p<.1, ** p<.05, ***p<.01"
      ],
      "text/latex": [
       "\\begin{table}\n",
       "\\caption{}\n",
       "\\label{}\n",
       "\\begin{center}\n",
       "\\begin{tabular}{lll}\n",
       "\\hline\n",
       "                        & OLS-CME    & HC3-CME     \\\\\n",
       "\\hline\n",
       "Intercept               & -1.3039*** & -1.3039***  \\\\\n",
       "                        & (0.1886)   & (0.4933)    \\\\\n",
       "np.log(capital)         & 0.1831***  & 0.1831***   \\\\\n",
       "                        & (0.0166)   & (0.0295)    \\\\\n",
       "np.log(labour)          & 0.5153***  & 0.5153**    \\\\\n",
       "                        & (0.0834)   & (0.2064)    \\\\\n",
       "I(np.log(capital) ** 2) & 0.0227***  & 0.0227***   \\\\\n",
       "                        & (0.0050)   & (0.0083)    \\\\\n",
       "I(np.log(labour) ** 2)  & 0.0203**   & 0.0203      \\\\\n",
       "                        & (0.0096)   & (0.0210)    \\\\\n",
       "R-squared               & 0.8554     & 0.8554      \\\\\n",
       "R-squared Adj.          & 0.8544     & 0.8544      \\\\\n",
       "\\hline\n",
       "\\end{tabular}\n",
       "\\end{center}\n",
       "\\end{table}\n",
       "\\bigskip\n",
       "Standard errors in parentheses. \\newline \n",
       "* p<.1, ** p<.05, ***p<.01"
      ],
      "text/plain": [
       "<class 'statsmodels.iolib.summary2.Summary'>\n",
       "\"\"\"\n",
       "\n",
       "=============================================\n",
       "                         OLS-CME    HC3-CME  \n",
       "---------------------------------------------\n",
       "Intercept               -1.3039*** -1.3039***\n",
       "                        (0.1886)   (0.4933)  \n",
       "np.log(capital)         0.1831***  0.1831*** \n",
       "                        (0.0166)   (0.0295)  \n",
       "np.log(labour)          0.5153***  0.5153**  \n",
       "                        (0.0834)   (0.2064)  \n",
       "I(np.log(capital) ** 2) 0.0227***  0.0227*** \n",
       "                        (0.0050)   (0.0083)  \n",
       "I(np.log(labour) ** 2)  0.0203**   0.0203    \n",
       "                        (0.0096)   (0.0210)  \n",
       "R-squared               0.8554     0.8554    \n",
       "R-squared Adj.          0.8544     0.8544    \n",
       "=============================================\n",
       "Standard errors in parentheses.\n",
       "* p<.1, ** p<.05, ***p<.01\n",
       "\"\"\""
      ]
     },
     "execution_count": 14,
     "metadata": {},
     "output_type": "execute_result"
    }
   ],
   "source": [
    "summary_col([res_ols, res_hc], model_names=['OLS-CME', 'HC3-CME'], stars=True)"
   ]
  }
 ],
 "metadata": {
  "kernelspec": {
   "display_name": "Python 3 (ipykernel)",
   "language": "python",
   "name": "python3"
  },
  "language_info": {
   "codemirror_mode": {
    "name": "ipython",
    "version": 3
   },
   "file_extension": ".py",
   "mimetype": "text/x-python",
   "name": "python",
   "nbconvert_exporter": "python",
   "pygments_lexer": "ipython3",
   "version": "3.11.5"
  }
 },
 "nbformat": 4,
 "nbformat_minor": 4
}
