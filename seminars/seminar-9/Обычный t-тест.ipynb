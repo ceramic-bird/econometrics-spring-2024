{
 "cells": [
  {
   "cell_type": "markdown",
   "id": "2c411860-273a-461e-8fc3-e4eb1199d9fb",
   "metadata": {},
   "source": [
    "#  Неробастный и робастный t-тест: общий случай"
   ]
  },
  {
   "cell_type": "code",
   "execution_count": 1,
   "id": "dee8a74f-f392-42d2-b642-d74cffb0afe6",
   "metadata": {
    "execution": {
     "iopub.execute_input": "2024-04-06T10:44:38.352802Z",
     "iopub.status.busy": "2024-04-06T10:44:38.352802Z",
     "iopub.status.idle": "2024-04-06T10:44:39.132104Z",
     "shell.execute_reply": "2024-04-06T10:44:39.132104Z",
     "shell.execute_reply.started": "2024-04-06T10:44:38.352802Z"
    },
    "tags": []
   },
   "outputs": [],
   "source": [
    "import pandas as pd\n",
    "import numpy as np\n",
    "import statsmodels.formula.api as smf\n",
    "from scipy.stats import t # t-распределение и критические значения\n",
    "\n",
    "# Не показывать FutureWarnings\n",
    "import warnings\n",
    "warnings.simplefilter(action='ignore', category=FutureWarning)"
   ]
  },
  {
   "cell_type": "code",
   "execution_count": null,
   "id": "603602cc-cfe2-4a72-876a-9944511db067",
   "metadata": {},
   "outputs": [],
   "source": []
  }
 ],
 "metadata": {
  "kernelspec": {
   "display_name": "Python [conda env:courses]",
   "language": "python",
   "name": "conda-env-courses-py"
  },
  "language_info": {
   "codemirror_mode": {
    "name": "ipython",
    "version": 3
   },
   "file_extension": ".py",
   "mimetype": "text/x-python",
   "name": "python",
   "nbconvert_exporter": "python",
   "pygments_lexer": "ipython3",
   "version": "3.11.7"
  }
 },
 "nbformat": 4,
 "nbformat_minor": 5
}
