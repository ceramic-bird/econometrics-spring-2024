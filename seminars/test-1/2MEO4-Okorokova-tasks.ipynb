{
 "cells": [
  {
   "cell_type": "markdown",
   "id": "9330b6e8-0d8d-4b54-a92d-ef3a4e2fb22f",
   "metadata": {},
   "source": [
    "Задание 1"
   ]
  },
  {
   "cell_type": "code",
   "execution_count": 2,
   "id": "1bca184d-e0f5-4d2e-a80b-83fca1c5f3f8",
   "metadata": {
    "execution": {
     "iopub.execute_input": "2024-03-16T10:06:27.477544Z",
     "iopub.status.busy": "2024-03-16T10:06:27.476545Z",
     "iopub.status.idle": "2024-03-16T10:06:27.482670Z",
     "shell.execute_reply": "2024-03-16T10:06:27.481667Z",
     "shell.execute_reply.started": "2024-03-16T10:06:27.477544Z"
    },
    "tags": []
   },
   "outputs": [],
   "source": [
    "import numpy as np\n",
    "import pandas as pd\n",
    "import statsmodels.formula.api as smf\n"
   ]
  },
  {
   "cell_type": "code",
   "execution_count": 3,
   "id": "35e46399-0e39-4569-996e-c91f447da16b",
   "metadata": {
    "execution": {
     "iopub.execute_input": "2024-03-16T10:06:49.620710Z",
     "iopub.status.busy": "2024-03-16T10:06:49.619711Z",
     "iopub.status.idle": "2024-03-16T10:06:49.630778Z",
     "shell.execute_reply": "2024-03-16T10:06:49.630778Z",
     "shell.execute_reply.started": "2024-03-16T10:06:49.620710Z"
    },
    "tags": []
   },
   "outputs": [
    {
     "data": {
      "text/plain": [
       "(935, 17)"
      ]
     },
     "execution_count": 3,
     "metadata": {},
     "output_type": "execute_result"
    }
   ],
   "source": [
    "df = pd.read_csv('wage2.csv')\n",
    "df.shape"
   ]
  },
  {
   "cell_type": "code",
   "execution_count": 4,
   "id": "f5a06fb8-95cc-4df6-b883-c572a3bfbd10",
   "metadata": {
    "execution": {
     "iopub.execute_input": "2024-03-16T10:09:04.597699Z",
     "iopub.status.busy": "2024-03-16T10:09:04.596703Z",
     "iopub.status.idle": "2024-03-16T10:09:04.633032Z",
     "shell.execute_reply": "2024-03-16T10:09:04.631644Z",
     "shell.execute_reply.started": "2024-03-16T10:09:04.596703Z"
    },
    "tags": []
   },
   "outputs": [],
   "source": [
    " mod = smf.ols(formula = 'np.log(wage)~1+IQ+south' , data = df)\n",
    "res = mod.fit()"
   ]
  },
  {
   "cell_type": "code",
   "execution_count": 5,
   "id": "1be6c0ae-f5d5-4b4e-af77-7e56ba3ff2c4",
   "metadata": {
    "execution": {
     "iopub.execute_input": "2024-03-16T10:09:54.157948Z",
     "iopub.status.busy": "2024-03-16T10:09:54.157948Z",
     "iopub.status.idle": "2024-03-16T10:09:54.167286Z",
     "shell.execute_reply": "2024-03-16T10:09:54.166284Z",
     "shell.execute_reply.started": "2024-03-16T10:09:54.157948Z"
    },
    "tags": []
   },
   "outputs": [
    {
     "data": {
      "text/plain": [
       "Intercept    6.01\n",
       "IQ           0.01\n",
       "south       -0.12\n",
       "dtype: float64"
      ]
     },
     "execution_count": 5,
     "metadata": {},
     "output_type": "execute_result"
    }
   ],
   "source": [
    " res.params.round(2)"
   ]
  },
  {
   "cell_type": "markdown",
   "id": "35fe3785-bbc2-4201-9c50-42c81bc004cf",
   "metadata": {},
   "source": [
    "Задание 2"
   ]
  },
  {
   "cell_type": "code",
   "execution_count": 6,
   "id": "bbecfc6a-28a6-4a42-b911-17fde0470b40",
   "metadata": {
    "execution": {
     "iopub.execute_input": "2024-03-16T10:13:49.478216Z",
     "iopub.status.busy": "2024-03-16T10:13:49.478216Z",
     "iopub.status.idle": "2024-03-16T10:13:49.533242Z",
     "shell.execute_reply": "2024-03-16T10:13:49.533242Z",
     "shell.execute_reply.started": "2024-03-16T10:13:49.478216Z"
    },
    "tags": []
   },
   "outputs": [
    {
     "data": {
      "text/html": [
       "<div>\n",
       "<style scoped>\n",
       "    .dataframe tbody tr th:only-of-type {\n",
       "        vertical-align: middle;\n",
       "    }\n",
       "\n",
       "    .dataframe tbody tr th {\n",
       "        vertical-align: top;\n",
       "    }\n",
       "\n",
       "    .dataframe thead th {\n",
       "        text-align: right;\n",
       "    }\n",
       "</style>\n",
       "<table border=\"1\" class=\"dataframe\">\n",
       "  <thead>\n",
       "    <tr style=\"text-align: right;\">\n",
       "      <th></th>\n",
       "      <th>capital</th>\n",
       "      <th>labour</th>\n",
       "      <th>output</th>\n",
       "      <th>wage</th>\n",
       "    </tr>\n",
       "  </thead>\n",
       "  <tbody>\n",
       "    <tr>\n",
       "      <th>0</th>\n",
       "      <td>2.606563</td>\n",
       "      <td>184</td>\n",
       "      <td>9.250759</td>\n",
       "      <td>43.080307</td>\n",
       "    </tr>\n",
       "    <tr>\n",
       "      <th>1</th>\n",
       "      <td>1.323237</td>\n",
       "      <td>91</td>\n",
       "      <td>3.664310</td>\n",
       "      <td>27.780016</td>\n",
       "    </tr>\n",
       "    <tr>\n",
       "      <th>2</th>\n",
       "      <td>22.093692</td>\n",
       "      <td>426</td>\n",
       "      <td>28.781516</td>\n",
       "      <td>44.467748</td>\n",
       "    </tr>\n",
       "    <tr>\n",
       "      <th>3</th>\n",
       "      <td>10.737851</td>\n",
       "      <td>72</td>\n",
       "      <td>4.124642</td>\n",
       "      <td>39.734710</td>\n",
       "    </tr>\n",
       "    <tr>\n",
       "      <th>4</th>\n",
       "      <td>1.161365</td>\n",
       "      <td>46</td>\n",
       "      <td>2.890150</td>\n",
       "      <td>34.650709</td>\n",
       "    </tr>\n",
       "    <tr>\n",
       "      <th>...</th>\n",
       "      <td>...</td>\n",
       "      <td>...</td>\n",
       "      <td>...</td>\n",
       "      <td>...</td>\n",
       "    </tr>\n",
       "    <tr>\n",
       "      <th>564</th>\n",
       "      <td>2.625403</td>\n",
       "      <td>20</td>\n",
       "      <td>1.424376</td>\n",
       "      <td>33.477545</td>\n",
       "    </tr>\n",
       "    <tr>\n",
       "      <th>565</th>\n",
       "      <td>1.276386</td>\n",
       "      <td>61</td>\n",
       "      <td>2.109048</td>\n",
       "      <td>26.300732</td>\n",
       "    </tr>\n",
       "    <tr>\n",
       "      <th>566</th>\n",
       "      <td>1.953869</td>\n",
       "      <td>117</td>\n",
       "      <td>6.241870</td>\n",
       "      <td>41.153979</td>\n",
       "    </tr>\n",
       "    <tr>\n",
       "      <th>567</th>\n",
       "      <td>1.318527</td>\n",
       "      <td>46</td>\n",
       "      <td>7.902237</td>\n",
       "      <td>66.720139</td>\n",
       "    </tr>\n",
       "    <tr>\n",
       "      <th>568</th>\n",
       "      <td>2.832391</td>\n",
       "      <td>161</td>\n",
       "      <td>6.804085</td>\n",
       "      <td>36.618435</td>\n",
       "    </tr>\n",
       "  </tbody>\n",
       "</table>\n",
       "<p>569 rows × 4 columns</p>\n",
       "</div>"
      ],
      "text/plain": [
       "       capital  labour     output       wage\n",
       "0     2.606563     184   9.250759  43.080307\n",
       "1     1.323237      91   3.664310  27.780016\n",
       "2    22.093692     426  28.781516  44.467748\n",
       "3    10.737851      72   4.124642  39.734710\n",
       "4     1.161365      46   2.890150  34.650709\n",
       "..         ...     ...        ...        ...\n",
       "564   2.625403      20   1.424376  33.477545\n",
       "565   1.276386      61   2.109048  26.300732\n",
       "566   1.953869     117   6.241870  41.153979\n",
       "567   1.318527      46   7.902237  66.720139\n",
       "568   2.832391     161   6.804085  36.618435\n",
       "\n",
       "[569 rows x 4 columns]"
      ]
     },
     "execution_count": 6,
     "metadata": {},
     "output_type": "execute_result"
    }
   ],
   "source": [
    "# импорт данных\n",
    "df = pd.read_csv('Labour.csv')\n",
    "df"
   ]
  },
  {
   "cell_type": "code",
   "execution_count": 7,
   "id": "85160e95-eb8c-4f0b-83b7-a434e89f58f9",
   "metadata": {
    "execution": {
     "iopub.execute_input": "2024-03-16T10:15:15.806440Z",
     "iopub.status.busy": "2024-03-16T10:15:15.805442Z",
     "iopub.status.idle": "2024-03-16T10:15:15.822353Z",
     "shell.execute_reply": "2024-03-16T10:15:15.821350Z",
     "shell.execute_reply.started": "2024-03-16T10:15:15.806440Z"
    },
    "tags": []
   },
   "outputs": [],
   "source": [
    "mod = smf.ols(formula = 'np.log(output)~1+np.log(capital)+np.log(wage)' , data = df)\n",
    "res = mod.fit()"
   ]
  },
  {
   "cell_type": "code",
   "execution_count": 8,
   "id": "22996c73-f5ca-483a-9730-869540c40fcc",
   "metadata": {
    "execution": {
     "iopub.execute_input": "2024-03-16T10:15:29.269275Z",
     "iopub.status.busy": "2024-03-16T10:15:29.268278Z",
     "iopub.status.idle": "2024-03-16T10:15:29.275958Z",
     "shell.execute_reply": "2024-03-16T10:15:29.275958Z",
     "shell.execute_reply.started": "2024-03-16T10:15:29.269275Z"
    },
    "tags": []
   },
   "outputs": [
    {
     "data": {
      "text/plain": [
       "Intercept         -1.942866\n",
       "np.log(capital)    0.511506\n",
       "np.log(wage)       0.882337\n",
       "dtype: float64"
      ]
     },
     "execution_count": 8,
     "metadata": {},
     "output_type": "execute_result"
    }
   ],
   "source": [
    "res.params"
   ]
  },
  {
   "cell_type": "code",
   "execution_count": 9,
   "id": "4dddd119-4686-4fca-82b7-99d0060f6a6a",
   "metadata": {
    "execution": {
     "iopub.execute_input": "2024-03-16T10:17:12.670282Z",
     "iopub.status.busy": "2024-03-16T10:17:12.669283Z",
     "iopub.status.idle": "2024-03-16T10:17:12.677356Z",
     "shell.execute_reply": "2024-03-16T10:17:12.676355Z",
     "shell.execute_reply.started": "2024-03-16T10:17:12.670282Z"
    },
    "tags": []
   },
   "outputs": [
    {
     "data": {
      "text/plain": [
       "0.611"
      ]
     },
     "execution_count": 9,
     "metadata": {},
     "output_type": "execute_result"
    }
   ],
   "source": [
    "# R^2\n",
    "res.rsquared.round(3)"
   ]
  },
  {
   "cell_type": "code",
   "execution_count": 10,
   "id": "d3298d9c-e114-4e90-a51a-94c2503516fc",
   "metadata": {
    "execution": {
     "iopub.execute_input": "2024-03-16T10:17:29.814319Z",
     "iopub.status.busy": "2024-03-16T10:17:29.813320Z",
     "iopub.status.idle": "2024-03-16T10:17:29.820622Z",
     "shell.execute_reply": "2024-03-16T10:17:29.819460Z",
     "shell.execute_reply.started": "2024-03-16T10:17:29.814319Z"
    },
    "tags": []
   },
   "outputs": [
    {
     "data": {
      "text/plain": [
       "0.609"
      ]
     },
     "execution_count": 10,
     "metadata": {},
     "output_type": "execute_result"
    }
   ],
   "source": [
    " # adj R^2\n",
    "res.rsquared_adj.round(3)"
   ]
  },
  {
   "cell_type": "markdown",
   "id": "6e8f2b9e-5638-4330-96b9-9f40669a8847",
   "metadata": {},
   "source": [
    "ИСПРАВЛЕНО: \n",
    "Коэффициент детерминации равен 0.611. Такая доля показателя *выпуска* зависит от капитала компании (в миллионах евро) и от зарплаты на одного сотрудника (в тыс евро)."
   ]
  },
  {
   "cell_type": "markdown",
   "id": "468d8e67-c5bc-49a7-a715-94518ec48bbd",
   "metadata": {},
   "source": [
    "Задание 3"
   ]
  },
  {
   "cell_type": "code",
   "execution_count": 17,
   "id": "e81715ae-a24f-4eda-bd03-b12233db2261",
   "metadata": {
    "execution": {
     "iopub.execute_input": "2024-03-16T10:24:47.216171Z",
     "iopub.status.busy": "2024-03-16T10:24:47.216171Z",
     "iopub.status.idle": "2024-03-16T10:24:47.233434Z",
     "shell.execute_reply": "2024-03-16T10:24:47.232432Z",
     "shell.execute_reply.started": "2024-03-16T10:24:47.216171Z"
    },
    "tags": []
   },
   "outputs": [
    {
     "data": {
      "text/html": [
       "<div>\n",
       "<style scoped>\n",
       "    .dataframe tbody tr th:only-of-type {\n",
       "        vertical-align: middle;\n",
       "    }\n",
       "\n",
       "    .dataframe tbody tr th {\n",
       "        vertical-align: top;\n",
       "    }\n",
       "\n",
       "    .dataframe thead th {\n",
       "        text-align: right;\n",
       "    }\n",
       "</style>\n",
       "<table border=\"1\" class=\"dataframe\">\n",
       "  <thead>\n",
       "    <tr style=\"text-align: right;\">\n",
       "      <th></th>\n",
       "      <th>capital</th>\n",
       "      <th>labour</th>\n",
       "      <th>output</th>\n",
       "      <th>wage</th>\n",
       "    </tr>\n",
       "  </thead>\n",
       "  <tbody>\n",
       "    <tr>\n",
       "      <th>0</th>\n",
       "      <td>2.606563</td>\n",
       "      <td>184</td>\n",
       "      <td>9.250759</td>\n",
       "      <td>43.080307</td>\n",
       "    </tr>\n",
       "    <tr>\n",
       "      <th>1</th>\n",
       "      <td>1.323237</td>\n",
       "      <td>91</td>\n",
       "      <td>3.664310</td>\n",
       "      <td>27.780016</td>\n",
       "    </tr>\n",
       "    <tr>\n",
       "      <th>2</th>\n",
       "      <td>22.093692</td>\n",
       "      <td>426</td>\n",
       "      <td>28.781516</td>\n",
       "      <td>44.467748</td>\n",
       "    </tr>\n",
       "    <tr>\n",
       "      <th>3</th>\n",
       "      <td>10.737851</td>\n",
       "      <td>72</td>\n",
       "      <td>4.124642</td>\n",
       "      <td>39.734710</td>\n",
       "    </tr>\n",
       "    <tr>\n",
       "      <th>4</th>\n",
       "      <td>1.161365</td>\n",
       "      <td>46</td>\n",
       "      <td>2.890150</td>\n",
       "      <td>34.650709</td>\n",
       "    </tr>\n",
       "    <tr>\n",
       "      <th>...</th>\n",
       "      <td>...</td>\n",
       "      <td>...</td>\n",
       "      <td>...</td>\n",
       "      <td>...</td>\n",
       "    </tr>\n",
       "    <tr>\n",
       "      <th>564</th>\n",
       "      <td>2.625403</td>\n",
       "      <td>20</td>\n",
       "      <td>1.424376</td>\n",
       "      <td>33.477545</td>\n",
       "    </tr>\n",
       "    <tr>\n",
       "      <th>565</th>\n",
       "      <td>1.276386</td>\n",
       "      <td>61</td>\n",
       "      <td>2.109048</td>\n",
       "      <td>26.300732</td>\n",
       "    </tr>\n",
       "    <tr>\n",
       "      <th>566</th>\n",
       "      <td>1.953869</td>\n",
       "      <td>117</td>\n",
       "      <td>6.241870</td>\n",
       "      <td>41.153979</td>\n",
       "    </tr>\n",
       "    <tr>\n",
       "      <th>567</th>\n",
       "      <td>1.318527</td>\n",
       "      <td>46</td>\n",
       "      <td>7.902237</td>\n",
       "      <td>66.720139</td>\n",
       "    </tr>\n",
       "    <tr>\n",
       "      <th>568</th>\n",
       "      <td>2.832391</td>\n",
       "      <td>161</td>\n",
       "      <td>6.804085</td>\n",
       "      <td>36.618435</td>\n",
       "    </tr>\n",
       "  </tbody>\n",
       "</table>\n",
       "<p>569 rows × 4 columns</p>\n",
       "</div>"
      ],
      "text/plain": [
       "       capital  labour     output       wage\n",
       "0     2.606563     184   9.250759  43.080307\n",
       "1     1.323237      91   3.664310  27.780016\n",
       "2    22.093692     426  28.781516  44.467748\n",
       "3    10.737851      72   4.124642  39.734710\n",
       "4     1.161365      46   2.890150  34.650709\n",
       "..         ...     ...        ...        ...\n",
       "564   2.625403      20   1.424376  33.477545\n",
       "565   1.276386      61   2.109048  26.300732\n",
       "566   1.953869     117   6.241870  41.153979\n",
       "567   1.318527      46   7.902237  66.720139\n",
       "568   2.832391     161   6.804085  36.618435\n",
       "\n",
       "[569 rows x 4 columns]"
      ]
     },
     "execution_count": 17,
     "metadata": {},
     "output_type": "execute_result"
    }
   ],
   "source": [
    "# импорт данных\n",
    "df = pd.read_csv('Labour.csv')\n",
    "df"
   ]
  },
  {
   "cell_type": "code",
   "execution_count": 11,
   "id": "4ea11cf7-bc45-4005-9092-cb891074432d",
   "metadata": {
    "execution": {
     "iopub.execute_input": "2024-03-16T10:21:21.508379Z",
     "iopub.status.busy": "2024-03-16T10:21:21.508379Z",
     "iopub.status.idle": "2024-03-16T10:21:21.527710Z",
     "shell.execute_reply": "2024-03-16T10:21:21.526709Z",
     "shell.execute_reply.started": "2024-03-16T10:21:21.508379Z"
    },
    "tags": []
   },
   "outputs": [],
   "source": [
    "mod = smf.ols(formula = 'np.log(output)~1+np.log(capital)+np.log(wage)' , data = df)\n",
    "res = mod.fit()"
   ]
  },
  {
   "cell_type": "code",
   "execution_count": 12,
   "id": "766b738f-aa50-4461-9c25-1f6703790e5b",
   "metadata": {
    "execution": {
     "iopub.execute_input": "2024-03-16T10:21:26.341483Z",
     "iopub.status.busy": "2024-03-16T10:21:26.341483Z",
     "iopub.status.idle": "2024-03-16T10:21:26.347499Z",
     "shell.execute_reply": "2024-03-16T10:21:26.347499Z",
     "shell.execute_reply.started": "2024-03-16T10:21:26.341483Z"
    },
    "tags": []
   },
   "outputs": [
    {
     "data": {
      "text/plain": [
       "Intercept         -1.942866\n",
       "np.log(capital)    0.511506\n",
       "np.log(wage)       0.882337\n",
       "dtype: float64"
      ]
     },
     "execution_count": 12,
     "metadata": {},
     "output_type": "execute_result"
    }
   ],
   "source": [
    "res.params"
   ]
  },
  {
   "cell_type": "code",
   "execution_count": 13,
   "id": "8cb802a5-ff24-43fc-93b8-f3db2c979949",
   "metadata": {
    "execution": {
     "iopub.execute_input": "2024-03-16T10:21:53.782922Z",
     "iopub.status.busy": "2024-03-16T10:21:53.781923Z",
     "iopub.status.idle": "2024-03-16T10:21:53.789110Z",
     "shell.execute_reply": "2024-03-16T10:21:53.789110Z",
     "shell.execute_reply.started": "2024-03-16T10:21:53.782922Z"
    },
    "tags": []
   },
   "outputs": [
    {
     "data": {
      "text/plain": [
       "797.67"
      ]
     },
     "execution_count": 13,
     "metadata": {},
     "output_type": "execute_result"
    }
   ],
   "source": [
    "# TSS\n",
    "res.centered_tss.round(2)"
   ]
  },
  {
   "cell_type": "code",
   "execution_count": 14,
   "id": "4c462f5e-6df3-49c6-903e-8a6993496746",
   "metadata": {
    "execution": {
     "iopub.execute_input": "2024-03-16T10:22:12.066818Z",
     "iopub.status.busy": "2024-03-16T10:22:12.066818Z",
     "iopub.status.idle": "2024-03-16T10:22:12.071655Z",
     "shell.execute_reply": "2024-03-16T10:22:12.071655Z",
     "shell.execute_reply.started": "2024-03-16T10:22:12.066818Z"
    },
    "tags": []
   },
   "outputs": [
    {
     "data": {
      "text/plain": [
       "487.23"
      ]
     },
     "execution_count": 14,
     "metadata": {},
     "output_type": "execute_result"
    }
   ],
   "source": [
    "# ESS\n",
    "res.ess.round(2)"
   ]
  },
  {
   "cell_type": "code",
   "execution_count": 15,
   "id": "c486fdaa-ca2e-4617-ad71-86dbf1b9d5e0",
   "metadata": {
    "execution": {
     "iopub.execute_input": "2024-03-16T10:23:08.289856Z",
     "iopub.status.busy": "2024-03-16T10:23:08.289856Z",
     "iopub.status.idle": "2024-03-16T10:23:08.296368Z",
     "shell.execute_reply": "2024-03-16T10:23:08.296368Z",
     "shell.execute_reply.started": "2024-03-16T10:23:08.289856Z"
    },
    "tags": []
   },
   "outputs": [
    {
     "data": {
      "text/plain": [
       "310.43"
      ]
     },
     "execution_count": 15,
     "metadata": {},
     "output_type": "execute_result"
    }
   ],
   "source": [
    "# RSS\n",
    "res.ssr.round(2)"
   ]
  },
  {
   "cell_type": "markdown",
   "id": "7cb70a3a-fd98-4fa0-81a9-fae57189dfac",
   "metadata": {},
   "source": [
    "Задание 4"
   ]
  },
  {
   "cell_type": "code",
   "execution_count": 16,
   "id": "c6da1acd-7864-40b2-b97c-80d07b5c97e8",
   "metadata": {
    "execution": {
     "iopub.execute_input": "2024-03-16T10:24:19.038840Z",
     "iopub.status.busy": "2024-03-16T10:24:19.038840Z",
     "iopub.status.idle": "2024-03-16T10:24:19.061728Z",
     "shell.execute_reply": "2024-03-16T10:24:19.059733Z",
     "shell.execute_reply.started": "2024-03-16T10:24:19.038840Z"
    },
    "tags": []
   },
   "outputs": [
    {
     "data": {
      "text/html": [
       "<div>\n",
       "<style scoped>\n",
       "    .dataframe tbody tr th:only-of-type {\n",
       "        vertical-align: middle;\n",
       "    }\n",
       "\n",
       "    .dataframe tbody tr th {\n",
       "        vertical-align: top;\n",
       "    }\n",
       "\n",
       "    .dataframe thead th {\n",
       "        text-align: right;\n",
       "    }\n",
       "</style>\n",
       "<table border=\"1\" class=\"dataframe\">\n",
       "  <thead>\n",
       "    <tr style=\"text-align: right;\">\n",
       "      <th></th>\n",
       "      <th>capital</th>\n",
       "      <th>labour</th>\n",
       "      <th>output</th>\n",
       "      <th>wage</th>\n",
       "    </tr>\n",
       "  </thead>\n",
       "  <tbody>\n",
       "    <tr>\n",
       "      <th>0</th>\n",
       "      <td>2.606563</td>\n",
       "      <td>184</td>\n",
       "      <td>9.250759</td>\n",
       "      <td>43.080307</td>\n",
       "    </tr>\n",
       "    <tr>\n",
       "      <th>1</th>\n",
       "      <td>1.323237</td>\n",
       "      <td>91</td>\n",
       "      <td>3.664310</td>\n",
       "      <td>27.780016</td>\n",
       "    </tr>\n",
       "    <tr>\n",
       "      <th>2</th>\n",
       "      <td>22.093692</td>\n",
       "      <td>426</td>\n",
       "      <td>28.781516</td>\n",
       "      <td>44.467748</td>\n",
       "    </tr>\n",
       "    <tr>\n",
       "      <th>3</th>\n",
       "      <td>10.737851</td>\n",
       "      <td>72</td>\n",
       "      <td>4.124642</td>\n",
       "      <td>39.734710</td>\n",
       "    </tr>\n",
       "    <tr>\n",
       "      <th>4</th>\n",
       "      <td>1.161365</td>\n",
       "      <td>46</td>\n",
       "      <td>2.890150</td>\n",
       "      <td>34.650709</td>\n",
       "    </tr>\n",
       "    <tr>\n",
       "      <th>...</th>\n",
       "      <td>...</td>\n",
       "      <td>...</td>\n",
       "      <td>...</td>\n",
       "      <td>...</td>\n",
       "    </tr>\n",
       "    <tr>\n",
       "      <th>564</th>\n",
       "      <td>2.625403</td>\n",
       "      <td>20</td>\n",
       "      <td>1.424376</td>\n",
       "      <td>33.477545</td>\n",
       "    </tr>\n",
       "    <tr>\n",
       "      <th>565</th>\n",
       "      <td>1.276386</td>\n",
       "      <td>61</td>\n",
       "      <td>2.109048</td>\n",
       "      <td>26.300732</td>\n",
       "    </tr>\n",
       "    <tr>\n",
       "      <th>566</th>\n",
       "      <td>1.953869</td>\n",
       "      <td>117</td>\n",
       "      <td>6.241870</td>\n",
       "      <td>41.153979</td>\n",
       "    </tr>\n",
       "    <tr>\n",
       "      <th>567</th>\n",
       "      <td>1.318527</td>\n",
       "      <td>46</td>\n",
       "      <td>7.902237</td>\n",
       "      <td>66.720139</td>\n",
       "    </tr>\n",
       "    <tr>\n",
       "      <th>568</th>\n",
       "      <td>2.832391</td>\n",
       "      <td>161</td>\n",
       "      <td>6.804085</td>\n",
       "      <td>36.618435</td>\n",
       "    </tr>\n",
       "  </tbody>\n",
       "</table>\n",
       "<p>569 rows × 4 columns</p>\n",
       "</div>"
      ],
      "text/plain": [
       "       capital  labour     output       wage\n",
       "0     2.606563     184   9.250759  43.080307\n",
       "1     1.323237      91   3.664310  27.780016\n",
       "2    22.093692     426  28.781516  44.467748\n",
       "3    10.737851      72   4.124642  39.734710\n",
       "4     1.161365      46   2.890150  34.650709\n",
       "..         ...     ...        ...        ...\n",
       "564   2.625403      20   1.424376  33.477545\n",
       "565   1.276386      61   2.109048  26.300732\n",
       "566   1.953869     117   6.241870  41.153979\n",
       "567   1.318527      46   7.902237  66.720139\n",
       "568   2.832391     161   6.804085  36.618435\n",
       "\n",
       "[569 rows x 4 columns]"
      ]
     },
     "execution_count": 16,
     "metadata": {},
     "output_type": "execute_result"
    }
   ],
   "source": [
    "# импорт данных\n",
    "df = pd.read_csv('Labour.csv')\n",
    "df"
   ]
  },
  {
   "cell_type": "code",
   "execution_count": 18,
   "id": "28bd3f84-6d38-4ce3-b97e-45c528a3d6df",
   "metadata": {
    "execution": {
     "iopub.execute_input": "2024-03-16T10:25:19.774234Z",
     "iopub.status.busy": "2024-03-16T10:25:19.774234Z",
     "iopub.status.idle": "2024-03-16T10:25:19.802374Z",
     "shell.execute_reply": "2024-03-16T10:25:19.802374Z",
     "shell.execute_reply.started": "2024-03-16T10:25:19.774234Z"
    },
    "tags": []
   },
   "outputs": [],
   "source": [
    "mod = smf.ols(formula = 'np.log(output)~1+np.log(capital)+np.log(labour)+np.log(wage)' , data = df)\n",
    "res = mod.fit()"
   ]
  },
  {
   "cell_type": "code",
   "execution_count": 19,
   "id": "500feb33-3c61-48b4-95e4-ea01509001e4",
   "metadata": {
    "execution": {
     "iopub.execute_input": "2024-03-16T10:25:29.895439Z",
     "iopub.status.busy": "2024-03-16T10:25:29.894297Z",
     "iopub.status.idle": "2024-03-16T10:25:29.902400Z",
     "shell.execute_reply": "2024-03-16T10:25:29.902400Z",
     "shell.execute_reply.started": "2024-03-16T10:25:29.895439Z"
    },
    "tags": []
   },
   "outputs": [
    {
     "data": {
      "text/plain": [
       "Intercept         -5.007316\n",
       "np.log(capital)    0.149343\n",
       "np.log(labour)     0.720410\n",
       "np.log(wage)       0.921390\n",
       "dtype: float64"
      ]
     },
     "execution_count": 19,
     "metadata": {},
     "output_type": "execute_result"
    }
   ],
   "source": [
    "res.params"
   ]
  },
  {
   "cell_type": "code",
   "execution_count": 20,
   "id": "d7f7bde1-6390-4aa2-a8d2-98cad11f9352",
   "metadata": {
    "execution": {
     "iopub.execute_input": "2024-03-16T10:26:06.393276Z",
     "iopub.status.busy": "2024-03-16T10:26:06.392283Z",
     "iopub.status.idle": "2024-03-16T10:26:06.397290Z",
     "shell.execute_reply": "2024-03-16T10:26:06.396289Z",
     "shell.execute_reply.started": "2024-03-16T10:26:06.393276Z"
    },
    "tags": []
   },
   "outputs": [],
   "source": [
    " # задаем индексы наблюдений\n",
    "ind = [46]"
   ]
  },
  {
   "cell_type": "code",
   "execution_count": 21,
   "id": "94df500e-c1ac-484f-8b28-262f14cdbcfc",
   "metadata": {
    "execution": {
     "iopub.execute_input": "2024-03-16T10:26:57.202562Z",
     "iopub.status.busy": "2024-03-16T10:26:57.202562Z",
     "iopub.status.idle": "2024-03-16T10:26:57.210423Z",
     "shell.execute_reply": "2024-03-16T10:26:57.210423Z",
     "shell.execute_reply.started": "2024-03-16T10:26:57.202562Z"
    },
    "tags": []
   },
   "outputs": [
    {
     "data": {
      "text/plain": [
       "46    3.247\n",
       "Name: output, dtype: float64"
      ]
     },
     "execution_count": 21,
     "metadata": {},
     "output_type": "execute_result"
    }
   ],
   "source": [
    "# Наблюдаемое значение\n",
    "np.log(df['output']).iloc[ind].round(3)"
   ]
  },
  {
   "cell_type": "code",
   "execution_count": 22,
   "id": "b775ee8b-96cb-4884-8861-65a59df9dd05",
   "metadata": {
    "execution": {
     "iopub.execute_input": "2024-03-16T10:27:39.451282Z",
     "iopub.status.busy": "2024-03-16T10:27:39.451282Z",
     "iopub.status.idle": "2024-03-16T10:27:39.462056Z",
     "shell.execute_reply": "2024-03-16T10:27:39.461054Z",
     "shell.execute_reply.started": "2024-03-16T10:27:39.451282Z"
    },
    "tags": []
   },
   "outputs": [
    {
     "data": {
      "text/plain": [
       "46    3.399\n",
       "dtype: float64"
      ]
     },
     "execution_count": 22,
     "metadata": {},
     "output_type": "execute_result"
    }
   ],
   "source": [
    "# Предсказанное значение\n",
    "res.fittedvalues[ind].round(3)"
   ]
  },
  {
   "cell_type": "code",
   "execution_count": 23,
   "id": "70943c2f-691d-48b2-ad02-4b5d3f7a87a5",
   "metadata": {
    "execution": {
     "iopub.execute_input": "2024-03-16T10:28:17.372174Z",
     "iopub.status.busy": "2024-03-16T10:28:17.372174Z",
     "iopub.status.idle": "2024-03-16T10:28:17.380265Z",
     "shell.execute_reply": "2024-03-16T10:28:17.380265Z",
     "shell.execute_reply.started": "2024-03-16T10:28:17.372174Z"
    },
    "tags": []
   },
   "outputs": [
    {
     "data": {
      "text/plain": [
       "46   -0.152\n",
       "dtype: float64"
      ]
     },
     "execution_count": 23,
     "metadata": {},
     "output_type": "execute_result"
    }
   ],
   "source": [
    "# Остаток\n",
    "res.resid[ind].round(3)"
   ]
  },
  {
   "cell_type": "markdown",
   "id": "5fe64eaf-9ec5-4ae1-9666-e645059b689f",
   "metadata": {},
   "source": [
    "Задание 5"
   ]
  },
  {
   "cell_type": "code",
   "execution_count": 24,
   "id": "6e43598b-cb1a-4f4c-b9e9-ccbc3c03fb36",
   "metadata": {
    "execution": {
     "iopub.execute_input": "2024-03-16T10:31:50.308365Z",
     "iopub.status.busy": "2024-03-16T10:31:50.308365Z",
     "iopub.status.idle": "2024-03-16T10:31:50.329366Z",
     "shell.execute_reply": "2024-03-16T10:31:50.326582Z",
     "shell.execute_reply.started": "2024-03-16T10:31:50.308365Z"
    },
    "tags": []
   },
   "outputs": [
    {
     "data": {
      "text/html": [
       "<div>\n",
       "<style scoped>\n",
       "    .dataframe tbody tr th:only-of-type {\n",
       "        vertical-align: middle;\n",
       "    }\n",
       "\n",
       "    .dataframe tbody tr th {\n",
       "        vertical-align: top;\n",
       "    }\n",
       "\n",
       "    .dataframe thead th {\n",
       "        text-align: right;\n",
       "    }\n",
       "</style>\n",
       "<table border=\"1\" class=\"dataframe\">\n",
       "  <thead>\n",
       "    <tr style=\"text-align: right;\">\n",
       "      <th></th>\n",
       "      <th>capital</th>\n",
       "      <th>labour</th>\n",
       "      <th>output</th>\n",
       "      <th>wage</th>\n",
       "    </tr>\n",
       "  </thead>\n",
       "  <tbody>\n",
       "    <tr>\n",
       "      <th>0</th>\n",
       "      <td>2.606563</td>\n",
       "      <td>184</td>\n",
       "      <td>9.250759</td>\n",
       "      <td>43.080307</td>\n",
       "    </tr>\n",
       "    <tr>\n",
       "      <th>1</th>\n",
       "      <td>1.323237</td>\n",
       "      <td>91</td>\n",
       "      <td>3.664310</td>\n",
       "      <td>27.780016</td>\n",
       "    </tr>\n",
       "    <tr>\n",
       "      <th>2</th>\n",
       "      <td>22.093692</td>\n",
       "      <td>426</td>\n",
       "      <td>28.781516</td>\n",
       "      <td>44.467748</td>\n",
       "    </tr>\n",
       "    <tr>\n",
       "      <th>3</th>\n",
       "      <td>10.737851</td>\n",
       "      <td>72</td>\n",
       "      <td>4.124642</td>\n",
       "      <td>39.734710</td>\n",
       "    </tr>\n",
       "    <tr>\n",
       "      <th>4</th>\n",
       "      <td>1.161365</td>\n",
       "      <td>46</td>\n",
       "      <td>2.890150</td>\n",
       "      <td>34.650709</td>\n",
       "    </tr>\n",
       "    <tr>\n",
       "      <th>...</th>\n",
       "      <td>...</td>\n",
       "      <td>...</td>\n",
       "      <td>...</td>\n",
       "      <td>...</td>\n",
       "    </tr>\n",
       "    <tr>\n",
       "      <th>564</th>\n",
       "      <td>2.625403</td>\n",
       "      <td>20</td>\n",
       "      <td>1.424376</td>\n",
       "      <td>33.477545</td>\n",
       "    </tr>\n",
       "    <tr>\n",
       "      <th>565</th>\n",
       "      <td>1.276386</td>\n",
       "      <td>61</td>\n",
       "      <td>2.109048</td>\n",
       "      <td>26.300732</td>\n",
       "    </tr>\n",
       "    <tr>\n",
       "      <th>566</th>\n",
       "      <td>1.953869</td>\n",
       "      <td>117</td>\n",
       "      <td>6.241870</td>\n",
       "      <td>41.153979</td>\n",
       "    </tr>\n",
       "    <tr>\n",
       "      <th>567</th>\n",
       "      <td>1.318527</td>\n",
       "      <td>46</td>\n",
       "      <td>7.902237</td>\n",
       "      <td>66.720139</td>\n",
       "    </tr>\n",
       "    <tr>\n",
       "      <th>568</th>\n",
       "      <td>2.832391</td>\n",
       "      <td>161</td>\n",
       "      <td>6.804085</td>\n",
       "      <td>36.618435</td>\n",
       "    </tr>\n",
       "  </tbody>\n",
       "</table>\n",
       "<p>569 rows × 4 columns</p>\n",
       "</div>"
      ],
      "text/plain": [
       "       capital  labour     output       wage\n",
       "0     2.606563     184   9.250759  43.080307\n",
       "1     1.323237      91   3.664310  27.780016\n",
       "2    22.093692     426  28.781516  44.467748\n",
       "3    10.737851      72   4.124642  39.734710\n",
       "4     1.161365      46   2.890150  34.650709\n",
       "..         ...     ...        ...        ...\n",
       "564   2.625403      20   1.424376  33.477545\n",
       "565   1.276386      61   2.109048  26.300732\n",
       "566   1.953869     117   6.241870  41.153979\n",
       "567   1.318527      46   7.902237  66.720139\n",
       "568   2.832391     161   6.804085  36.618435\n",
       "\n",
       "[569 rows x 4 columns]"
      ]
     },
     "execution_count": 24,
     "metadata": {},
     "output_type": "execute_result"
    }
   ],
   "source": [
    "# импорт данных\n",
    "df = pd.read_csv('Labour.csv')\n",
    "df"
   ]
  },
  {
   "cell_type": "code",
   "execution_count": 25,
   "id": "e37abf5c-f421-47bd-95c2-3a620c94bed0",
   "metadata": {
    "execution": {
     "iopub.execute_input": "2024-03-16T10:32:14.135601Z",
     "iopub.status.busy": "2024-03-16T10:32:14.134602Z",
     "iopub.status.idle": "2024-03-16T10:32:14.154192Z",
     "shell.execute_reply": "2024-03-16T10:32:14.153188Z",
     "shell.execute_reply.started": "2024-03-16T10:32:14.135601Z"
    },
    "tags": []
   },
   "outputs": [],
   "source": [
    "mod = smf.ols(formula = 'np.log(output)~1+np.log(capital)+labour+wage' , data = df)\n",
    "res = mod.fit()"
   ]
  },
  {
   "cell_type": "code",
   "execution_count": 26,
   "id": "61d7e5d5-51fe-4eeb-bab4-8529588adc00",
   "metadata": {
    "execution": {
     "iopub.execute_input": "2024-03-16T10:32:20.678689Z",
     "iopub.status.busy": "2024-03-16T10:32:20.677690Z",
     "iopub.status.idle": "2024-03-16T10:32:20.686410Z",
     "shell.execute_reply": "2024-03-16T10:32:20.686410Z",
     "shell.execute_reply.started": "2024-03-16T10:32:20.678689Z"
    },
    "tags": []
   },
   "outputs": [
    {
     "data": {
      "text/plain": [
       "Intercept          0.577725\n",
       "np.log(capital)    0.442294\n",
       "labour             0.000450\n",
       "wage               0.016260\n",
       "dtype: float64"
      ]
     },
     "execution_count": 26,
     "metadata": {},
     "output_type": "execute_result"
    }
   ],
   "source": [
    "res.params"
   ]
  },
  {
   "cell_type": "markdown",
   "id": "bb658099-20d5-4fc6-81c0-e3be736c950a",
   "metadata": {},
   "source": [
    "output - зависимая переменная\n",
    "\n",
    "capital, labour, wage - регрессоры \n",
    "\n",
    "output - выпуск (в миллионах евро)\n",
    "\n",
    "capital - капитал (в миллионах евро)\n",
    "\n",
    "labour - число сотрудников \n",
    "\n",
    "wage - зарплата на одного сотрудника (в тыс евро)\n",
    "\n",
    "При увеличении значения регрессора capital на единицу при прочих равных, переменная output изменится на 0.44\n",
    "\n",
    "При увеличении значения регрессора labour на единицу при прочих равных, переменная output изменится на 0.05 (коэффициент, умноженный на 100)\n",
    "\n",
    "При увеличении значения регрессора wage на единицу при прочих равных, переменная output изменится на 1.63 (коэффициент, умноженный на 100)"
   ]
  },
  {
   "cell_type": "code",
   "execution_count": null,
   "id": "c5cdabba-5dd6-4201-a79d-61c4d668fd0b",
   "metadata": {},
   "outputs": [],
   "source": []
  },
  {
   "cell_type": "code",
   "execution_count": null,
   "id": "2ab65752-0d9e-49f8-8e55-d808c220cfed",
   "metadata": {},
   "outputs": [],
   "source": []
  },
  {
   "cell_type": "code",
   "execution_count": null,
   "id": "e8155a63-ac62-4cf3-bb8e-7d7a7c7dbcd9",
   "metadata": {},
   "outputs": [],
   "source": []
  },
  {
   "cell_type": "code",
   "execution_count": 10,
   "id": "fd831908-f97f-401d-88d3-32eabb9df4b5",
   "metadata": {
    "execution": {
     "iopub.execute_input": "2024-03-30T11:17:39.745959Z",
     "iopub.status.busy": "2024-03-30T11:17:39.744988Z",
     "iopub.status.idle": "2024-03-30T11:19:04.336447Z",
     "shell.execute_reply": "2024-03-30T11:19:04.333941Z",
     "shell.execute_reply.started": "2024-03-30T11:17:39.745959Z"
    },
    "tags": []
   },
   "outputs": [],
   "source": [
    "import turtle as t\n",
    "t.shape('turtle')\n",
    "t.bgcolor('black')\n",
    "t.pencolor('red')\n",
    "t.speed(99999)\n",
    "n=1000\n",
    "m=6\n",
    "for k in range(n):\n",
    "    t.fd(k*((k+n)/n))\n",
    "    t.rt((360/m)+0.5)\n",
    "t.exitonclick()\n",
    "#не смогла вспомнить правильные коэффициенты, но должна быть красивая спиралька:("
   ]
  },
  {
   "cell_type": "code",
   "execution_count": null,
   "id": "c7546f97-d32c-4710-ba6d-06e9afe2af58",
   "metadata": {},
   "outputs": [],
   "source": []
  }
 ],
 "metadata": {
  "kernelspec": {
   "display_name": "Python [conda env:courses]",
   "language": "python",
   "name": "conda-env-courses-py"
  },
  "language_info": {
   "codemirror_mode": {
    "name": "ipython",
    "version": 3
   },
   "file_extension": ".py",
   "mimetype": "text/x-python",
   "name": "python",
   "nbconvert_exporter": "python",
   "pygments_lexer": "ipython3",
   "version": "3.11.7"
  }
 },
 "nbformat": 4,
 "nbformat_minor": 5
}
