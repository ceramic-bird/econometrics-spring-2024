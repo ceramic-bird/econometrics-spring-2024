{
 "cells": [
  {
   "cell_type": "code",
   "execution_count": 6,
   "id": "60928e56-1c9a-4023-ae3b-d5f0aaaccd8c",
   "metadata": {
    "execution": {
     "iopub.execute_input": "2024-03-16T07:40:42.976191Z",
     "iopub.status.busy": "2024-03-16T07:40:42.975193Z",
     "iopub.status.idle": "2024-03-16T07:40:42.981079Z",
     "shell.execute_reply": "2024-03-16T07:40:42.980077Z",
     "shell.execute_reply.started": "2024-03-16T07:40:42.976191Z"
    },
    "tags": []
   },
   "outputs": [],
   "source": [
    "import numpy as np\n",
    "import pandas as pd\n",
    "import statsmodels.formula.api as smf\n",
    "\n",
    "# Не показывать FutureWarnings\n",
    "import warnings\n",
    "warnings.simplefilter(action='ignore', category=FutureWarning)"
   ]
  },
  {
   "cell_type": "code",
   "execution_count": 7,
   "id": "dcbf5399-719a-4d16-b271-14a8fa38a030",
   "metadata": {
    "execution": {
     "iopub.execute_input": "2024-03-16T07:40:46.222772Z",
     "iopub.status.busy": "2024-03-16T07:40:46.222772Z",
     "iopub.status.idle": "2024-03-16T07:40:46.234604Z",
     "shell.execute_reply": "2024-03-16T07:40:46.233601Z",
     "shell.execute_reply.started": "2024-03-16T07:40:46.222772Z"
    },
    "tags": []
   },
   "outputs": [
    {
     "data": {
      "text/plain": [
       "(935, 17)"
      ]
     },
     "execution_count": 7,
     "metadata": {},
     "output_type": "execute_result"
    }
   ],
   "source": [
    "df = pd.read_csv('wage2.csv')\n",
    "df.shape"
   ]
  },
  {
   "cell_type": "code",
   "execution_count": 8,
   "id": "8db467d9-67cf-4f3c-8c6f-fe665937d14d",
   "metadata": {
    "execution": {
     "iopub.execute_input": "2024-03-16T07:46:24.117487Z",
     "iopub.status.busy": "2024-03-16T07:46:24.117487Z",
     "iopub.status.idle": "2024-03-16T07:46:26.037236Z",
     "shell.execute_reply": "2024-03-16T07:46:26.037236Z",
     "shell.execute_reply.started": "2024-03-16T07:46:24.117487Z"
    },
    "tags": []
   },
   "outputs": [],
   "source": [
    " mod = smf.ols(formula = 'np.log(wage)~1+educ+urban' , data = df)\n",
    "res = mod.fit()"
   ]
  },
  {
   "cell_type": "code",
   "execution_count": 9,
   "id": "7448075f-0210-4204-b9ac-98473783700a",
   "metadata": {
    "execution": {
     "iopub.execute_input": "2024-03-16T07:46:41.277428Z",
     "iopub.status.busy": "2024-03-16T07:46:41.276431Z",
     "iopub.status.idle": "2024-03-16T07:46:41.298800Z",
     "shell.execute_reply": "2024-03-16T07:46:41.298800Z",
     "shell.execute_reply.started": "2024-03-16T07:46:41.277428Z"
    },
    "tags": []
   },
   "outputs": [
    {
     "data": {
      "text/plain": [
       "Intercept    5.88\n",
       "educ         0.06\n",
       "urban        0.17\n",
       "dtype: float64"
      ]
     },
     "execution_count": 9,
     "metadata": {},
     "output_type": "execute_result"
    }
   ],
   "source": [
    " res.params.round(2)"
   ]
  },
  {
   "cell_type": "code",
   "execution_count": null,
   "id": "ae8d03c8-76f8-4938-94d7-111ee3a8895e",
   "metadata": {},
   "outputs": [],
   "source": []
  }
 ],
 "metadata": {
  "kernelspec": {
   "display_name": "Python [conda env:courses]",
   "language": "python",
   "name": "conda-env-courses-py"
  },
  "language_info": {
   "codemirror_mode": {
    "name": "ipython",
    "version": 3
   },
   "file_extension": ".py",
   "mimetype": "text/x-python",
   "name": "python",
   "nbconvert_exporter": "python",
   "pygments_lexer": "ipython3",
   "version": "3.11.7"
  }
 },
 "nbformat": 4,
 "nbformat_minor": 5
}
