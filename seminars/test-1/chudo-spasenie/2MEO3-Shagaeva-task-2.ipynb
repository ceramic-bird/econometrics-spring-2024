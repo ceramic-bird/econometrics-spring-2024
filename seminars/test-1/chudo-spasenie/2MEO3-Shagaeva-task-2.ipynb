{
 "cells": [
  {
   "cell_type": "code",
   "execution_count": 1,
   "id": "01814a7c-0708-48bc-80e9-2d8ebb172303",
   "metadata": {
    "execution": {
     "iopub.execute_input": "2024-03-16T07:49:35.902901Z",
     "iopub.status.busy": "2024-03-16T07:49:35.902901Z",
     "iopub.status.idle": "2024-03-16T07:49:36.643210Z",
     "shell.execute_reply": "2024-03-16T07:49:36.643210Z",
     "shell.execute_reply.started": "2024-03-16T07:49:35.902901Z"
    },
    "tags": []
   },
   "outputs": [],
   "source": [
    " import numpy as np\n",
    "import pandas as pd\n",
    "import statsmodels.formula.api as smf\n",
    "\n",
    "# Не показывать FutureWarnings\n",
    "import warnings\n",
    "warnings.simplefilter(action='ignore', category=FutureWarning)"
   ]
  },
  {
   "cell_type": "code",
   "execution_count": 2,
   "id": "b1d2d8de-fb84-4b9b-a0fd-e687cceb954c",
   "metadata": {
    "execution": {
     "iopub.execute_input": "2024-03-16T07:49:53.940865Z",
     "iopub.status.busy": "2024-03-16T07:49:53.939868Z",
     "iopub.status.idle": "2024-03-16T07:49:54.002565Z",
     "shell.execute_reply": "2024-03-16T07:49:54.002565Z",
     "shell.execute_reply.started": "2024-03-16T07:49:53.940865Z"
    },
    "tags": []
   },
   "outputs": [],
   "source": [
    " # импорт данных\n",
    "df = pd.read_csv('sleep75.csv')"
   ]
  },
  {
   "cell_type": "code",
   "execution_count": 5,
   "id": "492fcd51-7faa-4734-aa8c-52ae668fb903",
   "metadata": {
    "execution": {
     "iopub.execute_input": "2024-03-16T07:52:07.789949Z",
     "iopub.status.busy": "2024-03-16T07:52:07.788922Z",
     "iopub.status.idle": "2024-03-16T07:52:07.924811Z",
     "shell.execute_reply": "2024-03-16T07:52:07.924811Z",
     "shell.execute_reply.started": "2024-03-16T07:52:07.789949Z"
    },
    "tags": []
   },
   "outputs": [],
   "source": [
    " mod = smf.ols(formula = 'sleep ~ 1+totwrk+male+marr+south' , data = df)\n",
    "res = mod.fit()"
   ]
  },
  {
   "cell_type": "code",
   "execution_count": 9,
   "id": "c8e49482-1775-4813-a21f-b7dcd2b84c35",
   "metadata": {
    "execution": {
     "iopub.execute_input": "2024-03-16T07:53:04.063736Z",
     "iopub.status.busy": "2024-03-16T07:53:04.062738Z",
     "iopub.status.idle": "2024-03-16T07:53:04.069603Z",
     "shell.execute_reply": "2024-03-16T07:53:04.068601Z",
     "shell.execute_reply.started": "2024-03-16T07:53:04.063736Z"
    },
    "tags": []
   },
   "outputs": [
    {
     "data": {
      "text/plain": [
       "0.123"
      ]
     },
     "execution_count": 9,
     "metadata": {},
     "output_type": "execute_result"
    }
   ],
   "source": [
    "# R^2\n",
    "res.rsquared.round(3)"
   ]
  },
  {
   "cell_type": "code",
   "execution_count": 8,
   "id": "12d9106f-798b-41d1-9992-4173059c64de",
   "metadata": {
    "execution": {
     "iopub.execute_input": "2024-03-16T07:53:02.262866Z",
     "iopub.status.busy": "2024-03-16T07:53:02.261839Z",
     "iopub.status.idle": "2024-03-16T07:53:02.282383Z",
     "shell.execute_reply": "2024-03-16T07:53:02.280383Z",
     "shell.execute_reply.started": "2024-03-16T07:53:02.262866Z"
    },
    "tags": []
   },
   "outputs": [
    {
     "data": {
      "text/plain": [
       "0.118"
      ]
     },
     "execution_count": 8,
     "metadata": {},
     "output_type": "execute_result"
    }
   ],
   "source": [
    " # adj R^2\n",
    "res.rsquared_adj.round(3)"
   ]
  },
  {
   "cell_type": "markdown",
   "id": "b7728ddb-53af-486b-96db-96212a9c2b93",
   "metadata": {},
   "source": [
    "$$ sleep = \\beta_0 + \\beta_1 totwork + \\beta_2 male + \\beta_3 marr + \\beta_4 south + u$$\n",
    "\n",
    "Коэффициент детерминации равен 0.123. Такая доля показателя длительности сна (в минутах) зависит от общей занятости в неделю (в минутах), от бинарного показателя пола (1 - мужчина), от бинарного показателя состояния в браке (1 - в браке) и от бинарного показателя географического положения (1 - на юге)"
   ]
  },
  {
   "cell_type": "code",
   "execution_count": null,
   "id": "a020014f-d3e8-4b4b-aa1c-8761ea05beca",
   "metadata": {},
   "outputs": [],
   "source": []
  },
  {
   "cell_type": "code",
   "execution_count": null,
   "id": "38016d5a-d649-4b83-8228-4d0137d495d5",
   "metadata": {},
   "outputs": [],
   "source": []
  }
 ],
 "metadata": {
  "kernelspec": {
   "display_name": "Python [conda env:courses]",
   "language": "python",
   "name": "conda-env-courses-py"
  },
  "language_info": {
   "codemirror_mode": {
    "name": "ipython",
    "version": 3
   },
   "file_extension": ".py",
   "mimetype": "text/x-python",
   "name": "python",
   "nbconvert_exporter": "python",
   "pygments_lexer": "ipython3",
   "version": "3.11.7"
  }
 },
 "nbformat": 4,
 "nbformat_minor": 5
}
