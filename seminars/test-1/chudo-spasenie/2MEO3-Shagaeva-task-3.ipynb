{
 "cells": [
  {
   "cell_type": "code",
   "execution_count": 1,
   "id": "cd7d2e3f-cd32-4619-a76a-f6eb66a4f079",
   "metadata": {
    "execution": {
     "iopub.execute_input": "2024-03-16T08:06:22.510492Z",
     "iopub.status.busy": "2024-03-16T08:06:22.509496Z",
     "iopub.status.idle": "2024-03-16T08:06:23.313040Z",
     "shell.execute_reply": "2024-03-16T08:06:23.305265Z",
     "shell.execute_reply.started": "2024-03-16T08:06:22.510492Z"
    },
    "tags": []
   },
   "outputs": [],
   "source": [
    "import numpy as np\n",
    "import pandas as pd\n",
    "import statsmodels.formula.api as smf\n",
    "\n",
    "# Не показывать FutureWarnings\n",
    "import warnings\n",
    "warnings.simplefilter(action='ignore', category=FutureWarning)"
   ]
  },
  {
   "cell_type": "code",
   "execution_count": 2,
   "id": "976af09d-108c-4ab7-8d9f-d3c30395eb0f",
   "metadata": {
    "execution": {
     "iopub.execute_input": "2024-03-16T08:07:22.548459Z",
     "iopub.status.busy": "2024-03-16T08:07:22.548459Z",
     "iopub.status.idle": "2024-03-16T08:07:22.721178Z",
     "shell.execute_reply": "2024-03-16T08:07:22.721178Z",
     "shell.execute_reply.started": "2024-03-16T08:07:22.548459Z"
    },
    "tags": []
   },
   "outputs": [
    {
     "data": {
      "text/html": [
       "<div>\n",
       "<style scoped>\n",
       "    .dataframe tbody tr th:only-of-type {\n",
       "        vertical-align: middle;\n",
       "    }\n",
       "\n",
       "    .dataframe tbody tr th {\n",
       "        vertical-align: top;\n",
       "    }\n",
       "\n",
       "    .dataframe thead th {\n",
       "        text-align: right;\n",
       "    }\n",
       "</style>\n",
       "<table border=\"1\" class=\"dataframe\">\n",
       "  <thead>\n",
       "    <tr style=\"text-align: right;\">\n",
       "      <th></th>\n",
       "      <th>cost</th>\n",
       "      <th>q</th>\n",
       "      <th>pl</th>\n",
       "      <th>sl</th>\n",
       "      <th>pk</th>\n",
       "      <th>sk</th>\n",
       "      <th>pf</th>\n",
       "      <th>sf</th>\n",
       "    </tr>\n",
       "  </thead>\n",
       "  <tbody>\n",
       "    <tr>\n",
       "      <th>0</th>\n",
       "      <td>0.2130</td>\n",
       "      <td>8.0</td>\n",
       "      <td>6869.47</td>\n",
       "      <td>0.3291</td>\n",
       "      <td>64.945</td>\n",
       "      <td>0.4197</td>\n",
       "      <td>18.000</td>\n",
       "      <td>0.2512</td>\n",
       "    </tr>\n",
       "    <tr>\n",
       "      <th>1</th>\n",
       "      <td>3.0427</td>\n",
       "      <td>869.0</td>\n",
       "      <td>8372.96</td>\n",
       "      <td>0.1030</td>\n",
       "      <td>68.227</td>\n",
       "      <td>0.2913</td>\n",
       "      <td>21.067</td>\n",
       "      <td>0.6057</td>\n",
       "    </tr>\n",
       "    <tr>\n",
       "      <th>2</th>\n",
       "      <td>9.4059</td>\n",
       "      <td>1412.0</td>\n",
       "      <td>7960.90</td>\n",
       "      <td>0.0891</td>\n",
       "      <td>40.692</td>\n",
       "      <td>0.1567</td>\n",
       "      <td>41.530</td>\n",
       "      <td>0.7542</td>\n",
       "    </tr>\n",
       "    <tr>\n",
       "      <th>3</th>\n",
       "      <td>0.7606</td>\n",
       "      <td>65.0</td>\n",
       "      <td>8971.89</td>\n",
       "      <td>0.2802</td>\n",
       "      <td>41.243</td>\n",
       "      <td>0.1282</td>\n",
       "      <td>28.539</td>\n",
       "      <td>0.5916</td>\n",
       "    </tr>\n",
       "    <tr>\n",
       "      <th>4</th>\n",
       "      <td>2.2587</td>\n",
       "      <td>295.0</td>\n",
       "      <td>8218.40</td>\n",
       "      <td>0.1772</td>\n",
       "      <td>71.940</td>\n",
       "      <td>0.1623</td>\n",
       "      <td>39.200</td>\n",
       "      <td>0.6606</td>\n",
       "    </tr>\n",
       "    <tr>\n",
       "      <th>...</th>\n",
       "      <td>...</td>\n",
       "      <td>...</td>\n",
       "      <td>...</td>\n",
       "      <td>...</td>\n",
       "      <td>...</td>\n",
       "      <td>...</td>\n",
       "      <td>...</td>\n",
       "      <td>...</td>\n",
       "    </tr>\n",
       "    <tr>\n",
       "      <th>153</th>\n",
       "      <td>6.8293</td>\n",
       "      <td>946.6</td>\n",
       "      <td>10642.16</td>\n",
       "      <td>0.0883</td>\n",
       "      <td>43.600</td>\n",
       "      <td>0.1914</td>\n",
       "      <td>51.463</td>\n",
       "      <td>0.7203</td>\n",
       "    </tr>\n",
       "    <tr>\n",
       "      <th>154</th>\n",
       "      <td>3.7605</td>\n",
       "      <td>377.0</td>\n",
       "      <td>7432.24</td>\n",
       "      <td>0.2117</td>\n",
       "      <td>74.120</td>\n",
       "      <td>0.2274</td>\n",
       "      <td>33.436</td>\n",
       "      <td>0.5609</td>\n",
       "    </tr>\n",
       "    <tr>\n",
       "      <th>155</th>\n",
       "      <td>3.9822</td>\n",
       "      <td>391.0</td>\n",
       "      <td>5826.04</td>\n",
       "      <td>0.1926</td>\n",
       "      <td>78.288</td>\n",
       "      <td>0.0924</td>\n",
       "      <td>44.633</td>\n",
       "      <td>0.7151</td>\n",
       "    </tr>\n",
       "    <tr>\n",
       "      <th>156</th>\n",
       "      <td>30.1880</td>\n",
       "      <td>5317.0</td>\n",
       "      <td>9586.63</td>\n",
       "      <td>0.0845</td>\n",
       "      <td>78.008</td>\n",
       "      <td>0.2009</td>\n",
       "      <td>41.840</td>\n",
       "      <td>0.7147</td>\n",
       "    </tr>\n",
       "    <tr>\n",
       "      <th>157</th>\n",
       "      <td>67.8562</td>\n",
       "      <td>15220.0</td>\n",
       "      <td>6986.09</td>\n",
       "      <td>0.1451</td>\n",
       "      <td>74.025</td>\n",
       "      <td>0.2596</td>\n",
       "      <td>25.662</td>\n",
       "      <td>0.5945</td>\n",
       "    </tr>\n",
       "  </tbody>\n",
       "</table>\n",
       "<p>158 rows × 8 columns</p>\n",
       "</div>"
      ],
      "text/plain": [
       "        cost        q        pl      sl      pk      sk      pf      sf\n",
       "0     0.2130      8.0   6869.47  0.3291  64.945  0.4197  18.000  0.2512\n",
       "1     3.0427    869.0   8372.96  0.1030  68.227  0.2913  21.067  0.6057\n",
       "2     9.4059   1412.0   7960.90  0.0891  40.692  0.1567  41.530  0.7542\n",
       "3     0.7606     65.0   8971.89  0.2802  41.243  0.1282  28.539  0.5916\n",
       "4     2.2587    295.0   8218.40  0.1772  71.940  0.1623  39.200  0.6606\n",
       "..       ...      ...       ...     ...     ...     ...     ...     ...\n",
       "153   6.8293    946.6  10642.16  0.0883  43.600  0.1914  51.463  0.7203\n",
       "154   3.7605    377.0   7432.24  0.2117  74.120  0.2274  33.436  0.5609\n",
       "155   3.9822    391.0   5826.04  0.1926  78.288  0.0924  44.633  0.7151\n",
       "156  30.1880   5317.0   9586.63  0.0845  78.008  0.2009  41.840  0.7147\n",
       "157  67.8562  15220.0   6986.09  0.1451  74.025  0.2596  25.662  0.5945\n",
       "\n",
       "[158 rows x 8 columns]"
      ]
     },
     "execution_count": 2,
     "metadata": {},
     "output_type": "execute_result"
    }
   ],
   "source": [
    "# импорт данных\n",
    "df = pd.read_csv('Electricity.csv')\n",
    "df"
   ]
  },
  {
   "cell_type": "code",
   "execution_count": 3,
   "id": "d499a665-a115-4bce-9c8e-bd52b0d17e68",
   "metadata": {
    "execution": {
     "iopub.execute_input": "2024-03-16T08:08:37.798603Z",
     "iopub.status.busy": "2024-03-16T08:08:37.798603Z",
     "iopub.status.idle": "2024-03-16T08:08:37.874045Z",
     "shell.execute_reply": "2024-03-16T08:08:37.874045Z",
     "shell.execute_reply.started": "2024-03-16T08:08:37.798603Z"
    },
    "tags": []
   },
   "outputs": [],
   "source": [
    "mod = smf.ols(formula = 'np.log(cost)~1+np.log(q)+np.log(pf)' , data = df)\n",
    "res = mod.fit()"
   ]
  },
  {
   "cell_type": "code",
   "execution_count": 4,
   "id": "1c05d131-a169-4529-b816-b02ac949f368",
   "metadata": {
    "execution": {
     "iopub.execute_input": "2024-03-16T08:09:52.286513Z",
     "iopub.status.busy": "2024-03-16T08:09:52.286513Z",
     "iopub.status.idle": "2024-03-16T08:09:52.295470Z",
     "shell.execute_reply": "2024-03-16T08:09:52.294467Z",
     "shell.execute_reply.started": "2024-03-16T08:09:52.286513Z"
    },
    "tags": []
   },
   "outputs": [
    {
     "data": {
      "text/plain": [
       "Intercept    -6.349734\n",
       "np.log(q)     0.840586\n",
       "np.log(pf)    0.729392\n",
       "dtype: float64"
      ]
     },
     "execution_count": 4,
     "metadata": {},
     "output_type": "execute_result"
    }
   ],
   "source": [
    "res.params"
   ]
  },
  {
   "cell_type": "code",
   "execution_count": 6,
   "id": "437cd9bd-383b-4303-a747-b86bf74bc138",
   "metadata": {
    "execution": {
     "iopub.execute_input": "2024-03-16T08:10:13.552345Z",
     "iopub.status.busy": "2024-03-16T08:10:13.551347Z",
     "iopub.status.idle": "2024-03-16T08:10:13.559727Z",
     "shell.execute_reply": "2024-03-16T08:10:13.558421Z",
     "shell.execute_reply.started": "2024-03-16T08:10:13.552345Z"
    },
    "tags": []
   },
   "outputs": [
    {
     "data": {
      "text/plain": [
       "373.66"
      ]
     },
     "execution_count": 6,
     "metadata": {},
     "output_type": "execute_result"
    }
   ],
   "source": [
    "# TSS\n",
    "res.centered_tss.round(2)"
   ]
  },
  {
   "cell_type": "code",
   "execution_count": 7,
   "id": "d55a404e-af67-4a07-97ac-6079fefaed2d",
   "metadata": {
    "execution": {
     "iopub.execute_input": "2024-03-16T08:10:44.857728Z",
     "iopub.status.busy": "2024-03-16T08:10:44.856730Z",
     "iopub.status.idle": "2024-03-16T08:10:44.864668Z",
     "shell.execute_reply": "2024-03-16T08:10:44.863556Z",
     "shell.execute_reply.started": "2024-03-16T08:10:44.857728Z"
    },
    "tags": []
   },
   "outputs": [
    {
     "data": {
      "text/plain": [
       "366.8"
      ]
     },
     "execution_count": 7,
     "metadata": {},
     "output_type": "execute_result"
    }
   ],
   "source": [
    "# ESS\n",
    "res.ess.round(2)"
   ]
  },
  {
   "cell_type": "code",
   "execution_count": 8,
   "id": "96e2d11c-b211-4abd-87d0-9a56f045360b",
   "metadata": {
    "execution": {
     "iopub.execute_input": "2024-03-16T08:11:04.989650Z",
     "iopub.status.busy": "2024-03-16T08:11:04.989650Z",
     "iopub.status.idle": "2024-03-16T08:11:04.996720Z",
     "shell.execute_reply": "2024-03-16T08:11:04.995716Z",
     "shell.execute_reply.started": "2024-03-16T08:11:04.989650Z"
    },
    "tags": []
   },
   "outputs": [
    {
     "data": {
      "text/plain": [
       "6.869"
      ]
     },
     "execution_count": 8,
     "metadata": {},
     "output_type": "execute_result"
    }
   ],
   "source": [
    "# RSS\n",
    "res.ssr.round(3)"
   ]
  }
 ],
 "metadata": {
  "kernelspec": {
   "display_name": "Python [conda env:courses]",
   "language": "python",
   "name": "conda-env-courses-py"
  },
  "language_info": {
   "codemirror_mode": {
    "name": "ipython",
    "version": 3
   },
   "file_extension": ".py",
   "mimetype": "text/x-python",
   "name": "python",
   "nbconvert_exporter": "python",
   "pygments_lexer": "ipython3",
   "version": "3.11.7"
  }
 },
 "nbformat": 4,
 "nbformat_minor": 5
}
