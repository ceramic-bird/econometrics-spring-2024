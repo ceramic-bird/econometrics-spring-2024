{
 "cells": [
  {
   "cell_type": "code",
   "execution_count": 1,
   "id": "9acda8d6-77f3-4be6-9379-aceb4267b550",
   "metadata": {
    "execution": {
     "iopub.execute_input": "2024-03-16T08:15:09.543187Z",
     "iopub.status.busy": "2024-03-16T08:15:09.542188Z",
     "iopub.status.idle": "2024-03-16T08:15:10.343646Z",
     "shell.execute_reply": "2024-03-16T08:15:10.343646Z",
     "shell.execute_reply.started": "2024-03-16T08:15:09.543187Z"
    },
    "tags": []
   },
   "outputs": [],
   "source": [
    "import numpy as np\n",
    "import pandas as pd\n",
    "import statsmodels.formula.api as smf\n",
    "\n",
    "# Не показывать FutureWarnings\n",
    "import warnings\n",
    "warnings.simplefilter(action='ignore', category=FutureWarning)"
   ]
  },
  {
   "cell_type": "code",
   "execution_count": 3,
   "id": "d262a4b9-ddd4-4fa2-91a5-ea219dc7d619",
   "metadata": {
    "execution": {
     "iopub.execute_input": "2024-03-16T08:15:28.654001Z",
     "iopub.status.busy": "2024-03-16T08:15:28.654001Z",
     "iopub.status.idle": "2024-03-16T08:15:28.800154Z",
     "shell.execute_reply": "2024-03-16T08:15:28.800154Z",
     "shell.execute_reply.started": "2024-03-16T08:15:28.654001Z"
    },
    "tags": []
   },
   "outputs": [
    {
     "data": {
      "text/html": [
       "<div>\n",
       "<style scoped>\n",
       "    .dataframe tbody tr th:only-of-type {\n",
       "        vertical-align: middle;\n",
       "    }\n",
       "\n",
       "    .dataframe tbody tr th {\n",
       "        vertical-align: top;\n",
       "    }\n",
       "\n",
       "    .dataframe thead th {\n",
       "        text-align: right;\n",
       "    }\n",
       "</style>\n",
       "<table border=\"1\" class=\"dataframe\">\n",
       "  <thead>\n",
       "    <tr style=\"text-align: right;\">\n",
       "      <th></th>\n",
       "      <th>capital</th>\n",
       "      <th>labour</th>\n",
       "      <th>output</th>\n",
       "      <th>wage</th>\n",
       "    </tr>\n",
       "  </thead>\n",
       "  <tbody>\n",
       "    <tr>\n",
       "      <th>0</th>\n",
       "      <td>2.606563</td>\n",
       "      <td>184</td>\n",
       "      <td>9.250759</td>\n",
       "      <td>43.080307</td>\n",
       "    </tr>\n",
       "    <tr>\n",
       "      <th>1</th>\n",
       "      <td>1.323237</td>\n",
       "      <td>91</td>\n",
       "      <td>3.664310</td>\n",
       "      <td>27.780016</td>\n",
       "    </tr>\n",
       "    <tr>\n",
       "      <th>2</th>\n",
       "      <td>22.093692</td>\n",
       "      <td>426</td>\n",
       "      <td>28.781516</td>\n",
       "      <td>44.467748</td>\n",
       "    </tr>\n",
       "    <tr>\n",
       "      <th>3</th>\n",
       "      <td>10.737851</td>\n",
       "      <td>72</td>\n",
       "      <td>4.124642</td>\n",
       "      <td>39.734710</td>\n",
       "    </tr>\n",
       "    <tr>\n",
       "      <th>4</th>\n",
       "      <td>1.161365</td>\n",
       "      <td>46</td>\n",
       "      <td>2.890150</td>\n",
       "      <td>34.650709</td>\n",
       "    </tr>\n",
       "    <tr>\n",
       "      <th>...</th>\n",
       "      <td>...</td>\n",
       "      <td>...</td>\n",
       "      <td>...</td>\n",
       "      <td>...</td>\n",
       "    </tr>\n",
       "    <tr>\n",
       "      <th>564</th>\n",
       "      <td>2.625403</td>\n",
       "      <td>20</td>\n",
       "      <td>1.424376</td>\n",
       "      <td>33.477545</td>\n",
       "    </tr>\n",
       "    <tr>\n",
       "      <th>565</th>\n",
       "      <td>1.276386</td>\n",
       "      <td>61</td>\n",
       "      <td>2.109048</td>\n",
       "      <td>26.300732</td>\n",
       "    </tr>\n",
       "    <tr>\n",
       "      <th>566</th>\n",
       "      <td>1.953869</td>\n",
       "      <td>117</td>\n",
       "      <td>6.241870</td>\n",
       "      <td>41.153979</td>\n",
       "    </tr>\n",
       "    <tr>\n",
       "      <th>567</th>\n",
       "      <td>1.318527</td>\n",
       "      <td>46</td>\n",
       "      <td>7.902237</td>\n",
       "      <td>66.720139</td>\n",
       "    </tr>\n",
       "    <tr>\n",
       "      <th>568</th>\n",
       "      <td>2.832391</td>\n",
       "      <td>161</td>\n",
       "      <td>6.804085</td>\n",
       "      <td>36.618435</td>\n",
       "    </tr>\n",
       "  </tbody>\n",
       "</table>\n",
       "<p>569 rows × 4 columns</p>\n",
       "</div>"
      ],
      "text/plain": [
       "       capital  labour     output       wage\n",
       "0     2.606563     184   9.250759  43.080307\n",
       "1     1.323237      91   3.664310  27.780016\n",
       "2    22.093692     426  28.781516  44.467748\n",
       "3    10.737851      72   4.124642  39.734710\n",
       "4     1.161365      46   2.890150  34.650709\n",
       "..         ...     ...        ...        ...\n",
       "564   2.625403      20   1.424376  33.477545\n",
       "565   1.276386      61   2.109048  26.300732\n",
       "566   1.953869     117   6.241870  41.153979\n",
       "567   1.318527      46   7.902237  66.720139\n",
       "568   2.832391     161   6.804085  36.618435\n",
       "\n",
       "[569 rows x 4 columns]"
      ]
     },
     "execution_count": 3,
     "metadata": {},
     "output_type": "execute_result"
    }
   ],
   "source": [
    "# импорт данных\n",
    "df = pd.read_csv('Labour.csv')\n",
    "df"
   ]
  },
  {
   "cell_type": "code",
   "execution_count": 4,
   "id": "a4a507e9-95bc-4c88-baac-5b63949050cc",
   "metadata": {
    "execution": {
     "iopub.execute_input": "2024-03-16T08:18:01.537029Z",
     "iopub.status.busy": "2024-03-16T08:18:01.536031Z",
     "iopub.status.idle": "2024-03-16T08:18:01.588607Z",
     "shell.execute_reply": "2024-03-16T08:18:01.587189Z",
     "shell.execute_reply.started": "2024-03-16T08:18:01.537029Z"
    },
    "tags": []
   },
   "outputs": [],
   "source": [
    "mod = smf.ols(formula = 'np.log(output)~1+np.log(capital)+np.log(labour)+np.log(wage)' , data = df)\n",
    "res = mod.fit()"
   ]
  },
  {
   "cell_type": "code",
   "execution_count": 5,
   "id": "000c4b9b-61af-43da-987d-a00daf6990d5",
   "metadata": {
    "execution": {
     "iopub.execute_input": "2024-03-16T08:18:09.285981Z",
     "iopub.status.busy": "2024-03-16T08:18:09.285981Z",
     "iopub.status.idle": "2024-03-16T08:18:09.293311Z",
     "shell.execute_reply": "2024-03-16T08:18:09.292310Z",
     "shell.execute_reply.started": "2024-03-16T08:18:09.285981Z"
    },
    "tags": []
   },
   "outputs": [
    {
     "data": {
      "text/plain": [
       "Intercept         -5.007316\n",
       "np.log(capital)    0.149343\n",
       "np.log(labour)     0.720410\n",
       "np.log(wage)       0.921390\n",
       "dtype: float64"
      ]
     },
     "execution_count": 5,
     "metadata": {},
     "output_type": "execute_result"
    }
   ],
   "source": [
    "res.params"
   ]
  },
  {
   "cell_type": "code",
   "execution_count": 7,
   "id": "b453e903-e451-4815-81ac-bfb18209208d",
   "metadata": {
    "execution": {
     "iopub.execute_input": "2024-03-16T08:18:45.838966Z",
     "iopub.status.busy": "2024-03-16T08:18:45.837968Z",
     "iopub.status.idle": "2024-03-16T08:18:45.842775Z",
     "shell.execute_reply": "2024-03-16T08:18:45.841772Z",
     "shell.execute_reply.started": "2024-03-16T08:18:45.837968Z"
    },
    "tags": []
   },
   "outputs": [],
   "source": [
    " # задаем индексы наблюдений\n",
    "ind = [465]"
   ]
  },
  {
   "cell_type": "code",
   "execution_count": 15,
   "id": "a51b22d8-98c3-4835-beb3-d3ff12c972f9",
   "metadata": {
    "execution": {
     "iopub.execute_input": "2024-03-16T08:21:55.515456Z",
     "iopub.status.busy": "2024-03-16T08:21:55.515456Z",
     "iopub.status.idle": "2024-03-16T08:21:55.524207Z",
     "shell.execute_reply": "2024-03-16T08:21:55.523204Z",
     "shell.execute_reply.started": "2024-03-16T08:21:55.515456Z"
    },
    "tags": []
   },
   "outputs": [
    {
     "data": {
      "text/plain": [
       "465    2.113\n",
       "Name: output, dtype: float64"
      ]
     },
     "execution_count": 15,
     "metadata": {},
     "output_type": "execute_result"
    }
   ],
   "source": [
    "# Фактические значения\n",
    "np.log(df['output']).iloc[ind].round(3)"
   ]
  },
  {
   "cell_type": "code",
   "execution_count": 13,
   "id": "45046b6e-3dd8-4d41-b208-2089691543a0",
   "metadata": {
    "execution": {
     "iopub.execute_input": "2024-03-16T08:21:31.225877Z",
     "iopub.status.busy": "2024-03-16T08:21:31.225877Z",
     "iopub.status.idle": "2024-03-16T08:21:31.235101Z",
     "shell.execute_reply": "2024-03-16T08:21:31.233903Z",
     "shell.execute_reply.started": "2024-03-16T08:21:31.225877Z"
    },
    "tags": []
   },
   "outputs": [
    {
     "data": {
      "text/plain": [
       "465    2.132\n",
       "dtype: float64"
      ]
     },
     "execution_count": 13,
     "metadata": {},
     "output_type": "execute_result"
    }
   ],
   "source": [
    " # Предсказанные значения\n",
    "res.fittedvalues[ind].round(3)"
   ]
  },
  {
   "cell_type": "code",
   "execution_count": 14,
   "id": "520c6224-4c83-42ea-9dda-29652c290560",
   "metadata": {
    "execution": {
     "iopub.execute_input": "2024-03-16T08:21:41.218491Z",
     "iopub.status.busy": "2024-03-16T08:21:41.218491Z",
     "iopub.status.idle": "2024-03-16T08:21:41.228473Z",
     "shell.execute_reply": "2024-03-16T08:21:41.227469Z",
     "shell.execute_reply.started": "2024-03-16T08:21:41.218491Z"
    },
    "tags": []
   },
   "outputs": [
    {
     "data": {
      "text/plain": [
       "465   -0.02\n",
       "dtype: float64"
      ]
     },
     "execution_count": 14,
     "metadata": {},
     "output_type": "execute_result"
    }
   ],
   "source": [
    " # Остатки\n",
    "res.resid[ind].round(3)"
   ]
  },
  {
   "cell_type": "code",
   "execution_count": null,
   "id": "a95ab6b0-f59a-4cdd-a212-d5dc4a459b2d",
   "metadata": {},
   "outputs": [],
   "source": []
  }
 ],
 "metadata": {
  "kernelspec": {
   "display_name": "Python [conda env:courses]",
   "language": "python",
   "name": "conda-env-courses-py"
  },
  "language_info": {
   "codemirror_mode": {
    "name": "ipython",
    "version": 3
   },
   "file_extension": ".py",
   "mimetype": "text/x-python",
   "name": "python",
   "nbconvert_exporter": "python",
   "pygments_lexer": "ipython3",
   "version": "3.11.7"
  }
 },
 "nbformat": 4,
 "nbformat_minor": 5
}
