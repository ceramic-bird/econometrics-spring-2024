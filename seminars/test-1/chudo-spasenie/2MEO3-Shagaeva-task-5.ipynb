{
 "cells": [
  {
   "cell_type": "code",
   "execution_count": 1,
   "id": "d5658fa5-ad0e-47d4-8da5-139da7293d15",
   "metadata": {
    "execution": {
     "iopub.execute_input": "2024-03-16T08:22:48.790944Z",
     "iopub.status.busy": "2024-03-16T08:22:48.789945Z",
     "iopub.status.idle": "2024-03-16T08:22:49.608948Z",
     "shell.execute_reply": "2024-03-16T08:22:49.608948Z",
     "shell.execute_reply.started": "2024-03-16T08:22:48.790944Z"
    },
    "tags": []
   },
   "outputs": [],
   "source": [
    "import numpy as np\n",
    "import pandas as pd\n",
    "import statsmodels.formula.api as smf\n",
    "\n",
    "# Не показывать FutureWarnings\n",
    "import warnings\n",
    "warnings.simplefilter(action='ignore', category=FutureWarning)"
   ]
  },
  {
   "cell_type": "code",
   "execution_count": 2,
   "id": "06328b32-f5bd-42ad-a919-f8ada6c39d86",
   "metadata": {
    "execution": {
     "iopub.execute_input": "2024-03-16T08:22:58.134136Z",
     "iopub.status.busy": "2024-03-16T08:22:58.133139Z",
     "iopub.status.idle": "2024-03-16T08:22:58.155619Z",
     "shell.execute_reply": "2024-03-16T08:22:58.154620Z",
     "shell.execute_reply.started": "2024-03-16T08:22:58.134136Z"
    },
    "tags": []
   },
   "outputs": [
    {
     "data": {
      "text/html": [
       "<div>\n",
       "<style scoped>\n",
       "    .dataframe tbody tr th:only-of-type {\n",
       "        vertical-align: middle;\n",
       "    }\n",
       "\n",
       "    .dataframe tbody tr th {\n",
       "        vertical-align: top;\n",
       "    }\n",
       "\n",
       "    .dataframe thead th {\n",
       "        text-align: right;\n",
       "    }\n",
       "</style>\n",
       "<table border=\"1\" class=\"dataframe\">\n",
       "  <thead>\n",
       "    <tr style=\"text-align: right;\">\n",
       "      <th></th>\n",
       "      <th>capital</th>\n",
       "      <th>labour</th>\n",
       "      <th>output</th>\n",
       "      <th>wage</th>\n",
       "    </tr>\n",
       "  </thead>\n",
       "  <tbody>\n",
       "    <tr>\n",
       "      <th>0</th>\n",
       "      <td>2.606563</td>\n",
       "      <td>184</td>\n",
       "      <td>9.250759</td>\n",
       "      <td>43.080307</td>\n",
       "    </tr>\n",
       "    <tr>\n",
       "      <th>1</th>\n",
       "      <td>1.323237</td>\n",
       "      <td>91</td>\n",
       "      <td>3.664310</td>\n",
       "      <td>27.780016</td>\n",
       "    </tr>\n",
       "    <tr>\n",
       "      <th>2</th>\n",
       "      <td>22.093692</td>\n",
       "      <td>426</td>\n",
       "      <td>28.781516</td>\n",
       "      <td>44.467748</td>\n",
       "    </tr>\n",
       "    <tr>\n",
       "      <th>3</th>\n",
       "      <td>10.737851</td>\n",
       "      <td>72</td>\n",
       "      <td>4.124642</td>\n",
       "      <td>39.734710</td>\n",
       "    </tr>\n",
       "    <tr>\n",
       "      <th>4</th>\n",
       "      <td>1.161365</td>\n",
       "      <td>46</td>\n",
       "      <td>2.890150</td>\n",
       "      <td>34.650709</td>\n",
       "    </tr>\n",
       "    <tr>\n",
       "      <th>...</th>\n",
       "      <td>...</td>\n",
       "      <td>...</td>\n",
       "      <td>...</td>\n",
       "      <td>...</td>\n",
       "    </tr>\n",
       "    <tr>\n",
       "      <th>564</th>\n",
       "      <td>2.625403</td>\n",
       "      <td>20</td>\n",
       "      <td>1.424376</td>\n",
       "      <td>33.477545</td>\n",
       "    </tr>\n",
       "    <tr>\n",
       "      <th>565</th>\n",
       "      <td>1.276386</td>\n",
       "      <td>61</td>\n",
       "      <td>2.109048</td>\n",
       "      <td>26.300732</td>\n",
       "    </tr>\n",
       "    <tr>\n",
       "      <th>566</th>\n",
       "      <td>1.953869</td>\n",
       "      <td>117</td>\n",
       "      <td>6.241870</td>\n",
       "      <td>41.153979</td>\n",
       "    </tr>\n",
       "    <tr>\n",
       "      <th>567</th>\n",
       "      <td>1.318527</td>\n",
       "      <td>46</td>\n",
       "      <td>7.902237</td>\n",
       "      <td>66.720139</td>\n",
       "    </tr>\n",
       "    <tr>\n",
       "      <th>568</th>\n",
       "      <td>2.832391</td>\n",
       "      <td>161</td>\n",
       "      <td>6.804085</td>\n",
       "      <td>36.618435</td>\n",
       "    </tr>\n",
       "  </tbody>\n",
       "</table>\n",
       "<p>569 rows × 4 columns</p>\n",
       "</div>"
      ],
      "text/plain": [
       "       capital  labour     output       wage\n",
       "0     2.606563     184   9.250759  43.080307\n",
       "1     1.323237      91   3.664310  27.780016\n",
       "2    22.093692     426  28.781516  44.467748\n",
       "3    10.737851      72   4.124642  39.734710\n",
       "4     1.161365      46   2.890150  34.650709\n",
       "..         ...     ...        ...        ...\n",
       "564   2.625403      20   1.424376  33.477545\n",
       "565   1.276386      61   2.109048  26.300732\n",
       "566   1.953869     117   6.241870  41.153979\n",
       "567   1.318527      46   7.902237  66.720139\n",
       "568   2.832391     161   6.804085  36.618435\n",
       "\n",
       "[569 rows x 4 columns]"
      ]
     },
     "execution_count": 2,
     "metadata": {},
     "output_type": "execute_result"
    }
   ],
   "source": [
    "# импорт данных\n",
    "df = pd.read_csv('Labour.csv')\n",
    "df"
   ]
  },
  {
   "cell_type": "code",
   "execution_count": 3,
   "id": "cc829d32-ef0d-4d1a-b0ea-e963b38ee8c3",
   "metadata": {
    "execution": {
     "iopub.execute_input": "2024-03-16T08:23:58.371040Z",
     "iopub.status.busy": "2024-03-16T08:23:58.370041Z",
     "iopub.status.idle": "2024-03-16T08:23:58.411197Z",
     "shell.execute_reply": "2024-03-16T08:23:58.411197Z",
     "shell.execute_reply.started": "2024-03-16T08:23:58.370041Z"
    },
    "tags": []
   },
   "outputs": [],
   "source": [
    "mod = smf.ols(formula = 'np.log(output)~1+np.log(capital)+labour+wage' , data = df)\n",
    "res = mod.fit()"
   ]
  },
  {
   "cell_type": "code",
   "execution_count": 4,
   "id": "c7796833-7bdb-4125-bfc8-a3745bb5302d",
   "metadata": {
    "execution": {
     "iopub.execute_input": "2024-03-16T08:24:03.233918Z",
     "iopub.status.busy": "2024-03-16T08:24:03.233918Z",
     "iopub.status.idle": "2024-03-16T08:24:03.241168Z",
     "shell.execute_reply": "2024-03-16T08:24:03.241168Z",
     "shell.execute_reply.started": "2024-03-16T08:24:03.233918Z"
    },
    "tags": []
   },
   "outputs": [
    {
     "data": {
      "text/plain": [
       "Intercept          0.577725\n",
       "np.log(capital)    0.442294\n",
       "labour             0.000450\n",
       "wage               0.016260\n",
       "dtype: float64"
      ]
     },
     "execution_count": 4,
     "metadata": {},
     "output_type": "execute_result"
    }
   ],
   "source": [
    "res.params"
   ]
  },
  {
   "cell_type": "markdown",
   "id": "780c4f35-a9ae-483d-b49e-6f79ed3238bd",
   "metadata": {},
   "source": [
    "$$ log(output) = \\beta_0 + \\beta_1 log(capital) + \\beta_2 labour + \\beta_3 wage + u$$"
   ]
  },
  {
   "cell_type": "markdown",
   "id": "e0b04ef0-125b-4d5e-8980-710f039742dd",
   "metadata": {},
   "source": [
    "Оценка регрессии: \n",
    "зависимая перменная - output \n",
    "регрессоры - capital, labour, wage\n",
    "output - выпуск (в миллионах евро)\n",
    "capital - капитал (в миллионах евро)\n",
    "labour - число сотрудников \n",
    "wage - зарпалата на одного сотрудника (в тыс евро)\n",
    "\n",
    "При увеличении значения capital на единицу при прочих равных, переменная output изменится на 0.44\n",
    "При увеличении значения labour на единицу при прочих равных, переменная output изменится на 0.05 (коэффициент умноженный на 100)\n",
    "При увеличении значения wage на единицу при прочих равных, переменная output изменится на 1.63 (коэффициент умноженный на 100)"
   ]
  }
 ],
 "metadata": {
  "kernelspec": {
   "display_name": "Python [conda env:courses]",
   "language": "python",
   "name": "conda-env-courses-py"
  },
  "language_info": {
   "codemirror_mode": {
    "name": "ipython",
    "version": 3
   },
   "file_extension": ".py",
   "mimetype": "text/x-python",
   "name": "python",
   "nbconvert_exporter": "python",
   "pygments_lexer": "ipython3",
   "version": "3.11.7"
  }
 },
 "nbformat": 4,
 "nbformat_minor": 5
}
