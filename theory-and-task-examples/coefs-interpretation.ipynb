{
 "cells": [
  {
   "cell_type": "markdown",
   "metadata": {},
   "source": [
    "# Интерпретация коэффициентов\n",
    "\n",
    "Рассмотрим линейную регрессию\n",
    "\n",
    "\\begin{equation*}\n",
    "\ty=\\beta_0+\\beta_1x_1+\\cdots+\\beta_kx_k+u\n",
    "\\end{equation*}\n",
    "\n",
    "где\n",
    "\n",
    "* $y$ – количественная эндогенная переменная\n",
    "* $\\begin{pmatrix} x_1 & \\cdots & x_k \\end{pmatrix}$ – экзогенные количественные или категориальные переменные\n",
    "* $u$ – (ненаблюдаемая) ошибка модели, агрегированное влияние неучтённых переменных/внешние шоки\n",
    "\n",
    "Для удобства записи введём обозначения\n",
    "\n",
    "\\begin{align*}\n",
    "\t\\beta&=\\begin{pmatrix} \\beta_0 \\\\ \\beta_1 \\\\ \\vdots \\\\ \\beta_k \\end{pmatrix} &\n",
    "\tx &=\\begin{pmatrix} 1 \\\\ x_1 \\\\ \\vdots \\\\ x_k \\end{pmatrix}\n",
    "\\end{align*}\n",
    "\n",
    "Тогда регрессию можно записать \n",
    "\n",
    "$$\n",
    "\ty=x^\\top \\beta+u\n",
    "$$\n",
    "\n",
    "Регрессоры делим на две группы\n",
    "* объясняющие (обычно один регрессор) \n",
    "* контрольные\n",
    "\n",
    "<div style=\"background-color:Bisque; color:DarkBlue; padding:30px;\">\n",
    "\n",
    "<i><b><span style=\"color: purple\">Базовая задача </span> </b><br>\n",
    "\n",
    "Оценка влияния объясняющих переменных (эффекты воздействия) на зависимую переменную </i></div>\n",
    "\n",
    "<span style=\"color: purple\">__Цель включения контрольных переменных__</span>: \"очищение\" эффектов воздействия от влияния контрольных переменных."
   ]
  },
  {
   "cell_type": "markdown",
   "metadata": {},
   "source": [
    "## Количественный регрессор\n",
    "\n",
    "Будем предполагать, что  $x_1$ – количественный регрессор\n",
    "\n",
    "### Пример 1\n",
    "\n",
    "Рассмотрим линейную регрессию \n",
    "\n",
    "$$\n",
    "\ty=\\beta_0+\\beta_1x_1+\\cdots+u\n",
    "$$\n",
    "\n",
    "<div style=\"background-color:Bisque; color:DarkBlue; padding:30px;\">\n",
    "\n",
    "<i><b><span style=\"color: purple\"> Интерпретация </span>  $\\color{purple}\\beta_1$</b><br>\n",
    "\n",
    "При увеличении $x_1$ __на единицу__ при прочих равных\n",
    "(ceteris paribus) зависимая переменная $y$ __в среднем изменится__ на $\\beta_1$. </div>\n",
    "\n",
    "Другими словами $\\beta_1$ имеет смысл <span style=\"color: maroon\">среднего предельного значения</span>"
   ]
  },
  {
   "cell_type": "markdown",
   "metadata": {},
   "source": [
    "### Пример 2\n",
    "\n",
    "Рассмотрим линейную регрессию (__log всегда натуральный!__)\n",
    "\n",
    "$$\n",
    "\t\\log y=\\beta_0+\\beta_1x_1+\\cdots+u\n",
    "$$\n",
    "\n",
    "<div style=\"background-color:Bisque; color:DarkBlue; padding:30px;\">\n",
    "\n",
    "<i><b><span style=\"color: purple\"> Интерпретация </span>  $\\color{purple}\\beta_1$</b><br>\n",
    "\n",
    "При увеличении $x_1$ __на единицу__ при прочих равных\n",
    "(ceteris paribus) зависимая переменная $y$ __в среднем изменится__ на $\\beta_1\\cdot 100\\%$."
   ]
  },
  {
   "cell_type": "markdown",
   "metadata": {},
   "source": [
    "### Пример 3\n",
    "\n",
    "Рассмотрим линейную регрессию (__log всегда натуральный!__)\n",
    "\n",
    "$$\n",
    "\t\\log y=\\beta_0+\\beta_1\\log x_1+\\cdots+u\n",
    "$$\n",
    "\n",
    "<div style=\"background-color:Bisque; color:DarkBlue; padding:30px;\">\n",
    "\n",
    "<i><b><span style=\"color: purple\"> Интерпретация </span>  $\\color{purple}\\beta_1$</b><br>\n",
    "\n",
    "При увеличении $x_1$ __на 1%__ при прочих равных\n",
    "(ceteris paribus),зависимая переменная $y$ __в среднем изменится__ на $\\beta_1\\%$."
   ]
  },
  {
   "cell_type": "markdown",
   "metadata": {},
   "source": [
    "### Пример 4\n",
    "\n",
    "Рассмотрим линейную регрессию (__log всегда натуральный!__)\n",
    "\n",
    "$$\n",
    "\ty=\\beta_0+\\beta_1\\log x_1+\\cdots+u\n",
    "$$\n",
    "\n",
    "<div style=\"background-color:Bisque; color:DarkBlue; padding:30px;\">\n",
    "\n",
    "<i><b><span style=\"color: purple\"> Интерпретация </span>  $\\color{purple}\\beta_1$</b><br>\n",
    "\n",
    "При увеличении  $x_1$ __на 1%__ при прочих равных\n",
    "(ceteris paribus), зависимая переменная $y$ __в среднем изменится__ на $\\beta_1/100$."
   ]
  },
  {
   "cell_type": "markdown",
   "metadata": {},
   "source": [
    "## Бинарный регрессор\n",
    "\n",
    "Будем предполагать, что  $x_1$ – бинарный регрессор, т.е.\n",
    "\n",
    "$$\n",
    "\tx_1=\\begin{cases} 1 \\\\ 0\\end{cases}\n",
    "$$\n",
    "\n",
    "Рассмотрим линейную регрессию \n",
    "\n",
    "$$\n",
    "\ty=\\beta_0+\\beta_1x_1+\\cdots+u\n",
    "$$\n",
    "\n",
    "<div style=\"background-color:Bisque; color:DarkBlue; padding:30px;\">\n",
    "\n",
    "<i><b><span style=\"color: purple\"> Интерпретация </span>  $\\color{purple}\\beta_1$</b><br>\n",
    "\n",
    "__эффект воздействия/\"отдача\"__ (в среднем) от качественного признака при прочих равных (ceteris paribus)."
   ]
  },
  {
   "cell_type": "markdown",
   "metadata": {},
   "source": []
  }
 ],
 "metadata": {
  "kernelspec": {
   "display_name": "Python [conda env:courses]",
   "language": "python",
   "name": "conda-env-courses-py"
  },
  "language_info": {
   "codemirror_mode": {
    "name": "ipython",
    "version": 3
   },
   "file_extension": ".py",
   "mimetype": "text/x-python",
   "name": "python",
   "nbconvert_exporter": "python",
   "pygments_lexer": "ipython3",
   "version": "3.11.7"
  }
 },
 "nbformat": 4,
 "nbformat_minor": 4
}
