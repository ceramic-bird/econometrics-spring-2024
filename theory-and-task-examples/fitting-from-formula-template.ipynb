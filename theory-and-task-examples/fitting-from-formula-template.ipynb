{
 "cells": [
  {
   "cell_type": "markdown",
   "id": "db56e72a-1684-48cf-997d-b46ada807b0e",
   "metadata": {},
   "source": [
    "# Линейная регрессия: подгонка (через формулу)"
   ]
  },
  {
   "cell_type": "code",
   "execution_count": null,
   "id": "d1727dee-4bdb-4fb9-a41e-410104ddd7a9",
   "metadata": {},
   "outputs": [],
   "source": [
    "import numpy as np\n",
    "import pandas as pd\n",
    "import statsmodels.formula.api as smf\n",
    "\n",
    "# Не показывать FutureWarnings\n",
    "import warnings\n",
    "warnings.simplefilter(action='ignore', category=FutureWarning)"
   ]
  },
  {
   "cell_type": "code",
   "execution_count": null,
   "id": "d3ed4d98-914b-41f3-8e6b-5b8828bf422d",
   "metadata": {},
   "outputs": [],
   "source": [
    "# импорт данных\n",
    "df = pd.read_csv('Filename.csv')"
   ]
  },
  {
   "cell_type": "markdown",
   "id": "05110555-d2a6-4c81-8686-e23e188d7e29",
   "metadata": {},
   "source": [
    "## Спецификация и подгонка"
   ]
  },
  {
   "cell_type": "code",
   "execution_count": null,
   "id": "2abdc613-94fb-40e3-8008-da0a4a725124",
   "metadata": {},
   "outputs": [],
   "source": [
    "mod = smf.ols(formula = , data = df)\n",
    "res = mod.fit()"
   ]
  },
  {
   "cell_type": "markdown",
   "id": "2a6ce981-b8d3-41b1-b4e8-3730284b932d",
   "metadata": {},
   "source": [
    "коэффициенты подогнанной модели"
   ]
  },
  {
   "cell_type": "code",
   "execution_count": null,
   "id": "a8797252-746b-4e63-8c97-138a2dff898d",
   "metadata": {},
   "outputs": [],
   "source": [
    "res.params"
   ]
  },
  {
   "cell_type": "markdown",
   "id": "9d67afdc-fe72-4973-9ddc-4e5db0985151",
   "metadata": {},
   "source": [
    "коэффициенты подогнанной модели с округлением"
   ]
  },
  {
   "cell_type": "code",
   "execution_count": null,
   "id": "e2030af5-d5c0-4284-8a92-04e11345f5c3",
   "metadata": {},
   "outputs": [],
   "source": [
    "res.params.round(3)"
   ]
  },
  {
   "cell_type": "markdown",
   "id": "2bf13887-77c0-4ba2-b468-42175e1e2a97",
   "metadata": {},
   "source": [
    "## Интерпретация коэффициентов\n",
    "укажите здесь"
   ]
  }
 ],
 "metadata": {
  "kernelspec": {
   "display_name": "Python 3 (ipykernel)",
   "language": "python",
   "name": "python3"
  },
  "language_info": {
   "codemirror_mode": {
    "name": "ipython",
    "version": 3
   },
   "file_extension": ".py",
   "mimetype": "text/x-python",
   "name": "python",
   "nbconvert_exporter": "python",
   "pygments_lexer": "ipython3",
   "version": "3.11.5"
  }
 },
 "nbformat": 4,
 "nbformat_minor": 5
}
