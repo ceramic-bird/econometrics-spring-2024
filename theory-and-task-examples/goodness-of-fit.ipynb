{
 "cells": [
  {
   "cell_type": "markdown",
   "metadata": {},
   "source": [
    "# Степень подгонки модели регрессии\n",
    "\n",
    "Модель линейной регрессии\n",
    "\n",
    "\\begin{equation*}\n",
    "\ty=\\beta_0+\\beta_1x_1+\\cdots+\\beta_kx_k+u\n",
    "\\end{equation*}\n",
    "\n",
    "В матричной записи\n",
    "\n",
    "\\begin{align*}\n",
    "\ty&=x^\\top\\beta+u & \\beta&=\\begin{pmatrix} \\beta_0 \\\\ \\beta_1 \\\\ \\vdots \\\\ \\beta_k \\end{pmatrix} &\n",
    "\tx &=\\begin{pmatrix} 1 \\\\ x_1 \\\\ \\vdots \\\\ x_k \\end{pmatrix}\n",
    "\\end{align*}"
   ]
  },
  {
   "cell_type": "markdown",
   "metadata": {},
   "source": [
    "## Прогнозы и остатки\n",
    "\n",
    "Модель подгоняется (OLS) по серии из $n$ наблюдений (обучающая выборка)\n",
    "\n",
    "$$\n",
    "\t\\{y_i, x_{i1},\\ldots,x_{ik}\\}_{i=1}^n\n",
    "$$\n",
    "\n",
    "Коэффициенты подогнанной модели $\\hat{\\beta}=\\begin{pmatrix} \\hat{\\beta}_0 & \\hat{\\beta}_1 & \\cdots & \\hat{\\beta}_k \\end{pmatrix}^\\top$\n",
    "\n",
    "Для каждого наблюдения имеем\n",
    "\n",
    "* $y_i$ – фактическое наблюдение\n",
    "* $\\hat{y}_i$ – прогноз по подогнанной модели ($\\hat{y}_i=x_i^\\top\\hat{\\beta}$), подогнанные значения\n",
    "* $e_i=(y_i-\\hat{y}_i)$ – остаток/ошибка прогноза\n",
    "\n",
    "__Замечание__: т.к. модель включает $\\beta_0$, то $\\sum_{i=1}^n e_i=0$\n",
    "\n",
    "__Замечание__: для регрессии $\\log y=x^\\top\\beta+u$ прогноз $\\widehat{\\log y_i}=x_i^\\top\\hat{\\beta}$ и остаток $e_i=\\log y_i-\\widehat{\\log y_i}$"
   ]
  },
  {
   "cell_type": "markdown",
   "metadata": {},
   "source": [
    "## Разложение дисперсии\n",
    "\n",
    "Определим следующие величины\n",
    "\n",
    "* $TSS=\\sum_{i=1}^n\\left(y_i-\\bar{y}\\right)^2$ – общая сумма квадратов зависимой переменной\n",
    "* $ESS=\\sum_{i=1}^n\\left(\\hat{y}_i-\\bar{y}\\right)^2$ – объяснённая сумма квадратов зависимой переменной\n",
    "* $RSS=\\sum_{i=1}^n\\left(y_i-\\hat{y}_i\\right)^2=\\sum_{i=1}^n e^2_i$ – остаточная сумма квадратов зависимой переменной\n",
    "\n",
    "Тогда\n",
    "\n",
    "* $Var(y)=TSS/n$ – выборочная дисперсия $y$\n",
    "* $Var(\\hat{y})=ESS/n$ – дисперсия прогнозов $\\hat{y}$\n",
    "* $MSE=Var(e)=RSS/n$ – <span style=\"color: purple\">средняя квадратическая ошибка прогноза</span> (на обучающей выборке)/дисперсия остатков\n",
    "\n",
    "Стандартная ошибка регрессии\n",
    "\n",
    "$$\n",
    "\ts=\\sqrt{\\frac{RSS}{n-k-1}}\n",
    "$$\n",
    "\n",
    "<div style=\"background-color:Bisque; color:DarkBlue; padding:30px;\">\n",
    "\n",
    "<i><b><span style=\"color: purple\"> Разложение дисперсии </span> </b><br>\n",
    "\n",
    "Для линейной регрессии с $\\beta_0$ выполнено равенство\n",
    "\n",
    "$$\n",
    "\tVar(y)=Var(\\hat{y})+Var(e)\\Longleftrightarrow  \\frac{1}{n}TSS=\\frac{1}{n}ESS+\\frac{1}{n}RSS\n",
    "$$\n",
    "\n",
    "</div>"
   ]
  },
  {
   "cell_type": "markdown",
   "metadata": {},
   "source": [
    "## Коэффициент $R^2$\n",
    "\n",
    "Для линейной регрессии на выборочных данных определим\n",
    "\n",
    "<div style=\"background-color:Bisque; color:DarkBlue; padding:30px;\">\n",
    "\n",
    "<i><b><span style=\"color: purple\"> Коэффициент </span> $\\color{purple}R^2$ </b><br> \n",
    "\n",
    "Для линейной регрессии с $\\beta_0$ коэффициент $R^2$ или детерминации определяется как\n",
    "\n",
    "$$\n",
    "\tR^2=1-\\frac{Var(e)}{Var(y)}=1-\\frac{RSS}{TSS}=\\frac{ESS}{TSS}=\\frac{Var(\\hat{y})}{Var(y)}\n",
    "$$\n",
    "\n",
    "</i></div>\n",
    "\n",
    "Базовые свойства\n",
    "\n",
    "* $0\\leq R^2\\leq 1$\n",
    "* $R^2=0\\Leftrightarrow \\hat{y}_i=\\bar{y}\\Leftrightarrow \\hat{\\beta}_1=\\cdots=\\hat{\\beta}_k=0$\n",
    "* $R^2=1\\Leftrightarrow e_i=0\\Leftrightarrow y_i=\\hat{y}_i$\n",
    "* При добавлении новых регрессоров из того же датасета может только увеличиться\n",
    "\n",
    "<div style=\"background-color:Bisque; color:DarkBlue; padding:30px;\">\n",
    "\n",
    "<i><b><span style=\"color: purple\"> Интерпретация </span> $\\color{purple}R^2$ <span style=\"color: purple\"> как показателя \"качества подгонки\" модели </span> </b><br> \n",
    "\n",
    "Какая доля зависимой переменной объясняется моделью на выборочных данных\n",
    "\n",
    "</i></div>"
   ]
  },
  {
   "cell_type": "markdown",
   "metadata": {},
   "source": [
    "## Коэффициент $R^2_{adj}$\n",
    "\n",
    "Обозначим\n",
    "* $s^2_e=RSS/(n-k-1)$\n",
    "* $s^2_y=TSS/(n-1)$\n",
    "\n",
    "(это \"исправленные\" дисперсии)\n",
    "\n",
    "<div style=\"background-color:Bisque; color:DarkBlue; padding:30px;\">\n",
    "\n",
    "<i><b><span style=\"color: purple\"> Коэффициент </span> $\\color{purple}R^2_{adj}$ </b><br> \n",
    "\n",
    "Для линейной регрессии с $\\beta_0$ коэффициент скорректированный $R^2_{adj}$ определяется как\n",
    "\n",
    "$$\n",
    "\tR^2_{adj}=1-\\frac{s^2_e}{s^2_y}=1-\\frac{RSS/(n-k-1)}{TSS/(n-1)}=1-(1-R^2)\\frac{n-1}{n-k-1}\n",
    "$$\n",
    "\n",
    "</i></div>\n",
    "\n",
    "Базовые свойства\n",
    "\n",
    "* $R^2_{adj}\\leq R^2$\n",
    "* м.б. отрицательным\n",
    "* неинтерптетируем\n",
    "* используется для сравнения нескольких регрессий"
   ]
  },
  {
   "cell_type": "code",
   "execution_count": null,
   "metadata": {},
   "outputs": [],
   "source": [
    "# подключение библиотек\n",
    "import numpy as np\n",
    "import pandas as pd\n",
    "import statsmodels.formula.api as smf"
   ]
  },
  {
   "cell_type": "code",
   "execution_count": null,
   "metadata": {},
   "outputs": [],
   "source": [
    "# импорт данных из файла как DataFrame\n",
    "df = pd.read_csv('sleep75.csv')"
   ]
  },
  {
   "cell_type": "markdown",
   "metadata": {},
   "source": [
    "## Спецификация и подгонка"
   ]
  },
  {
   "cell_type": "code",
   "execution_count": null,
   "metadata": {},
   "outputs": [],
   "source": [
    "# спецификация модели через формулу\n",
    "mod = smf.ols(formula='sleep~1+totwrk+age+smsa', data=df)\n",
    "# подгонка модели\n",
    "res = mod.fit()"
   ]
  },
  {
   "cell_type": "code",
   "execution_count": null,
   "metadata": {},
   "outputs": [],
   "source": [
    "# параметры подогнанной модели регрессии\n",
    "res.params"
   ]
  },
  {
   "cell_type": "markdown",
   "metadata": {},
   "source": [
    "## Суммы квадратов"
   ]
  },
  {
   "cell_type": "code",
   "execution_count": null,
   "metadata": {},
   "outputs": [],
   "source": [
    "# TSS\n",
    "res.centered_tss"
   ]
  },
  {
   "cell_type": "code",
   "execution_count": null,
   "metadata": {},
   "outputs": [],
   "source": [
    "# ESS\n",
    "res.ess"
   ]
  },
  {
   "cell_type": "code",
   "execution_count": null,
   "metadata": {},
   "outputs": [],
   "source": [
    "# RSS\n",
    "res.ssr"
   ]
  },
  {
   "cell_type": "markdown",
   "metadata": {},
   "source": [
    "## Коэффициенты $R^2$ и $adj.R^2$"
   ]
  },
  {
   "cell_type": "code",
   "execution_count": null,
   "metadata": {},
   "outputs": [],
   "source": [
    "# R^2\n",
    "res.rsquared"
   ]
  },
  {
   "cell_type": "code",
   "execution_count": null,
   "metadata": {},
   "outputs": [],
   "source": [
    "# adj R^2\n",
    "res.rsquared_adj"
   ]
  },
  {
   "cell_type": "code",
   "execution_count": null,
   "metadata": {},
   "outputs": [],
   "source": [
    "# стандартная ошибка регрессии\n",
    "res.scale"
   ]
  },
  {
   "cell_type": "markdown",
   "metadata": {},
   "source": [
    "## Фактические значение зависимой переменной, предсказанные значения и остатки"
   ]
  },
  {
   "cell_type": "markdown",
   "metadata": {},
   "source": [
    "Рассмотрим наблюдения 1, 4, 6, 508 и 700 \n",
    "\n",
    "Зададим индексы (индексация в Python начинается с 0!)"
   ]
  },
  {
   "cell_type": "code",
   "execution_count": null,
   "metadata": {},
   "outputs": [],
   "source": [
    "# задаем индексы уменьшив их на единицу\n",
    "ind = np.array([1, 4, 6, 508, 700])-1"
   ]
  },
  {
   "cell_type": "code",
   "execution_count": null,
   "metadata": {},
   "outputs": [],
   "source": [
    "# Фактические значения\n",
    "df['sleep'].iloc[ind]"
   ]
  },
  {
   "cell_type": "code",
   "execution_count": null,
   "metadata": {},
   "outputs": [],
   "source": [
    "# Предсказанные значения\n",
    "res.fittedvalues[ind]"
   ]
  },
  {
   "cell_type": "code",
   "execution_count": null,
   "metadata": {},
   "outputs": [],
   "source": [
    "# Остатки\n",
    "res.resid[ind]"
   ]
  },
  {
   "cell_type": "markdown",
   "metadata": {},
   "source": [
    "## Как отфильтровать определенные строки из DataFrame?\n",
    "\n",
    "Выбор строк датасета по условию"
   ]
  },
  {
   "cell_type": "markdown",
   "metadata": {},
   "source": [
    "<div style=\"background-color:Bisque; color:DarkBlue; padding:30px;\">\n",
    "<img alt=\"\" src=\"data:image/svg+xml;base64,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\" />\n",
    "\n",
    "</div>"
   ]
  },
  {
   "cell_type": "markdown",
   "metadata": {},
   "source": [
    "Нас интересуют наблюдения только жителей мегаполиса, т.е жители, для которых `smsa=1`  "
   ]
  },
  {
   "cell_type": "markdown",
   "metadata": {},
   "source": [
    "Чтобы выбрать строки на основе условия, поместите условие в скобки выбора `[]`"
   ]
  },
  {
   "cell_type": "code",
   "execution_count": null,
   "metadata": {},
   "outputs": [],
   "source": [
    "df[df['smsa']==1]"
   ]
  },
  {
   "cell_type": "markdown",
   "metadata": {},
   "source": [
    "Условие `df['smsa']==1` внутри скобок выбора проверяет, для каких строк столбец `smsa` имеет значение равное 1"
   ]
  },
  {
   "cell_type": "markdown",
   "metadata": {},
   "source": [
    "Возможны и другие условные операторы\n",
    "\n",
    "| Оператор | Название |\n",
    "|:-------------:|:---------------:|\n",
    "| `<` | Меньше |\n",
    "| `>` | Больше |\n",
    "| `<=` | Меньше или равно |\n",
    "| `>=` | Больше или равно |\n",
    "| `==` | Равно |\n",
    "| `!=` | Не равно |\n"
   ]
  },
  {
   "cell_type": "markdown",
   "metadata": {},
   "source": [
    "При объединении нескольких условных операторов каждое условие должно быть заключено в круглые скобки `()`. \n",
    "\n",
    "Более того, вы не можете использовать `or` или `and`, а должны использовать `|` в качестве оператора `или` и `&` в качестве оператора `и`."
   ]
  }
 ],
 "metadata": {
  "kernelspec": {
   "display_name": "Python 3 (ipykernel)",
   "language": "python",
   "name": "python3"
  },
  "language_info": {
   "codemirror_mode": {
    "name": "ipython",
    "version": 3
   },
   "file_extension": ".py",
   "mimetype": "text/x-python",
   "name": "python",
   "nbconvert_exporter": "python",
   "pygments_lexer": "ipython3",
   "version": "3.11.5"
  }
 },
 "nbformat": 4,
 "nbformat_minor": 4
}
