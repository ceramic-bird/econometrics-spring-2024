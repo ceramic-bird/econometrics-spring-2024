{
 "cells": [
  {
   "cell_type": "markdown",
   "metadata": {},
   "source": [
    "# Регрессия со структурными сдвигами\n",
    "\n",
    "<div style=\"background-color:Bisque; color:DarkBlue; padding:30px;\">\n",
    "\n",
    "<i><b><span style=\"color: purple\"> Регрессия со структурными сдвигами </span> </b><br>\n",
    "\n",
    "Пусть\n",
    "\n",
    "* бинарная переменная $D$ отвечает за структурный сдвиг\n",
    "* $y$ – зависимая эндогенная переменная\n",
    "* $x=\\begin{pmatrix} 1 & x_1 & \\cdots & x_k \\end{pmatrix}$ – экзогенные регрессоры/предикторы\n",
    "\n",
    "Спецификация регрессии со структурными сдвигам вдоль переменной $D$\n",
    "\n",
    "$$\n",
    "\ty=x^\\top\\beta+(D\\cdot x)^\\top\\gamma+u=\\beta_0+\\beta_1x_1+\\cdots+\\gamma_0D+\\gamma_1 Dx_1+\\cdots+u\n",
    "$$\n",
    "\n",
    "Тогда\n",
    "* $\\gamma_0$ – структурный сдвиг константы\n",
    "* $\\gamma_j$ – структурный сдвиг \"отдачи\" от регрессора $x_j$ ($j=1,\\ldots$)\n",
    "\n",
    "</div>"
   ]
  },
  {
   "cell_type": "code",
   "execution_count": null,
   "metadata": {},
   "outputs": [],
   "source": [
    "import pandas as pd\n",
    "import numpy as np\n",
    "\n",
    "import statsmodels.formula.api as smf\n",
    "import statsmodels.api as sm\n",
    "\n",
    "import seaborn as sns"
   ]
  },
  {
   "cell_type": "code",
   "execution_count": null,
   "metadata": {},
   "outputs": [],
   "source": [
    "df = pd.read_csv('sleep75.csv')"
   ]
  },
  {
   "cell_type": "markdown",
   "metadata": {},
   "source": [
    "Рассмотрим регрессию __sleep на totwrk, age, smsa__ со сдвигами относительно гендерной переменной\n",
    "\n",
    "$$\n",
    "\tsleep=\\beta_0+\\beta_1totwrk+\\beta_2age+\\beta_3smsa+\\gamma_0 male+\\gamma_1 totwrk*male+\\gamma_2age*male+\\gamma_3smsa*male+u\n",
    "$$"
   ]
  },
  {
   "cell_type": "code",
   "execution_count": null,
   "metadata": {},
   "outputs": [],
   "source": [
    "mod = smf.ols(formula='sleep~1+totwrk+age+smsa+male+totwrk:male+age:male+smsa:male', data=df)\n",
    "#mod = smf.ols(formula='sleep~1+totwrk+age+smsa+male+totwrk*male+age*male+smsa*male', data=df) # тоже самое\n",
    "\n",
    "res = mod.fit()\n",
    "\n",
    "res.params"
   ]
  },
  {
   "cell_type": "markdown",
   "metadata": {},
   "source": [
    "Визуализация структурных сдвигов"
   ]
  },
  {
   "cell_type": "code",
   "execution_count": null,
   "metadata": {},
   "outputs": [],
   "source": [
    "sns.lmplot(data=df, x='totwrk', y='sleep', hue='male', ci=False, scatter_kws={'s':6})"
   ]
  },
  {
   "cell_type": "code",
   "execution_count": null,
   "metadata": {},
   "outputs": [],
   "source": [
    "sns.lmplot(data=df, x='age', y='sleep', hue='male', ci=False, scatter_kws={'s':6})"
   ]
  }
 ],
 "metadata": {
  "kernelspec": {
   "display_name": "Python [conda env:courses]",
   "language": "python",
   "name": "conda-env-courses-py"
  },
  "language_info": {
   "codemirror_mode": {
    "name": "ipython",
    "version": 3
   },
   "file_extension": ".py",
   "mimetype": "text/x-python",
   "name": "python",
   "nbconvert_exporter": "python",
   "pygments_lexer": "ipython3",
   "version": "3.11.7"
  }
 },
 "nbformat": 4,
 "nbformat_minor": 4
}
